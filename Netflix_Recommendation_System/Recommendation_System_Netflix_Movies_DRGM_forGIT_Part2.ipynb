{
 "cells": [
  {
   "cell_type": "code",
   "execution_count": 1,
   "metadata": {},
   "outputs": [
    {
     "name": "stdout",
     "output_type": "stream",
     "text": [
      "Python version used in this Jupyter Notebook 3.7.6\n"
     ]
    }
   ],
   "source": [
    "# Python version\n",
    "from platform import python_version\n",
    "print('Python version used in this Jupyter Notebook', python_version())"
   ]
  },
  {
   "cell_type": "markdown",
   "metadata": {},
   "source": [
    "## Netflix Movies Recommendation System"
   ]
  },
  {
   "cell_type": "markdown",
   "metadata": {},
   "source": [
    "## Installing and loading packages"
   ]
  },
  {
   "cell_type": "code",
   "execution_count": 2,
   "metadata": {},
   "outputs": [],
   "source": [
    "# Installing watermark package\n",
    "!pip install -q -U watermark"
   ]
  },
  {
   "cell_type": "code",
   "execution_count": 3,
   "metadata": {},
   "outputs": [],
   "source": [
    "# Imports\n",
    "import os\n",
    "import random\n",
    "import numpy as np\n",
    "import pandas as pd\n",
    "import matplotlib\n",
    "import matplotlib.pyplot as plt\n",
    "import scipy\n",
    "from scipy import sparse\n",
    "import sklearn\n",
    "from sklearn.metrics.pairwise import cosine_similarity\n",
    "import xgboost as xgb\n",
    "from datetime import datetime"
   ]
  },
  {
   "cell_type": "code",
   "execution_count": 4,
   "metadata": {},
   "outputs": [
    {
     "name": "stdout",
     "output_type": "stream",
     "text": [
      "Author: Jupyter Notebook of DRGM\n",
      "\n",
      "scipy     : 1.4.1\n",
      "numpy     : 1.21.6\n",
      "sklearn   : 0.24.2\n",
      "matplotlib: 3.4.2\n",
      "xgboost   : 1.5.0\n",
      "pandas    : 1.2.2\n",
      "\n"
     ]
    }
   ],
   "source": [
    "# Packages versions in this Jupyter Notebook\n",
    "%reload_ext watermark\n",
    "%watermark -a \"Jupyter Notebook of DRGM\" --iversions"
   ]
  },
  {
   "cell_type": "markdown",
   "metadata": {},
   "source": [
    "## Data Preparation\n",
    "\n",
    "Let's work with samples of the data, otherwise Jupyter Notebook will take many hours to run."
   ]
  },
  {
   "cell_type": "code",
   "execution_count": 59,
   "metadata": {
    "colab": {},
    "colab_type": "code",
    "id": "oBOQj4nmxrqD"
   },
   "outputs": [],
   "source": [
    "# Function to get sparse matrix sample\n",
    "def gera_amostra_matriz_esparsa(sparse_matrix, num_users, num_movies, path, verbose = True):\n",
    "    \n",
    "    # Tuple: (row, col) and (rating) of sparse matrix\n",
    "    row_ind, col_ind, ratings = sparse.find(sparse_matrix)\n",
    "    users = np.unique(row_ind)\n",
    "    movies = np.unique(col_ind)\n",
    "    \n",
    "    # Random seed to reproduce the random process\n",
    "    np.random.seed(15)\n",
    "    \n",
    "    # Users and movies samples\n",
    "    sample_users = np.random.choice(users, num_users, replace = True)\n",
    "    sample_movies = np.random.choice(movies, num_movies, replace = True)\n",
    "    \n",
    "    # Generate boolean mask\n",
    "    mask = np.logical_and(np.isin(row_ind, sample_users), np.isin(col_ind, sample_movies))\n",
    "    \n",
    "    # Sparse Matrix with the original matrix samples\n",
    "    amostra_matriz_esparsa = sparse.csr_matrix((ratings[mask], (row_ind[mask], col_ind[mask])),\n",
    "                                               shape = (max(sample_users) + 1, max(sample_movies) + 1))\n",
    "    \n",
    "    # Saving\n",
    "    print('Salvando em disco...')\n",
    "    sparse.save_npz(path, amostra_matriz_esparsa)\n",
    "    \n",
    "    if verbose:\n",
    "        print('Tarefa concluida! \\n')\n",
    "        \n",
    "    return amostra_matriz_esparsa"
   ]
  },
  {
   "cell_type": "markdown",
   "metadata": {
    "colab_type": "text",
    "id": "0jLFR-p1xrqG"
   },
   "source": [
    "### Generating training data sample"
   ]
  },
  {
   "cell_type": "code",
   "execution_count": 60,
   "metadata": {
    "colab": {},
    "colab_type": "code",
    "id": "l5dJ4yzVxrqH",
    "outputId": "acd9a972-167a-43d3-b5b5-59da9ee954b8"
   },
   "outputs": [
    {
     "name": "stdout",
     "output_type": "stream",
     "text": [
      "Matriz Original Carregada!\n",
      "Salvando em disco...\n",
      "Tarefa concluida! \n",
      "\n",
      "Wall time: 57.1 s\n"
     ]
    }
   ],
   "source": [
    "%%time\n",
    "\n",
    "# Path containing the sparse training matrix generated previously\n",
    "caminho_matriz_treino_original = 'dados/matriz_esparsa_treino.npz'\n",
    "\n",
    "# Loading sparse matrix\n",
    "matriz_esparsa_treino_loaded = sparse.load_npz(caminho_matriz_treino_original)\n",
    "print('Matriz Original Carregada!')\n",
    "\n",
    "# Path to save the sample\n",
    "path = 'dados/amostra_matriz_esparsa_treino.npz'\n",
    "\n",
    "# Getting ratings from 1000 users to 100 movies in the sparse training matrix\n",
    "amostra_matriz_esparsa_treino = gera_amostra_matriz_esparsa(matriz_esparsa_treino_loaded,\n",
    "                                                            num_users = 1000,\n",
    "                                                            num_movies = 100,\n",
    "                                                            path = path)"
   ]
  },
  {
   "cell_type": "markdown",
   "metadata": {
    "colab_type": "text",
    "id": "fQJ8BE0IxrqJ"
   },
   "source": [
    "### Generating Sample Test Data"
   ]
  },
  {
   "cell_type": "code",
   "execution_count": 61,
   "metadata": {
    "colab": {},
    "colab_type": "code",
    "id": "8tPszXJ1xrqJ",
    "outputId": "1bba0063-64bc-4393-d14b-2eb0ddfccf7e"
   },
   "outputs": [
    {
     "name": "stdout",
     "output_type": "stream",
     "text": [
      "Matriz Original Carregada!\n",
      "Salvando em disco...\n",
      "Tarefa concluida! \n",
      "\n",
      "Wall time: 10.8 s\n"
     ]
    }
   ],
   "source": [
    "%%time\n",
    "\n",
    "# Path containing the sparse training matrix generated previously\n",
    "caminho_matriz_teste_original = 'dados/matriz_esparsa_teste.npz'\n",
    "\n",
    "# Carregando a matriz de amostra, caso já exista\n",
    "matriz_esparsa_teste_loaded = sparse.load_npz(caminho_matriz_teste_original)\n",
    "print('Matriz Original Carregada!')\n",
    "\n",
    "# Loading the sample matrix if it already exists\n",
    "path = 'dados/amostra_matriz_esparsa_teste.npz'\n",
    "\n",
    "# Getting ratings from 200 users to 20 movies in the sparse training matrix\n",
    "amostra_matriz_esparsa_teste = gera_amostra_matriz_esparsa(matriz_esparsa_teste_loaded,\n",
    "                                                           num_users = 200,\n",
    "                                                           num_movies = 20,\n",
    "                                                           path = path)"
   ]
  },
  {
   "cell_type": "code",
   "execution_count": 62,
   "metadata": {},
   "outputs": [
    {
     "name": "stdout",
     "output_type": "stream",
     "text": [
      "Numero de avaliacoes na matriz com amostras de treino: 1421\n",
      "Numero de avaliacoes na matriz com amostras de teste: 6\n"
     ]
    }
   ],
   "source": [
    "# Resume\n",
    "print('Numero de avaliacoes na matriz com amostras de treino: {}'.format(amostra_matriz_esparsa_treino.count_nonzero()))\n",
    "print('Numero de avaliacoes na matriz com amostras de teste: {}'.format(amostra_matriz_esparsa_teste.count_nonzero()))"
   ]
  },
  {
   "cell_type": "markdown",
   "metadata": {},
   "source": [
    "Samples created. Change the number of users and number of movies if you want to work with larger samples."
   ]
  },
  {
   "cell_type": "markdown",
   "metadata": {
    "colab_type": "text",
    "id": "BgTx-m-cxrqM"
   },
   "source": [
    "### Metrics Extracted from Data\n",
    "\n",
    "Let's check some metrics from the data. Our model will predict the user rating of the movie."
   ]
  },
  {
   "cell_type": "code",
   "execution_count": 63,
   "metadata": {
    "colab": {},
    "colab_type": "code",
    "id": "Af8rljDExrqN"
   },
   "outputs": [],
   "source": [
    "# Create the dictionary\n",
    "amostra_medias_treino = dict()"
   ]
  },
  {
   "cell_type": "markdown",
   "metadata": {},
   "source": [
    "The function below will be used to calculate the average of ratings."
   ]
  },
  {
   "cell_type": "code",
   "execution_count": 64,
   "metadata": {},
   "outputs": [],
   "source": [
    "def calcula_media_ratings(sparse_matrix, of_users):\n",
    "    \n",
    "    # Média de avaliações\n",
    "    # 1 representa o eixo de usuários\n",
    "    # 0 representa o eixo de filmes\n",
    "    ax = 1 if of_users else 0\n",
    "\n",
    "    # Soma das avaliações\n",
    "    sum_of_ratings = sparse_matrix.sum(axis = ax).A1\n",
    "    \n",
    "    # Matriz booleana de avaliações (se um usuário avaliou ou não um filme)\n",
    "    is_rated = sparse_matrix != 0\n",
    "    \n",
    "    # Número de avaliações de cada usuário ou filme\n",
    "    no_of_ratings = is_rated.sum(axis = ax).A1\n",
    "    \n",
    "    # Ids da matriz esparsa, u de usuário (rows) e m de movie (columns)\n",
    "    u, m = sparse_matrix.shape\n",
    "    \n",
    "    # Dicionário de usuários e suas avaliações\n",
    "    average_ratings = {i: sum_of_ratings[i] / no_of_ratings[i]\n",
    "                                         for i in range(u if of_users else m)\n",
    "                                         if no_of_ratings[i] != 0}\n",
    "    \n",
    "    return average_ratings"
   ]
  },
  {
   "cell_type": "markdown",
   "metadata": {
    "colab_type": "text",
    "id": "ZNMVuqWHxrqP"
   },
   "source": [
    "Overall average of movie ratings:"
   ]
  },
  {
   "cell_type": "code",
   "execution_count": 65,
   "metadata": {
    "colab": {},
    "colab_type": "code",
    "id": "eJN92jujxrqQ",
    "outputId": "bfce9a93-dfa0-4c96-fbf4-fb597a2e336d"
   },
   "outputs": [
    {
     "data": {
      "text/plain": [
       "{'global': 3.6030964109781842}"
      ]
     },
     "execution_count": 65,
     "metadata": {},
     "output_type": "execute_result"
    }
   ],
   "source": [
    "# Overall average\n",
    "media_global = amostra_matriz_esparsa_treino.sum() / amostra_matriz_esparsa_treino.count_nonzero()\n",
    "amostra_medias_treino['global'] = media_global\n",
    "amostra_medias_treino"
   ]
  },
  {
   "cell_type": "markdown",
   "metadata": {
    "colab_type": "text",
    "id": "A3ldVasnxrqS"
   },
   "source": [
    "Average rating per user:"
   ]
  },
  {
   "cell_type": "code",
   "execution_count": 66,
   "metadata": {
    "colab": {},
    "colab_type": "code",
    "id": "iLBPu2ObxrqT",
    "outputId": "85af4594-80f1-4dc9-9588-6372e62db396",
    "scrolled": true
   },
   "outputs": [],
   "source": [
    "# Calculates average user rating\n",
    "amostra_medias_treino['user'] = calcula_media_ratings(amostra_matriz_esparsa_treino, of_users = True)"
   ]
  },
  {
   "cell_type": "code",
   "execution_count": 67,
   "metadata": {},
   "outputs": [
    {
     "data": {
      "text/plain": [
       "4540"
      ]
     },
     "execution_count": 67,
     "metadata": {},
     "output_type": "execute_result"
    }
   ],
   "source": [
    "# Let's extract one of the users from the movie dictionary (the goal here is just to automate the process)\n",
    "um_usuario = [a for a, b in amostra_medias_treino['user'].items()][0]\n",
    "um_usuario"
   ]
  },
  {
   "cell_type": "code",
   "execution_count": 68,
   "metadata": {},
   "outputs": [
    {
     "name": "stdout",
     "output_type": "stream",
     "text": [
      "Media de Avaliacao do Usuario 4540: 4.0\n"
     ]
    }
   ],
   "source": [
    "# Print\n",
    "print('Media de Avaliacao do Usuario ' + str(um_usuario) + ':', amostra_medias_treino['user'][um_usuario])"
   ]
  },
  {
   "cell_type": "markdown",
   "metadata": {
    "colab_type": "text",
    "id": "qiVaPz6AxrqV"
   },
   "source": [
    "Average rating per movie:"
   ]
  },
  {
   "cell_type": "code",
   "execution_count": 69,
   "metadata": {
    "colab": {},
    "colab_type": "code",
    "id": "q8QD09k4xrqV",
    "outputId": "2b01a6e0-6a5e-4c90-d7f3-98c75cf14c3b",
    "scrolled": true
   },
   "outputs": [],
   "source": [
    "# Calculates the average rating of movies\n",
    "amostra_medias_treino['movie'] =  calcula_media_ratings(amostra_matriz_esparsa_treino, of_users = False)"
   ]
  },
  {
   "cell_type": "code",
   "execution_count": 70,
   "metadata": {},
   "outputs": [
    {
     "data": {
      "text/plain": [
       "130"
      ]
     },
     "execution_count": 70,
     "metadata": {},
     "output_type": "execute_result"
    }
   ],
   "source": [
    "# Let's extract one of the movies from the movie dictionary (the goal here is just to automate the process)\n",
    "um_filme = [a for a, b in amostra_medias_treino['movie'].items()][0]\n",
    "um_filme"
   ]
  },
  {
   "cell_type": "code",
   "execution_count": 71,
   "metadata": {},
   "outputs": [
    {
     "name": "stdout",
     "output_type": "stream",
     "text": [
      "Média de Avaliação do Filme 130: 2.0\n"
     ]
    }
   ],
   "source": [
    "# Print\n",
    "print('Média de Avaliação do Filme ' + str(um_filme) + ':', amostra_medias_treino['movie'][um_filme])"
   ]
  },
  {
   "cell_type": "markdown",
   "metadata": {
    "colab_type": "text",
    "id": "xVwLprg-xrqZ"
   },
   "source": [
    "## Formatting the Data\n",
    "\n",
    "We will build a regression model, since we want to predict the evaluations (numerical values). Let's prepare the training and test data below.\n",
    "\n",
    "These are the variables with which we will build the model:"
   ]
  },
  {
   "cell_type": "markdown",
   "metadata": {},
   "source": [
    "Predictor Variables (input)::\n",
    "\n",
    "- **GAvg** : Global average of evaluations\n",
    "\n",
    "\n",
    "- **Rating from similar users**:\n",
    "    - sur1, sur2, sur3, sur4, sur5 (top 5 users similar to each user who rated a movie)\n",
    "    \n",
    "\n",
    "- **Similar movies rated by a user**:\n",
    "    - smr1, smr2, smr3, smr4, smr5 (Top 5 movies similar to each movie rated)\n",
    "\n",
    "\n",
    "- **UAvg** : Average user ratings\n",
    "\n",
    "\n",
    "- **MAvg** : Average movie rating\n",
    "\n",
    "\n",
    "Target Variable (output):\n",
    "\n",
    "- **rating** : Rating of the movie given by a user"
   ]
  },
  {
   "cell_type": "markdown",
   "metadata": {
    "colab_type": "text",
    "id": "GZ7FYSibxrqc"
   },
   "source": [
    "### Preparing Training Data for the Regression Model"
   ]
  },
  {
   "cell_type": "code",
   "execution_count": 72,
   "metadata": {
    "colab": {},
    "colab_type": "code",
    "id": "jMTXqVR3xrqd"
   },
   "outputs": [],
   "source": [
    "# Extracting data from the sample matrix\n",
    "amostra_usuarios_treino, amostra_filmes_treino, amostra_avaliacoes_treino = sparse.find(amostra_matriz_esparsa_treino)"
   ]
  },
  {
   "cell_type": "markdown",
   "metadata": {},
   "source": [
    "The cell below takes a long time to run."
   ]
  },
  {
   "cell_type": "code",
   "execution_count": 73,
   "metadata": {
    "colab": {},
    "colab_type": "code",
    "id": "Hr_gXr0ixrqh",
    "outputId": "51abb095-433c-4404-be97-bbe8311b02f4",
    "scrolled": true
   },
   "outputs": [
    {
     "name": "stdout",
     "output_type": "stream",
     "text": [
      "Preparando 3 tuplas para o dataset..\n",
      "\n",
      "Wall time: 4min 36s\n"
     ]
    }
   ],
   "source": [
    "%%time\n",
    "\n",
    "# We check if the file already exists\n",
    "if os.path.isfile('dados/dados_treino_reg.csv'):\n",
    "    print(\"O arquivo já existe e não precisamos criar movamente...\" )\n",
    "else:\n",
    "    print('Preparando {} tuplas para o dataset..\\n'.format(len(amostra_medias_treino)))\n",
    "    with open('dados/dados_treino_reg.csv', mode = 'w') as reg_data_file:\n",
    "        count = 0\n",
    "        for (user, movie, rating) in zip(amostra_usuarios_treino, amostra_filmes_treino, amostra_avaliacoes_treino):\n",
    "             \n",
    "            ###### Rating of a \"movie\" by users similar to the current user ######\n",
    "            \n",
    "            # Calculate user similar to current user        \n",
    "            user_sim = cosine_similarity(amostra_matriz_esparsa_treino[user], \n",
    "                                         amostra_matriz_esparsa_treino).ravel()\n",
    "            \n",
    "            # Get top users\n",
    "            top_sim_users = user_sim.argsort()[::-1][1:] \n",
    "            \n",
    "            # Get reviews from similar users\n",
    "            top_ratings = amostra_matriz_esparsa_treino[top_sim_users, movie].toarray().ravel()\n",
    "            \n",
    "            # Top similar users up to 5\n",
    "            top_sim_users_ratings = list(top_ratings[top_ratings != 0][:5])\n",
    "            top_sim_users_ratings.extend([amostra_medias_treino['movie'][movie]]*(5 - len(top_sim_users_ratings))) \n",
    "\n",
    "            ##### User ratings for movies similar to the current movie #####\n",
    "            \n",
    "            # Calculates films similar to the current film       \n",
    "            movie_sim = cosine_similarity(amostra_matriz_esparsa_treino[:,movie].T, \n",
    "                                          amostra_matriz_esparsa_treino.T).ravel()\n",
    "            \n",
    "            # Top movies\n",
    "            top_sim_movies = movie_sim.argsort()[::-1][1:] \n",
    "            \n",
    "            # Get ratings of the most similar movie for the current user\n",
    "            top_ratings = amostra_matriz_esparsa_treino[user, top_sim_movies].toarray().ravel()\n",
    "            \n",
    "            # Top similar users up to 5\n",
    "            top_sim_movies_ratings = list(top_ratings[top_ratings != 0][:5])\n",
    "            top_sim_movies_ratings.extend([amostra_medias_treino['user'][user]] * (5-len(top_sim_movies_ratings))) \n",
    "\n",
    "            ##### Prepare the line to be stored in the file #####\n",
    "            row = list()\n",
    "            row.append(user)\n",
    "            row.append(movie)\n",
    "            \n",
    "            # We added other attributes \n",
    "            row.append(amostra_medias_treino['global']) \n",
    "            row.extend(top_sim_users_ratings)\n",
    "            row.extend(top_sim_movies_ratings)\n",
    "            row.append(amostra_medias_treino['user'][user])\n",
    "            row.append(amostra_medias_treino['movie'][movie])\n",
    "\n",
    "            row.append(rating)\n",
    "            count = count + 1\n",
    "            \n",
    "            #if count == 10:\n",
    "            #    break\n",
    "\n",
    "            reg_data_file.write(','.join(map(str, row)))\n",
    "            reg_data_file.write('\\n')        \n",
    "            if (count)%10000 == 0:\n",
    "                print(\"Concluído para {} linhas----- {}\".format(count, datetime.now() - start))"
   ]
  },
  {
   "cell_type": "markdown",
   "metadata": {
    "colab_type": "text",
    "id": "k3xJ8aWyxrqj"
   },
   "source": [
    "We load the file and place it in a dataframe."
   ]
  },
  {
   "cell_type": "code",
   "execution_count": 74,
   "metadata": {
    "colab": {},
    "colab_type": "code",
    "id": "oUs6s6AZxrqj",
    "outputId": "b19997be-2750-4ab7-bd92-8cd23ea2a64e"
   },
   "outputs": [],
   "source": [
    "df_dados_treino_reg = pd.read_csv('dados/dados_treino_reg.csv', \n",
    "                               names = ['user', \n",
    "                                        'movie', \n",
    "                                        'GAvg', \n",
    "                                        'sur1', \n",
    "                                        'sur2', \n",
    "                                        'sur3', \n",
    "                                        'sur4', \n",
    "                                        'sur5',\n",
    "                                        'smr1', \n",
    "                                        'smr2', \n",
    "                                        'smr3', \n",
    "                                        'smr4', \n",
    "                                        'smr5', \n",
    "                                        'UAvg', \n",
    "                                        'MAvg', \n",
    "                                        'rating'], \n",
    "                               header = None)"
   ]
  },
  {
   "cell_type": "code",
   "execution_count": 75,
   "metadata": {},
   "outputs": [
    {
     "data": {
      "text/html": [
       "<div>\n",
       "<style scoped>\n",
       "    .dataframe tbody tr th:only-of-type {\n",
       "        vertical-align: middle;\n",
       "    }\n",
       "\n",
       "    .dataframe tbody tr th {\n",
       "        vertical-align: top;\n",
       "    }\n",
       "\n",
       "    .dataframe thead th {\n",
       "        text-align: right;\n",
       "    }\n",
       "</style>\n",
       "<table border=\"1\" class=\"dataframe\">\n",
       "  <thead>\n",
       "    <tr style=\"text-align: right;\">\n",
       "      <th></th>\n",
       "      <th>user</th>\n",
       "      <th>movie</th>\n",
       "      <th>GAvg</th>\n",
       "      <th>sur1</th>\n",
       "      <th>sur2</th>\n",
       "      <th>sur3</th>\n",
       "      <th>sur4</th>\n",
       "      <th>sur5</th>\n",
       "      <th>smr1</th>\n",
       "      <th>smr2</th>\n",
       "      <th>smr3</th>\n",
       "      <th>smr4</th>\n",
       "      <th>smr5</th>\n",
       "      <th>UAvg</th>\n",
       "      <th>MAvg</th>\n",
       "      <th>rating</th>\n",
       "    </tr>\n",
       "  </thead>\n",
       "  <tbody>\n",
       "    <tr>\n",
       "      <th>0</th>\n",
       "      <td>2305904</td>\n",
       "      <td>130</td>\n",
       "      <td>3.603096</td>\n",
       "      <td>2.0</td>\n",
       "      <td>2.0</td>\n",
       "      <td>2.000000</td>\n",
       "      <td>2.000000</td>\n",
       "      <td>2.000000</td>\n",
       "      <td>5.0</td>\n",
       "      <td>3.5</td>\n",
       "      <td>3.5</td>\n",
       "      <td>3.5</td>\n",
       "      <td>3.5</td>\n",
       "      <td>3.500000</td>\n",
       "      <td>2.000000</td>\n",
       "      <td>2</td>\n",
       "    </tr>\n",
       "    <tr>\n",
       "      <th>1</th>\n",
       "      <td>662124</td>\n",
       "      <td>429</td>\n",
       "      <td>3.603096</td>\n",
       "      <td>2.0</td>\n",
       "      <td>2.0</td>\n",
       "      <td>2.666667</td>\n",
       "      <td>2.666667</td>\n",
       "      <td>2.666667</td>\n",
       "      <td>5.0</td>\n",
       "      <td>4.0</td>\n",
       "      <td>5.0</td>\n",
       "      <td>3.0</td>\n",
       "      <td>3.0</td>\n",
       "      <td>3.733333</td>\n",
       "      <td>2.666667</td>\n",
       "      <td>4</td>\n",
       "    </tr>\n",
       "    <tr>\n",
       "      <th>2</th>\n",
       "      <td>1364103</td>\n",
       "      <td>429</td>\n",
       "      <td>3.603096</td>\n",
       "      <td>2.0</td>\n",
       "      <td>4.0</td>\n",
       "      <td>2.666667</td>\n",
       "      <td>2.666667</td>\n",
       "      <td>2.666667</td>\n",
       "      <td>2.0</td>\n",
       "      <td>5.0</td>\n",
       "      <td>5.0</td>\n",
       "      <td>1.0</td>\n",
       "      <td>4.0</td>\n",
       "      <td>3.100000</td>\n",
       "      <td>2.666667</td>\n",
       "      <td>2</td>\n",
       "    </tr>\n",
       "    <tr>\n",
       "      <th>3</th>\n",
       "      <td>2475820</td>\n",
       "      <td>429</td>\n",
       "      <td>3.603096</td>\n",
       "      <td>4.0</td>\n",
       "      <td>2.0</td>\n",
       "      <td>2.666667</td>\n",
       "      <td>2.666667</td>\n",
       "      <td>2.666667</td>\n",
       "      <td>3.0</td>\n",
       "      <td>4.0</td>\n",
       "      <td>4.0</td>\n",
       "      <td>4.0</td>\n",
       "      <td>4.0</td>\n",
       "      <td>3.550000</td>\n",
       "      <td>2.666667</td>\n",
       "      <td>2</td>\n",
       "    </tr>\n",
       "    <tr>\n",
       "      <th>4</th>\n",
       "      <td>857031</td>\n",
       "      <td>917</td>\n",
       "      <td>3.603096</td>\n",
       "      <td>5.0</td>\n",
       "      <td>5.0</td>\n",
       "      <td>5.000000</td>\n",
       "      <td>5.000000</td>\n",
       "      <td>5.000000</td>\n",
       "      <td>3.0</td>\n",
       "      <td>4.0</td>\n",
       "      <td>4.0</td>\n",
       "      <td>4.0</td>\n",
       "      <td>4.0</td>\n",
       "      <td>4.000000</td>\n",
       "      <td>5.000000</td>\n",
       "      <td>5</td>\n",
       "    </tr>\n",
       "  </tbody>\n",
       "</table>\n",
       "</div>"
      ],
      "text/plain": [
       "      user  movie      GAvg  sur1  sur2      sur3      sur4      sur5  smr1  \\\n",
       "0  2305904    130  3.603096   2.0   2.0  2.000000  2.000000  2.000000   5.0   \n",
       "1   662124    429  3.603096   2.0   2.0  2.666667  2.666667  2.666667   5.0   \n",
       "2  1364103    429  3.603096   2.0   4.0  2.666667  2.666667  2.666667   2.0   \n",
       "3  2475820    429  3.603096   4.0   2.0  2.666667  2.666667  2.666667   3.0   \n",
       "4   857031    917  3.603096   5.0   5.0  5.000000  5.000000  5.000000   3.0   \n",
       "\n",
       "   smr2  smr3  smr4  smr5      UAvg      MAvg  rating  \n",
       "0   3.5   3.5   3.5   3.5  3.500000  2.000000       2  \n",
       "1   4.0   5.0   3.0   3.0  3.733333  2.666667       4  \n",
       "2   5.0   5.0   1.0   4.0  3.100000  2.666667       2  \n",
       "3   4.0   4.0   4.0   4.0  3.550000  2.666667       2  \n",
       "4   4.0   4.0   4.0   4.0  4.000000  5.000000       5  "
      ]
     },
     "execution_count": 75,
     "metadata": {},
     "output_type": "execute_result"
    }
   ],
   "source": [
    "# Data\n",
    "df_dados_treino_reg.head()"
   ]
  },
  {
   "cell_type": "markdown",
   "metadata": {
    "colab_type": "text",
    "id": "r9vMR-Edxrqm"
   },
   "source": [
    "### Preparing Test Data for the Regression Model\n",
    "\n",
    "The process here is the same as what we did with training data."
   ]
  },
  {
   "cell_type": "code",
   "execution_count": 76,
   "metadata": {
    "colab": {},
    "colab_type": "code",
    "id": "M2QBhCcMxrqm"
   },
   "outputs": [],
   "source": [
    "# Extracting data from the sample matrix\n",
    "amostra_usuarios_teste, amostra_filmes_teste, amostra_avaliacoes_teste = sparse.find(amostra_matriz_esparsa_teste)"
   ]
  },
  {
   "cell_type": "code",
   "execution_count": 77,
   "metadata": {
    "colab": {},
    "colab_type": "code",
    "id": "CLVejZA3xrqs",
    "outputId": "767f43c5-ad21-43db-c636-4bc220000fa2"
   },
   "outputs": [
    {
     "name": "stdout",
     "output_type": "stream",
     "text": [
      "Preparando 6 tuplas para o dataset...\n",
      "\n",
      "Wall time: 1.06 s\n"
     ]
    }
   ],
   "source": [
    "%%time\n",
    "\n",
    "if os.path.isfile('dados/dados_teste.reg.csv'):\n",
    "    print('O arquivo ja existe e nao precisamos criar novamente...')\n",
    "else:\n",
    "    \n",
    "    print('Preparando {} tuplas para o dataset...\\n'.format(len(amostra_avaliacoes_teste)))\n",
    "    with open('dados/dados_teste_reg.csv', mode = 'w') as reg_data_file:\n",
    "        count = 0\n",
    "        for (user, movie, rating) in zip(amostra_usuarios_teste, amostra_filmes_teste, amostra_avaliacoes_teste):\n",
    "            st = datetime.now()\n",
    "\n",
    "            # Similarity of users\n",
    "            try:\n",
    "                user_sim = cosine_similarity(amostra_matriz_esparsa_treino[user],\n",
    "                                             amostra_matriz_esparsa_treino).ravel()\n",
    "                \n",
    "                top_sim_users = user_sim.argsort()[::-1][1:]\n",
    "                top_ratings = amostra_matriz_esparsa_treino[top_sim_users, movie].toarray().ravel()\n",
    "                top_sim_users_ratings = list(top_ratings[top_ratings != 0][:5])\n",
    "                top_sim_users_ratings.extend([amostra_medias_treino['movie'][movie]] * (5 - len(top_sim_users_ratings)))\n",
    "            \n",
    "            except(IndexError, KeyError):\n",
    "                top_sim_users_ratings.extend([amostra_medias_treino['global']] * (5 - len(top_sim_users_ratings)))\n",
    "            except:\n",
    "                print(user, movie)\n",
    "                raise\n",
    "                \n",
    "            # Similarity of movies\n",
    "            try:\n",
    "                movie_sim = cosine_similarity(amostra_matriz_esparsa_treino[:, movie].T,\n",
    "                                              amostra_matriz_esparsa_treino.T).ravel()\n",
    "                \n",
    "                top_sim_movies = movie_sim.argsort()[::-1][1:]\n",
    "                top_ratings = amostra_matriz_esparsa_treino[user, top_sim_movies].toarray().ravel()\n",
    "                top_sim_movies_ratings = list(top_ratings[top_ratings != 0][:5])\n",
    "                top_sim_movies_ratings.extend([amostra_medias_treino['user'][user]] * (5 - len(top_sim_users_ratings)))\n",
    "            except (IndexError, KeyError):\n",
    "                top_sim_users_ratings.extend([amostra_medias_treino['global']] * (5 - len(top_sim_movies_ratings)))\n",
    "            except:\n",
    "                raise\n",
    "\n",
    "            # Prepare data to write to file\n",
    "            row = list()\n",
    "            row.append(user)\n",
    "            row.append(movie)\n",
    "            row.append(amostra_medias_treino['global'])\n",
    "            row.extend(top_sim_users_ratings)\n",
    "            row.extend(top_sim_movies_ratings)\n",
    "            \n",
    "            try:\n",
    "                row.append(amostra_medias_treino['user'][user])\n",
    "            except KeyError:\n",
    "                row.append(amostra_medias_treino['global'])\n",
    "            except:\n",
    "                raise\n",
    "                \n",
    "            row.append(rating)\n",
    "            \n",
    "            count = count + 1\n",
    "            \n",
    "            #if count == 5:\n",
    "            #    break\n",
    "            \n",
    "            reg_data_file.write(','.join(map(str, row)))\n",
    "            reg_data_file.write('\\n')\n",
    "            if (count) % 1000 == 0:\n",
    "                print('Concluido em {} linhas------{}'.format(count, datetime.now() - start))            "
   ]
  },
  {
   "cell_type": "markdown",
   "metadata": {
    "colab_type": "text",
    "id": "RgiFyKukxrqu"
   },
   "source": [
    "We load the file and place it in a dataframe."
   ]
  },
  {
   "cell_type": "code",
   "execution_count": 78,
   "metadata": {
    "colab": {},
    "colab_type": "code",
    "id": "7mhv5Rztxrqv",
    "outputId": "21381d8c-b5da-499d-a1b2-9052b78f2549"
   },
   "outputs": [],
   "source": [
    "# Generate the test dataset\n",
    "df_dados_teste_reg = pd.read_csv('dados/dados_teste_reg.csv', names = ['user',\n",
    "                                                                       'movie',\n",
    "                                                                       'GAvg',\n",
    "                                                                       'sur1',\n",
    "                                                                       'sur2',\n",
    "                                                                       'sur3',\n",
    "                                                                       'sur4',\n",
    "                                                                       'sur5',\n",
    "                                                                       'smr1',\n",
    "                                                                       'smr2',\n",
    "                                                                       'smr3',\n",
    "                                                                       'smr4',\n",
    "                                                                       'smr5',\n",
    "                                                                       'UAvg',\n",
    "                                                                       'MAvg',\n",
    "                                                                       'rating'],\n",
    "                                header = None)"
   ]
  },
  {
   "cell_type": "code",
   "execution_count": 79,
   "metadata": {
    "scrolled": true
   },
   "outputs": [
    {
     "data": {
      "text/html": [
       "<div>\n",
       "<style scoped>\n",
       "    .dataframe tbody tr th:only-of-type {\n",
       "        vertical-align: middle;\n",
       "    }\n",
       "\n",
       "    .dataframe tbody tr th {\n",
       "        vertical-align: top;\n",
       "    }\n",
       "\n",
       "    .dataframe thead th {\n",
       "        text-align: right;\n",
       "    }\n",
       "</style>\n",
       "<table border=\"1\" class=\"dataframe\">\n",
       "  <thead>\n",
       "    <tr style=\"text-align: right;\">\n",
       "      <th></th>\n",
       "      <th>user</th>\n",
       "      <th>movie</th>\n",
       "      <th>GAvg</th>\n",
       "      <th>sur1</th>\n",
       "      <th>sur2</th>\n",
       "      <th>sur3</th>\n",
       "      <th>sur4</th>\n",
       "      <th>sur5</th>\n",
       "      <th>smr1</th>\n",
       "      <th>smr2</th>\n",
       "      <th>smr3</th>\n",
       "      <th>smr4</th>\n",
       "      <th>smr5</th>\n",
       "      <th>UAvg</th>\n",
       "      <th>MAvg</th>\n",
       "      <th>rating</th>\n",
       "    </tr>\n",
       "  </thead>\n",
       "  <tbody>\n",
       "    <tr>\n",
       "      <th>0</th>\n",
       "      <td>1667387</td>\n",
       "      <td>1833</td>\n",
       "      <td>3.603096</td>\n",
       "      <td>3.603096</td>\n",
       "      <td>3.603096</td>\n",
       "      <td>3.603096</td>\n",
       "      <td>3.603096</td>\n",
       "      <td>3.603096</td>\n",
       "      <td>3.603096</td>\n",
       "      <td>3.603096</td>\n",
       "      <td>3.603096</td>\n",
       "      <td>3.603096</td>\n",
       "      <td>3.603096</td>\n",
       "      <td>3.603096</td>\n",
       "      <td>4</td>\n",
       "      <td>NaN</td>\n",
       "    </tr>\n",
       "    <tr>\n",
       "      <th>1</th>\n",
       "      <td>163650</td>\n",
       "      <td>3835</td>\n",
       "      <td>3.603096</td>\n",
       "      <td>3.603096</td>\n",
       "      <td>3.603096</td>\n",
       "      <td>3.603096</td>\n",
       "      <td>3.603096</td>\n",
       "      <td>3.603096</td>\n",
       "      <td>3.603096</td>\n",
       "      <td>3.603096</td>\n",
       "      <td>3.603096</td>\n",
       "      <td>3.603096</td>\n",
       "      <td>3.603096</td>\n",
       "      <td>3.603096</td>\n",
       "      <td>4</td>\n",
       "      <td>NaN</td>\n",
       "    </tr>\n",
       "    <tr>\n",
       "      <th>2</th>\n",
       "      <td>1154263</td>\n",
       "      <td>3835</td>\n",
       "      <td>3.603096</td>\n",
       "      <td>3.603096</td>\n",
       "      <td>3.603096</td>\n",
       "      <td>3.603096</td>\n",
       "      <td>3.603096</td>\n",
       "      <td>3.603096</td>\n",
       "      <td>3.603096</td>\n",
       "      <td>3.603096</td>\n",
       "      <td>3.603096</td>\n",
       "      <td>3.603096</td>\n",
       "      <td>3.603096</td>\n",
       "      <td>3.603096</td>\n",
       "      <td>3</td>\n",
       "      <td>NaN</td>\n",
       "    </tr>\n",
       "    <tr>\n",
       "      <th>3</th>\n",
       "      <td>1637793</td>\n",
       "      <td>3835</td>\n",
       "      <td>3.603096</td>\n",
       "      <td>3.603096</td>\n",
       "      <td>3.603096</td>\n",
       "      <td>3.603096</td>\n",
       "      <td>3.603096</td>\n",
       "      <td>3.603096</td>\n",
       "      <td>3.603096</td>\n",
       "      <td>3.603096</td>\n",
       "      <td>3.603096</td>\n",
       "      <td>3.603096</td>\n",
       "      <td>3.603096</td>\n",
       "      <td>3.603096</td>\n",
       "      <td>3</td>\n",
       "      <td>NaN</td>\n",
       "    </tr>\n",
       "    <tr>\n",
       "      <th>4</th>\n",
       "      <td>1920310</td>\n",
       "      <td>3835</td>\n",
       "      <td>3.603096</td>\n",
       "      <td>3.603096</td>\n",
       "      <td>3.603096</td>\n",
       "      <td>3.603096</td>\n",
       "      <td>3.603096</td>\n",
       "      <td>3.603096</td>\n",
       "      <td>3.603096</td>\n",
       "      <td>3.603096</td>\n",
       "      <td>3.603096</td>\n",
       "      <td>3.603096</td>\n",
       "      <td>3.603096</td>\n",
       "      <td>3.603096</td>\n",
       "      <td>2</td>\n",
       "      <td>NaN</td>\n",
       "    </tr>\n",
       "  </tbody>\n",
       "</table>\n",
       "</div>"
      ],
      "text/plain": [
       "      user  movie      GAvg      sur1      sur2      sur3      sur4      sur5  \\\n",
       "0  1667387   1833  3.603096  3.603096  3.603096  3.603096  3.603096  3.603096   \n",
       "1   163650   3835  3.603096  3.603096  3.603096  3.603096  3.603096  3.603096   \n",
       "2  1154263   3835  3.603096  3.603096  3.603096  3.603096  3.603096  3.603096   \n",
       "3  1637793   3835  3.603096  3.603096  3.603096  3.603096  3.603096  3.603096   \n",
       "4  1920310   3835  3.603096  3.603096  3.603096  3.603096  3.603096  3.603096   \n",
       "\n",
       "       smr1      smr2      smr3      smr4      smr5      UAvg  MAvg  rating  \n",
       "0  3.603096  3.603096  3.603096  3.603096  3.603096  3.603096     4     NaN  \n",
       "1  3.603096  3.603096  3.603096  3.603096  3.603096  3.603096     4     NaN  \n",
       "2  3.603096  3.603096  3.603096  3.603096  3.603096  3.603096     3     NaN  \n",
       "3  3.603096  3.603096  3.603096  3.603096  3.603096  3.603096     3     NaN  \n",
       "4  3.603096  3.603096  3.603096  3.603096  3.603096  3.603096     2     NaN  "
      ]
     },
     "execution_count": 79,
     "metadata": {},
     "output_type": "execute_result"
    }
   ],
   "source": [
    "df_dados_teste_reg.head()"
   ]
  },
  {
   "cell_type": "markdown",
   "metadata": {
    "colab_type": "text",
    "id": "ZzgDaBL_xrq8"
   },
   "source": [
    "## Building the Machine Learning Model\n",
    "\n",
    "The last step of the work is to build, train and evaluate the model."
   ]
  },
  {
   "cell_type": "code",
   "execution_count": 91,
   "metadata": {
    "colab": {},
    "colab_type": "code",
    "id": "9sKjPQMExrq9",
    "outputId": "4813287c-b810-4f5e-87b2-8917d75c28ca"
   },
   "outputs": [],
   "source": [
    "# Dictionaries for model evaluation\n",
    "models_evaluation_train = dict()\n",
    "models_evaluation_test = dict()"
   ]
  },
  {
   "cell_type": "markdown",
   "metadata": {
    "colab_type": "text",
    "id": "Cg4ii0eRxrrB"
   },
   "source": [
    "Below are some functions to run the model."
   ]
  },
  {
   "cell_type": "code",
   "execution_count": 81,
   "metadata": {},
   "outputs": [],
   "source": [
    "# Function for calculating the model error\n",
    "def calcula_metricas(y_true, y_pred):\n",
    "    rmse = np.sqrt(np.mean([(y_true[i] - y_pred[i]) **2 for i in range(len(y_pred))]))\n",
    "    mape = np.mean(np.abs((y_true - y_pred) / y_true)) * 100\n",
    "    return rmse, mape"
   ]
  },
  {
   "cell_type": "code",
   "execution_count": 82,
   "metadata": {},
   "outputs": [],
   "source": [
    "# Function for training and testing the model\n",
    "def executa_modelo_xgboost(modelo, x_train, y_train, x_test, y_test, verbose = True):\n",
    "\n",
    "    # Dicionários\n",
    "    train_results = dict()\n",
    "    test_results = dict()\n",
    "    \n",
    "    # Training model\n",
    "    print('Treinando o modelo..')\n",
    "    start = datetime.now()\n",
    "    modelo.fit(x_train, y_train, eval_metric = 'rmse')\n",
    "    print('Concluído. Tempo total: {}\\n'.format(datetime.now() - start))\n",
    "\n",
    "    # Calculating model error on training data\n",
    "    print('Calculando as Métricas com Dados de Treino.')\n",
    "    start = datetime.now()\n",
    "    y_train_pred = modelo.predict(x_train)\n",
    "    rmse_train, mape_train = calcula_metricas(y_train.values, y_train_pred)\n",
    "    \n",
    "    # Save the results\n",
    "    train_results = {'rmse': rmse_train, 'mape' : mape_train, 'previsoes' : y_train_pred}\n",
    "    \n",
    "    if verbose:\n",
    "        print('\\nErro do Modelo em Dados de Treino')\n",
    "        print('-'*30)\n",
    "        print('RMSE (Train): ', rmse_train)\n",
    "        print('MAPE (Train): ', mape_train)\n",
    "        \n",
    "    # Evaluating the model with test data\n",
    "    print('\\nAvaliando o modelo com dados de teste.')\n",
    "    y_test_pred = modelo.predict(x_test) \n",
    "    rmse_test, mape_test = calcula_metricas(y_true = y_test.values, y_pred = y_test_pred)\n",
    "    \n",
    "    # Save the results\n",
    "    test_results = {'rmse': rmse_test, 'mape' : mape_test, 'previsoes':y_test_pred}\n",
    "    \n",
    "    if verbose:\n",
    "        print('\\nErro do Modelo em Dados de Teste')\n",
    "        print('-'*30)\n",
    "        print('RMSE (Test): ', rmse_test)\n",
    "        print('MAPE (Test): ', mape_test)\n",
    "        \n",
    "    return train_results, test_results"
   ]
  },
  {
   "cell_type": "code",
   "execution_count": 83,
   "metadata": {},
   "outputs": [],
   "source": [
    "# Seed\n",
    "my_seed = 15\n",
    "random.seed(my_seed)\n",
    "np.random.seed(my_seed)"
   ]
  },
  {
   "cell_type": "markdown",
   "metadata": {
    "colab_type": "text",
    "id": "Jh6CNDb1xrrI"
   },
   "source": [
    "## Training the model"
   ]
  },
  {
   "cell_type": "code",
   "execution_count": 84,
   "metadata": {},
   "outputs": [],
   "source": [
    "# Prepare training data\n",
    "x_treino = df_dados_treino_reg.drop(['user', 'movie', 'rating'], axis = 1)\n",
    "y_treino = df_dados_treino_reg['rating']"
   ]
  },
  {
   "cell_type": "code",
   "execution_count": 85,
   "metadata": {},
   "outputs": [],
   "source": [
    "# Prepare test data\n",
    "x_teste = df_dados_teste_reg.drop(['user', 'movie', 'rating'], axis = 1)\n",
    "y_teste = df_dados_teste_reg['rating']"
   ]
  },
  {
   "cell_type": "code",
   "execution_count": 86,
   "metadata": {},
   "outputs": [],
   "source": [
    "# Creates the regression model with 100 estimators\n",
    "modelo_xgb = xgb.XGBRegressor(silent = False, random_state = my_seed, n_estimators = 100)"
   ]
  },
  {
   "cell_type": "code",
   "execution_count": 87,
   "metadata": {},
   "outputs": [
    {
     "name": "stdout",
     "output_type": "stream",
     "text": [
      "Treinando o modelo..\n",
      "[16:51:51] WARNING: C:/Users/Administrator/workspace/xgboost-win64_release_1.5.0/src/learner.cc:576: \n",
      "Parameters: { \"silent\" } might not be used.\n",
      "\n",
      "  This could be a false alarm, with some parameters getting used by language bindings but\n",
      "  then being mistakenly passed down to XGBoost core, or some parameter actually being used\n",
      "  but getting flagged wrongly here. Please open an issue if you find any such cases.\n",
      "\n",
      "\n",
      "Concluído. Tempo total: 0:00:00.122469\n",
      "\n",
      "Calculando as Métricas com Dados de Treino.\n",
      "\n",
      "Erro do Modelo em Dados de Treino\n",
      "------------------------------\n",
      "RMSE (Train):  0.052987308251704945\n",
      "MAPE (Train):  1.1448104552699176\n",
      "\n",
      "Avaliando o modelo com dados de teste.\n",
      "\n",
      "Erro do Modelo em Dados de Teste\n",
      "------------------------------\n",
      "RMSE (Test):  nan\n",
      "MAPE (Test):  nan\n"
     ]
    }
   ],
   "source": [
    "# Training the model\n",
    "train_results, test_results = executa_modelo_xgboost(modelo_xgb, x_treino, y_treino, x_teste, y_teste)"
   ]
  },
  {
   "cell_type": "code",
   "execution_count": 92,
   "metadata": {},
   "outputs": [],
   "source": [
    "# Stores model evaluation results\n",
    "models_evaluation_train['modelo_xgb'] = train_results\n",
    "models_evaluation_test['modelo_xgb'] = test_results"
   ]
  },
  {
   "cell_type": "code",
   "execution_count": 95,
   "metadata": {
    "colab": {},
    "colab_type": "code",
    "id": "DoxUdAnFxrrK",
    "outputId": "e2dc745d-84d8-4468-cba2-6417fc5e6277"
   },
   "outputs": [
    {
     "data": {
      "image/png": "[encoded data removed]",
      "text/plain": [
       "<Figure size 432x288 with 1 Axes>"
      ]
     },
     "metadata": {
      "needs_background": "light"
     },
     "output_type": "display_data"
    }
   ],
   "source": [
    "# Most important variables for the model\n",
    "xgb.plot_importance(modelo_xgb)\n",
    "plt.show()"
   ]
  },
  {
   "cell_type": "markdown",
   "metadata": {
    "colab_type": "text",
    "id": "DWm7knFrxrrO"
   },
   "source": [
    "In addition to building the model, we also identify the most relevant variables. Note that there is no surprise. User ratings are crucial for recommending rated movies to other users."
   ]
  },
  {
   "cell_type": "markdown",
   "metadata": {
    "colab_type": "text",
    "id": "Yd0ye7O1xrsR"
   },
   "source": [
    "## Saving the results"
   ]
  },
  {
   "cell_type": "code",
   "execution_count": 96,
   "metadata": {
    "colab": {},
    "colab_type": "code",
    "id": "DxsS3JKnxrsS",
    "outputId": "9124baa4-ff9f-4ab4-c9f4-4d4af70f46f7",
    "scrolled": false
   },
   "outputs": [
    {
     "data": {
      "text/plain": [
       "modelo_xgb    NaN\n",
       "Name: rmse, dtype: object"
      ]
     },
     "execution_count": 96,
     "metadata": {},
     "output_type": "execute_result"
    }
   ],
   "source": [
    "# Save results\n",
    "pd.DataFrame(models_evaluation_test).to_csv('dados/resultado.csv')\n",
    "models = pd.read_csv('dados/resultado.csv', index_col = 0)\n",
    "models.loc['rmse'].sort_values()"
   ]
  }
 ],
 "metadata": {
  "colab": {
   "name": "Netflix_Movie.ipynb",
   "provenance": []
  },
  "kernelspec": {
   "display_name": "Python 3",
   "language": "python",
   "name": "python3"
  },
  "language_info": {
   "codemirror_mode": {
    "name": "ipython",
    "version": 3
   },
   "file_extension": ".py",
   "mimetype": "text/x-python",
   "name": "python",
   "nbconvert_exporter": "python",
   "pygments_lexer": "ipython3",
   "version": "3.7.6"
  }
 },
 "nbformat": 4,
 "nbformat_minor": 1
}
