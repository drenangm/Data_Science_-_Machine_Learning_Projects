{
 "cells": [
  {
   "cell_type": "code",
   "execution_count": 1,
   "metadata": {},
   "outputs": [
    {
     "name": "stdout",
     "output_type": "stream",
     "text": [
      "Versão da Linguagem Python Usada Neste Jupyter Notebook: 3.7.6\n"
     ]
    }
   ],
   "source": [
    "# Versão da Linguagem Python\n",
    "from platform import python_version\n",
    "print('Versão da Linguagem Python Usada Neste Jupyter Notebook:', python_version())"
   ]
  },
  {
   "cell_type": "markdown",
   "metadata": {},
   "source": [
    "## A Matemática das Redes Neurais Artificiais\n",
    "\n",
    "### Construindo a Rede Neural com Programação e Matemática"
   ]
  },
  {
   "cell_type": "markdown",
   "metadata": {},
   "source": [
    "Teremos 2 Partes:\n",
    "\n",
    "- Parte 1 - Vamos construir uma rede neural artificial somente com operações matemáticas\n",
    "- Parte 2 - Vamos treinar a rede para Prever a Ocorrência de Câncer"
   ]
  },
  {
   "cell_type": "markdown",
   "metadata": {},
   "source": [
    "### Importando os Pacotes"
   ]
  },
  {
   "cell_type": "code",
   "execution_count": null,
   "metadata": {},
   "outputs": [],
   "source": [
    "# Para atualizar um pacote, execute o comando abaixo no terminal ou prompt de comando:\n",
    "# pip install -U nome_pacote\n",
    "\n",
    "# Para instalar a versão exata de um pacote, execute o comando abaixo no terminal ou prompt de comando:\n",
    "# pip install nome_pacote==versão_desejada\n",
    "\n",
    "# Depois de instalar ou atualizar o pacote, reinicie o jupyter notebook."
   ]
  },
  {
   "cell_type": "code",
   "execution_count": 2,
   "metadata": {},
   "outputs": [],
   "source": [
    "# Instala o pacote watermark. \n",
    "# Esse pacote é usado para gravar as versões de outros pacotes usados neste jupyter notebook.\n",
    "!pip install -q -U watermark"
   ]
  },
  {
   "cell_type": "code",
   "execution_count": 4,
   "metadata": {},
   "outputs": [],
   "source": [
    "# Por enquanto precisaremos somente do NumPy\n",
    "import numpy as np"
   ]
  },
  {
   "cell_type": "code",
   "execution_count": 3,
   "metadata": {},
   "outputs": [
    {
     "name": "stdout",
     "output_type": "stream",
     "text": [
      "Author: DRGM\n",
      "\n"
     ]
    }
   ],
   "source": [
    "# Versões dos pacotes usados neste jupyter notebook\n",
    "%reload_ext watermark\n",
    "%watermark -a \"DRGM\" --iversions"
   ]
  },
  {
   "cell_type": "markdown",
   "metadata": {},
   "source": [
    "### Parte 1 - Implementando Uma Rede Neural Artificial Somente com Fórmulas Matemáticas (Sem Frameworks)"
   ]
  },
  {
   "cell_type": "markdown",
   "metadata": {},
   "source": [
    "### Parte 1A - Forward Propagation\n",
    "\n",
    "https://arxiv.org/pdf/1905.07490.pdf"
   ]
  },
  {
   "cell_type": "markdown",
   "metadata": {},
   "source": [
    "### Desenvolvendo a Função Para Inicialização de Pesos"
   ]
  },
  {
   "cell_type": "code",
   "execution_count": 4,
   "metadata": {},
   "outputs": [],
   "source": [
    "# Função para inicialização randômica dos parâmetros do modelo\n",
    "def inicializa_parametros(dims_camada_entrada):\n",
    "    \n",
    "    # Dicionário para os parâmetros\n",
    "    parameters = {}\n",
    "    \n",
    "    # Comprimento das dimensões das camadas\n",
    "    comp = len(dims_camada_entrada)\n",
    "    \n",
    "    # Loop pelo comprimento\n",
    "    for i in range(1, comp):\n",
    "        \n",
    "        # Inicialização da matriz de pesos\n",
    "        parameters[\"W\" + str(i)] = np.random.randn(dims_camada_entrada[i], dims_camada_entrada[i - 1]) * 0.01\n",
    "        \n",
    "        # Inicialização do bias\n",
    "        parameters[\"b\" + str(i)] = np.zeros((dims_camada_entrada[i], 1))\n",
    "        \n",
    "    return parameters"
   ]
  },
  {
   "cell_type": "markdown",
   "metadata": {},
   "source": [
    "### Desenvolvendo a Função Sigmóide"
   ]
  },
  {
   "cell_type": "code",
   "execution_count": 5,
   "metadata": {},
   "outputs": [],
   "source": [
    "# Função sigmóide\n",
    "def sigmoid(Z):\n",
    "    A = 1 / (1 + np.exp(-Z))\n",
    "    return A, Z"
   ]
  },
  {
   "cell_type": "code",
   "execution_count": 6,
   "metadata": {},
   "outputs": [],
   "source": [
    "# Função de ativação ReLu (Rectified Linear Unit)\n",
    "def relu(Z):\n",
    "    A = abs(Z * (Z > 0))\n",
    "    return A, Z"
   ]
  },
  {
   "cell_type": "markdown",
   "metadata": {},
   "source": [
    "### Desenvolvendo a Ativação Linear"
   ]
  },
  {
   "cell_type": "code",
   "execution_count": 7,
   "metadata": {},
   "outputs": [],
   "source": [
    "# Operação de ativação\n",
    "# A é a matriz com os dados de entrada\n",
    "# W é a matriz de pesos\n",
    "# b é o bias\n",
    "def linear_activation(A, W, b):\n",
    "    Z = np.dot(W, A) + b\n",
    "    cache = (A, W, b)\n",
    "    return Z, cache"
   ]
  },
  {
   "cell_type": "markdown",
   "metadata": {},
   "source": [
    "### Construindo o Processo de Forward Propagation"
   ]
  },
  {
   "cell_type": "code",
   "execution_count": 8,
   "metadata": {},
   "outputs": [],
   "source": [
    "# Movimento para frente (forward)\n",
    "def forward(A_prev, W, b, activation):\n",
    "    \n",
    "    # Se a função de ativação for Sigmoid, entramos neste bloco\n",
    "    if activation == \"sigmoid\":\n",
    "        Z, linear_cache = linear_activation(A_prev, W, b)\n",
    "        A, activation_cache = sigmoid(Z)\n",
    "        \n",
    "    # Se não, se for ReLu, entramos neste bloco    \n",
    "    elif activation == \"relu\":\n",
    "        Z, linear_cache = linear_activation(A_prev, W, b)\n",
    "        A, activation_cache = relu(Z)\n",
    "        \n",
    "    cache = (linear_cache, activation_cache)\n",
    "    \n",
    "    return A, cache"
   ]
  },
  {
   "cell_type": "markdown",
   "metadata": {},
   "source": [
    "### Combinando Ativação e Propagação"
   ]
  },
  {
   "cell_type": "code",
   "execution_count": 9,
   "metadata": {},
   "outputs": [],
   "source": [
    "# Propagação para frente\n",
    "def forward_propagation(X, parameters):\n",
    "    \n",
    "    # Lista de valores anteriores (cache)\n",
    "    caches = []\n",
    "    \n",
    "    # Dados de entrada\n",
    "    A = X\n",
    "    \n",
    "    # Comprimento dos parâmetros\n",
    "    L = len(parameters) // 2\n",
    "   \n",
    "    # Loop\n",
    "    for i in range(1, L):\n",
    "      \n",
    "        # Guarda o valor prévio de A\n",
    "        A_prev = A\n",
    "        \n",
    "        # Executa o forward\n",
    "        A, cache = forward(A_prev, parameters[\"W\" + str(i)], parameters[\"b\" + str(i)], activation = \"relu\")\n",
    "        \n",
    "        # Grava o cache\n",
    "        caches.append(cache)\n",
    "    \n",
    "    # Saída na última camada\n",
    "    A_last, cache = forward(A, parameters[\"W\" + str(L)], parameters[\"b\" + str(L)], activation = \"sigmoid\")\n",
    "    \n",
    "    # Grava o cache\n",
    "    caches.append(cache)\n",
    "    \n",
    "    return(A_last, caches)"
   ]
  },
  {
   "cell_type": "markdown",
   "metadata": {},
   "source": [
    "### Desenvolvendo a Função de Custo"
   ]
  },
  {
   "cell_type": "code",
   "execution_count": 10,
   "metadata": {},
   "outputs": [],
   "source": [
    "# Função de custo (ou função de erro)\n",
    "def calcula_custo(A_last, Y):\n",
    "    \n",
    "    # Ajusta o shape de Y para obter seu comprimento (total de elementos)\n",
    "    m = Y.shape[1]\n",
    "    \n",
    "    # Calcula o custo comparando valor real e previso\n",
    "    custo = (-1 / m) * np.sum((Y * np.log(A_last)) + ((1 - Y) * np.log(1 - A_last)))\n",
    "    \n",
    "    # Ajusta o shape do custo\n",
    "    custo = np.squeeze(custo)\n",
    "    \n",
    "    return(custo)"
   ]
  },
  {
   "cell_type": "markdown",
   "metadata": {},
   "source": [
    "### Parte 1B - Backward Propagation"
   ]
  },
  {
   "cell_type": "markdown",
   "metadata": {},
   "source": [
    "### Desenvolvendo o Backward Propagation - Função Sigmóide Backward"
   ]
  },
  {
   "cell_type": "code",
   "execution_count": 11,
   "metadata": {},
   "outputs": [],
   "source": [
    "# Função sigmoid para o backpropagation \n",
    "# Fazemos o cálculo da derivada pois não queremos o valor completo da função, mas sim sua variação\n",
    "def sigmoid_backward(da, Z):\n",
    "    \n",
    "    # Calculamos a derivada de Z\n",
    "    dg = (1 / (1 + np.exp(-Z))) * (1 - (1 / (1 + np.exp(-Z))))\n",
    "    \n",
    "    # Encontramos a mudança na derivada de z\n",
    "    dz = da * dg\n",
    "    return dz\n",
    "\n",
    "# Compare com a função sigmoid do forward propagation\n",
    "# A = 1 / (1 + np.exp(-Z))"
   ]
  },
  {
   "cell_type": "markdown",
   "metadata": {},
   "source": [
    "### Desenvolvendo o Backward Propagation - Função ReLu Backward"
   ]
  },
  {
   "cell_type": "code",
   "execution_count": 12,
   "metadata": {},
   "outputs": [],
   "source": [
    "# Função relu para o backpropagation \n",
    "# Fazemos o cálculo da derivada pois não queremos o valor completo da função, mas sim sua variação\n",
    "def relu_backward(da, Z):\n",
    "    \n",
    "    dg = 1 * ( Z >= 0)\n",
    "    dz = da * dg\n",
    "    return dz\n",
    "\n",
    "# Compare com a função relu do forward propagation:\n",
    "# A = abs(Z * (Z > 0))"
   ]
  },
  {
   "cell_type": "markdown",
   "metadata": {},
   "source": [
    "### Desenvolvendo o Backward Propagation - Ativação Linear Backward"
   ]
  },
  {
   "cell_type": "code",
   "execution_count": 13,
   "metadata": {},
   "outputs": [],
   "source": [
    "# Ativação linear para o backpropagation\n",
    "def linear_backward_function(dz, cache):\n",
    "    \n",
    "    # Recebe os valores do cache (memória)\n",
    "    A_prev, W, b = cache\n",
    "    \n",
    "    # Shape de m\n",
    "    m = A_prev.shape[1]\n",
    "    \n",
    "    # Calcula a derivada de W (resultado da operação com dz)\n",
    "    dW = (1 / m) * np.dot(dz, A_prev.T)\n",
    "    \n",
    "    # Calcula a derivada de b (resultado da operação com dz)\n",
    "    db = (1 / m) * np.sum(dz, axis = 1, keepdims = True)\n",
    "    \n",
    "    # Calcula a derivada da operação\n",
    "    dA_prev = np.dot(W.T, dz)\n",
    "    \n",
    "    return dA_prev, dW, db"
   ]
  },
  {
   "cell_type": "markdown",
   "metadata": {},
   "source": [
    "### Desenvolvendo o Backward Propagation - Ativação Linear Backward"
   ]
  },
  {
   "cell_type": "code",
   "execution_count": 14,
   "metadata": {},
   "outputs": [],
   "source": [
    "# Função que define o tipo de ativação (relu ou sigmoid)\n",
    "def linear_activation_backward(dA, cache, activation):\n",
    "    \n",
    "    # Extrai o cache\n",
    "    linear_cache, activation_cache = cache\n",
    "    \n",
    "    # Verifica se a ativação é relu\n",
    "    if activation == \"relu\":\n",
    "        dZ = relu_backward(dA, activation_cache)\n",
    "        dA_prev, dW, db = linear_backward_function(dZ, linear_cache)\n",
    "        \n",
    "    # Verifica se a ativação é sigmoid\n",
    "    if activation == \"sigmoid\":\n",
    "        dZ = sigmoid_backward(dA, activation_cache)\n",
    "        dA_prev, dW, db = linear_backward_function(dZ, linear_cache)\n",
    "        \n",
    "    return dA_prev, dW, db"
   ]
  },
  {
   "cell_type": "markdown",
   "metadata": {},
   "source": [
    "### Combinando Ativação e Retropropagação - Algoritmo Backpropagation"
   ]
  },
  {
   "cell_type": "code",
   "execution_count": 15,
   "metadata": {},
   "outputs": [],
   "source": [
    "# Algoritmo Backpropagation (calcula os gradientes para atualização dos pesos)\n",
    "# AL = Valor previsto no Forward\n",
    "# Y = Valor real\n",
    "def backward_propagation(AL, Y, caches):\n",
    "    \n",
    "    # Dicionário para os gradientes\n",
    "    grads = {}\n",
    "    \n",
    "    # Comprimento dos dados (que estão no cache)\n",
    "    L = len(caches)\n",
    "    \n",
    "    # Extrai o comprimento para o valor de m\n",
    "    m = AL.shape[1]\n",
    "    \n",
    "    # Ajusta o shape de Y\n",
    "    Y = Y.reshape(AL.shape)\n",
    "    \n",
    "    # Calcula a derivada da previsão final da rede (feita ao final do Forward Propagation)\n",
    "    dAL = -((Y / AL) - ((1 - Y) / (1 - AL)))\n",
    "    \n",
    "    # Captura o valor corrente do cache\n",
    "    current_cache = caches[L - 1]\n",
    "    \n",
    "    # Gera a lista de gradiente para os dados, os pesos e o bias\n",
    "    # Fazemos isso uma vez, pois estamos na parte final da rede, iniciando o caminho de volta\n",
    "    grads[\"dA\" + str(L - 1)], grads[\"dW\" + str(L)], grads[\"db\" + str(L)] = linear_activation_backward(dAL, current_cache, activation = \"sigmoid\")\n",
    "    \n",
    "    # Loop para calcular a derivada durante as ativações lineares com a relu\n",
    "    for l in reversed(range(L - 1)):\n",
    "        \n",
    "        # Cache atual\n",
    "        current_cache = caches[l]\n",
    "        \n",
    "        # Calcula as derivadas\n",
    "        dA_prev, dW, db = linear_activation_backward(grads[\"dA\" + str(l + 1)], current_cache, activation = \"relu\")\n",
    "        \n",
    "        # Alimenta os gradientes na lista, usando o índice respectivo\n",
    "        grads[\"dA\" + str(l)] = dA_prev\n",
    "        grads[\"dW\" + str(l + 1)] = dW\n",
    "        grads[\"db\" + str(l + 1)] = db\n",
    "        \n",
    "    return grads"
   ]
  },
  {
   "cell_type": "markdown",
   "metadata": {},
   "source": [
    "### Gradientes e Atualização dos Pesos"
   ]
  },
  {
   "cell_type": "code",
   "execution_count": 16,
   "metadata": {},
   "outputs": [],
   "source": [
    "# Função de atualização de pesos\n",
    "def atualiza_pesos(parameters, grads, learning_rate):\n",
    "    \n",
    "    # Comprimento da estrutura de dados com os parâmetros (pesos e bias)\n",
    "    L = len(parameters)//2\n",
    "    \n",
    "    # Loop para atualização dos pesos\n",
    "    for l in range(L):\n",
    "        \n",
    "        # Atualização dos pesos\n",
    "        parameters[\"W\" + str(l + 1)] = parameters[\"W\" + str(l + 1)] - (learning_rate * grads[\"dW\" + str(l + 1)])\n",
    "        \n",
    "        # Atualização do bias\n",
    "        parameters[\"b\" + str(l + 1)] = parameters[\"b\" + str(l + 1)] - (learning_rate * grads[\"db\" + str(l + 1)])\n",
    "    \n",
    "    return parameters"
   ]
  },
  {
   "cell_type": "markdown",
   "metadata": {},
   "source": [
    "### Implementando a Rede Completa"
   ]
  },
  {
   "cell_type": "code",
   "execution_count": 17,
   "metadata": {},
   "outputs": [],
   "source": [
    "# Modelo completo da rede neural\n",
    "def modeloNN(X, Y, dims_camada_entrada, learning_rate = 0.0075, num_iterations = 100):\n",
    "    \n",
    "    # Lista para receber o custo a cada época de treinamento\n",
    "    custos = []\n",
    "    \n",
    "    # Inicializa os parâmetros\n",
    "    parametros = inicializa_parametros(dims_camada_entrada)\n",
    "    \n",
    "    # Loop pelo número de iterações (épocas)\n",
    "    for i in range(num_iterations):\n",
    "        \n",
    "        # Forward Propagation\n",
    "        AL, caches = forward_propagation(X, parametros)\n",
    "        \n",
    "        # Calcula o custo\n",
    "        custo = calcula_custo(AL, Y)\n",
    "        \n",
    "        # Backward Propagation\n",
    "        # Nota: ao invés de AL e Y, poderíamos passar somente o valor do custo\n",
    "        # Estamos passando o valor de AL e Y para fique claro didaticamente o que está sendo feito\n",
    "        gradientes = backward_propagation(AL, Y, caches)\n",
    "        \n",
    "        # Atualiza os pesos\n",
    "        parametros = atualiza_pesos(parametros, gradientes, learning_rate)\n",
    "        \n",
    "        # Print do valor intermediário do custo\n",
    "        # A redução do custo indica o aprendizado do modelo\n",
    "        if i % 10 == 0:\n",
    "            print(\"Custo Após \" + str(i) + \" iterações é \" + str(custo))\n",
    "            custos.append(custo)\n",
    "            \n",
    "    return parametros, custos "
   ]
  },
  {
   "cell_type": "code",
   "execution_count": 18,
   "metadata": {},
   "outputs": [],
   "source": [
    "# Função para fazer as previsões\n",
    "# Não precisamos do Backpropagation pois ao fazer previsões como o modelo treinado, \n",
    "# teremos os melhores valores de pesos (parametros)\n",
    "def predict(X, parametros):\n",
    "    AL, caches = forward_propagation(X, parametros)\n",
    "    return AL"
   ]
  },
  {
   "cell_type": "markdown",
   "metadata": {},
   "source": [
    "### Parte 2 - Vamos treinar a rede para Prever a Ocorrência de Câncer"
   ]
  },
  {
   "cell_type": "markdown",
   "metadata": {},
   "source": [
    "### Mini-Projeto 4 - Usando a Rede Neural Para Prever a Ocorrência de Câncer"
   ]
  },
  {
   "cell_type": "code",
   "execution_count": 19,
   "metadata": {},
   "outputs": [],
   "source": [
    "# Imports\n",
    "import sklearn\n",
    "import numpy as np\n",
    "import pandas as pd\n",
    "import matplotlib\n",
    "import matplotlib.pyplot as plt\n",
    "from sklearn.datasets import load_breast_cancer\n",
    "from sklearn.model_selection import train_test_split\n",
    "from sklearn.metrics import classification_report"
   ]
  },
  {
   "cell_type": "code",
   "execution_count": 20,
   "metadata": {},
   "outputs": [
    {
     "name": "stdout",
     "output_type": "stream",
     "text": [
      "Author: Data Science Academy\n",
      "\n",
      "matplotlib: 3.2.1\n",
      "numpy     : 1.18.5\n",
      "sklearn   : 0.23.1\n",
      "pandas    : 1.0.4\n",
      "\n"
     ]
    }
   ],
   "source": [
    "# Versões dos pacotes usados neste jupyter notebook\n",
    "%reload_ext watermark\n",
    "%watermark -a \"Data Science Academy\" --iversions"
   ]
  },
  {
   "cell_type": "markdown",
   "metadata": {},
   "source": [
    "### Carregando os Dados\n",
    "\n",
    "https://scikit-learn.org/stable/datasets/index.html#breast-cancer-dataset"
   ]
  },
  {
   "cell_type": "code",
   "execution_count": 21,
   "metadata": {},
   "outputs": [],
   "source": [
    "# Carregamos o objeto completo\n",
    "temp = load_breast_cancer()"
   ]
  },
  {
   "cell_type": "code",
   "execution_count": 23,
   "metadata": {},
   "outputs": [
    {
     "data": {
      "text/plain": [
       "sklearn.utils.Bunch"
      ]
     },
     "execution_count": 23,
     "metadata": {},
     "output_type": "execute_result"
    }
   ],
   "source": [
    "# Tipo do objeto\n",
    "type(temp)"
   ]
  },
  {
   "cell_type": "code",
   "execution_count": 23,
   "metadata": {},
   "outputs": [
    {
     "data": {
      "text/plain": [
       "{'data': array([[1.799e+01, 1.038e+01, 1.228e+02, ..., 2.654e-01, 4.601e-01,\n",
       "         1.189e-01],\n",
       "        [2.057e+01, 1.777e+01, 1.329e+02, ..., 1.860e-01, 2.750e-01,\n",
       "         8.902e-02],\n",
       "        [1.969e+01, 2.125e+01, 1.300e+02, ..., 2.430e-01, 3.613e-01,\n",
       "         8.758e-02],\n",
       "        ...,\n",
       "        [1.660e+01, 2.808e+01, 1.083e+02, ..., 1.418e-01, 2.218e-01,\n",
       "         7.820e-02],\n",
       "        [2.060e+01, 2.933e+01, 1.401e+02, ..., 2.650e-01, 4.087e-01,\n",
       "         1.240e-01],\n",
       "        [7.760e+00, 2.454e+01, 4.792e+01, ..., 0.000e+00, 2.871e-01,\n",
       "         7.039e-02]]),\n",
       " 'target': array([0, 0, 0, 0, 0, 0, 0, 0, 0, 0, 0, 0, 0, 0, 0, 0, 0, 0, 0, 1, 1, 1,\n",
       "        0, 0, 0, 0, 0, 0, 0, 0, 0, 0, 0, 0, 0, 0, 0, 1, 0, 0, 0, 0, 0, 0,\n",
       "        0, 0, 1, 0, 1, 1, 1, 1, 1, 0, 0, 1, 0, 0, 1, 1, 1, 1, 0, 1, 0, 0,\n",
       "        1, 1, 1, 1, 0, 1, 0, 0, 1, 0, 1, 0, 0, 1, 1, 1, 0, 0, 1, 0, 0, 0,\n",
       "        1, 1, 1, 0, 1, 1, 0, 0, 1, 1, 1, 0, 0, 1, 1, 1, 1, 0, 1, 1, 0, 1,\n",
       "        1, 1, 1, 1, 1, 1, 1, 0, 0, 0, 1, 0, 0, 1, 1, 1, 0, 0, 1, 0, 1, 0,\n",
       "        0, 1, 0, 0, 1, 1, 0, 1, 1, 0, 1, 1, 1, 1, 0, 1, 1, 1, 1, 1, 1, 1,\n",
       "        1, 1, 0, 1, 1, 1, 1, 0, 0, 1, 0, 1, 1, 0, 0, 1, 1, 0, 0, 1, 1, 1,\n",
       "        1, 0, 1, 1, 0, 0, 0, 1, 0, 1, 0, 1, 1, 1, 0, 1, 1, 0, 0, 1, 0, 0,\n",
       "        0, 0, 1, 0, 0, 0, 1, 0, 1, 0, 1, 1, 0, 1, 0, 0, 0, 0, 1, 1, 0, 0,\n",
       "        1, 1, 1, 0, 1, 1, 1, 1, 1, 0, 0, 1, 1, 0, 1, 1, 0, 0, 1, 0, 1, 1,\n",
       "        1, 1, 0, 1, 1, 1, 1, 1, 0, 1, 0, 0, 0, 0, 0, 0, 0, 0, 0, 0, 0, 0,\n",
       "        0, 0, 1, 1, 1, 1, 1, 1, 0, 1, 0, 1, 1, 0, 1, 1, 0, 1, 0, 0, 1, 1,\n",
       "        1, 1, 1, 1, 1, 1, 1, 1, 1, 1, 1, 0, 1, 1, 0, 1, 0, 1, 1, 1, 1, 1,\n",
       "        1, 1, 1, 1, 1, 1, 1, 1, 1, 0, 1, 1, 1, 0, 1, 0, 1, 1, 1, 1, 0, 0,\n",
       "        0, 1, 1, 1, 1, 0, 1, 0, 1, 0, 1, 1, 1, 0, 1, 1, 1, 1, 1, 1, 1, 0,\n",
       "        0, 0, 1, 1, 1, 1, 1, 1, 1, 1, 1, 1, 1, 0, 0, 1, 0, 0, 0, 1, 0, 0,\n",
       "        1, 1, 1, 1, 1, 0, 1, 1, 1, 1, 1, 0, 1, 1, 1, 0, 1, 1, 0, 0, 1, 1,\n",
       "        1, 1, 1, 1, 0, 1, 1, 1, 1, 1, 1, 1, 0, 1, 1, 1, 1, 1, 0, 1, 1, 0,\n",
       "        1, 1, 1, 1, 1, 1, 1, 1, 1, 1, 1, 1, 0, 1, 0, 0, 1, 0, 1, 1, 1, 1,\n",
       "        1, 0, 1, 1, 0, 1, 0, 1, 1, 0, 1, 0, 1, 1, 1, 1, 1, 1, 1, 1, 0, 0,\n",
       "        1, 1, 1, 1, 1, 1, 0, 1, 1, 1, 1, 1, 1, 1, 1, 1, 1, 0, 1, 1, 1, 1,\n",
       "        1, 1, 1, 0, 1, 0, 1, 1, 0, 1, 1, 1, 1, 1, 0, 0, 1, 0, 1, 0, 1, 1,\n",
       "        1, 1, 1, 0, 1, 1, 0, 1, 0, 1, 0, 0, 1, 1, 1, 0, 1, 1, 1, 1, 1, 1,\n",
       "        1, 1, 1, 1, 1, 0, 1, 0, 0, 1, 1, 1, 1, 1, 1, 1, 1, 1, 1, 1, 1, 1,\n",
       "        1, 1, 1, 1, 1, 1, 1, 1, 1, 1, 1, 1, 0, 0, 0, 0, 0, 0, 1]),\n",
       " 'frame': None,\n",
       " 'target_names': array(['malignant', 'benign'], dtype='<U9'),\n",
       " 'DESCR': '.. _breast_cancer_dataset:\\n\\nBreast cancer wisconsin (diagnostic) dataset\\n--------------------------------------------\\n\\n**Data Set Characteristics:**\\n\\n    :Number of Instances: 569\\n\\n    :Number of Attributes: 30 numeric, predictive attributes and the class\\n\\n    :Attribute Information:\\n        - radius (mean of distances from center to points on the perimeter)\\n        - texture (standard deviation of gray-scale values)\\n        - perimeter\\n        - area\\n        - smoothness (local variation in radius lengths)\\n        - compactness (perimeter^2 / area - 1.0)\\n        - concavity (severity of concave portions of the contour)\\n        - concave points (number of concave portions of the contour)\\n        - symmetry\\n        - fractal dimension (\"coastline approximation\" - 1)\\n\\n        The mean, standard error, and \"worst\" or largest (mean of the three\\n        worst/largest values) of these features were computed for each image,\\n        resulting in 30 features.  For instance, field 0 is Mean Radius, field\\n        10 is Radius SE, field 20 is Worst Radius.\\n\\n        - class:\\n                - WDBC-Malignant\\n                - WDBC-Benign\\n\\n    :Summary Statistics:\\n\\n    ===================================== ====== ======\\n                                           Min    Max\\n    ===================================== ====== ======\\n    radius (mean):                        6.981  28.11\\n    texture (mean):                       9.71   39.28\\n    perimeter (mean):                     43.79  188.5\\n    area (mean):                          143.5  2501.0\\n    smoothness (mean):                    0.053  0.163\\n    compactness (mean):                   0.019  0.345\\n    concavity (mean):                     0.0    0.427\\n    concave points (mean):                0.0    0.201\\n    symmetry (mean):                      0.106  0.304\\n    fractal dimension (mean):             0.05   0.097\\n    radius (standard error):              0.112  2.873\\n    texture (standard error):             0.36   4.885\\n    perimeter (standard error):           0.757  21.98\\n    area (standard error):                6.802  542.2\\n    smoothness (standard error):          0.002  0.031\\n    compactness (standard error):         0.002  0.135\\n    concavity (standard error):           0.0    0.396\\n    concave points (standard error):      0.0    0.053\\n    symmetry (standard error):            0.008  0.079\\n    fractal dimension (standard error):   0.001  0.03\\n    radius (worst):                       7.93   36.04\\n    texture (worst):                      12.02  49.54\\n    perimeter (worst):                    50.41  251.2\\n    area (worst):                         185.2  4254.0\\n    smoothness (worst):                   0.071  0.223\\n    compactness (worst):                  0.027  1.058\\n    concavity (worst):                    0.0    1.252\\n    concave points (worst):               0.0    0.291\\n    symmetry (worst):                     0.156  0.664\\n    fractal dimension (worst):            0.055  0.208\\n    ===================================== ====== ======\\n\\n    :Missing Attribute Values: None\\n\\n    :Class Distribution: 212 - Malignant, 357 - Benign\\n\\n    :Creator:  Dr. William H. Wolberg, W. Nick Street, Olvi L. Mangasarian\\n\\n    :Donor: Nick Street\\n\\n    :Date: November, 1995\\n\\nThis is a copy of UCI ML Breast Cancer Wisconsin (Diagnostic) datasets.\\nhttps://goo.gl/U2Uwz2\\n\\nFeatures are computed from a digitized image of a fine needle\\naspirate (FNA) of a breast mass.  They describe\\ncharacteristics of the cell nuclei present in the image.\\n\\nSeparating plane described above was obtained using\\nMultisurface Method-Tree (MSM-T) [K. P. Bennett, \"Decision Tree\\nConstruction Via Linear Programming.\" Proceedings of the 4th\\nMidwest Artificial Intelligence and Cognitive Science Society,\\npp. 97-101, 1992], a classification method which uses linear\\nprogramming to construct a decision tree.  Relevant features\\nwere selected using an exhaustive search in the space of 1-4\\nfeatures and 1-3 separating planes.\\n\\nThe actual linear program used to obtain the separating plane\\nin the 3-dimensional space is that described in:\\n[K. P. Bennett and O. L. Mangasarian: \"Robust Linear\\nProgramming Discrimination of Two Linearly Inseparable Sets\",\\nOptimization Methods and Software 1, 1992, 23-34].\\n\\nThis database is also available through the UW CS ftp server:\\n\\nftp ftp.cs.wisc.edu\\ncd math-prog/cpo-dataset/machine-learn/WDBC/\\n\\n.. topic:: References\\n\\n   - W.N. Street, W.H. Wolberg and O.L. Mangasarian. Nuclear feature extraction \\n     for breast tumor diagnosis. IS&T/SPIE 1993 International Symposium on \\n     Electronic Imaging: Science and Technology, volume 1905, pages 861-870,\\n     San Jose, CA, 1993.\\n   - O.L. Mangasarian, W.N. Street and W.H. Wolberg. Breast cancer diagnosis and \\n     prognosis via linear programming. Operations Research, 43(4), pages 570-577, \\n     July-August 1995.\\n   - W.H. Wolberg, W.N. Street, and O.L. Mangasarian. Machine learning techniques\\n     to diagnose breast cancer from fine-needle aspirates. Cancer Letters 77 (1994) \\n     163-171.',\n",
       " 'feature_names': array(['mean radius', 'mean texture', 'mean perimeter', 'mean area',\n",
       "        'mean smoothness', 'mean compactness', 'mean concavity',\n",
       "        'mean concave points', 'mean symmetry', 'mean fractal dimension',\n",
       "        'radius error', 'texture error', 'perimeter error', 'area error',\n",
       "        'smoothness error', 'compactness error', 'concavity error',\n",
       "        'concave points error', 'symmetry error',\n",
       "        'fractal dimension error', 'worst radius', 'worst texture',\n",
       "        'worst perimeter', 'worst area', 'worst smoothness',\n",
       "        'worst compactness', 'worst concavity', 'worst concave points',\n",
       "        'worst symmetry', 'worst fractal dimension'], dtype='<U23'),\n",
       " 'filename': 'C:\\\\Users\\\\drena\\\\AppData\\\\Roaming\\\\Python\\\\Python37\\\\site-packages\\\\sklearn\\\\datasets\\\\data\\\\breast_cancer.csv'}"
      ]
     },
     "execution_count": 23,
     "metadata": {},
     "output_type": "execute_result"
    }
   ],
   "source": [
    "# Visualiza o objeto\n",
    "temp"
   ]
  },
  {
   "cell_type": "code",
   "execution_count": 24,
   "metadata": {},
   "outputs": [],
   "source": [
    "# Carregamos o dataset (somente atributos)\n",
    "dados = pd.DataFrame(columns = load_breast_cancer()['feature_names'], data = load_breast_cancer()['data'])"
   ]
  },
  {
   "cell_type": "code",
   "execution_count": 25,
   "metadata": {},
   "outputs": [
    {
     "data": {
      "text/plain": [
       "(569, 30)"
      ]
     },
     "execution_count": 25,
     "metadata": {},
     "output_type": "execute_result"
    }
   ],
   "source": [
    "# Shape\n",
    "dados.shape"
   ]
  },
  {
   "cell_type": "code",
   "execution_count": 26,
   "metadata": {},
   "outputs": [
    {
     "data": {
      "text/html": [
       "<div>\n",
       "<style scoped>\n",
       "    .dataframe tbody tr th:only-of-type {\n",
       "        vertical-align: middle;\n",
       "    }\n",
       "\n",
       "    .dataframe tbody tr th {\n",
       "        vertical-align: top;\n",
       "    }\n",
       "\n",
       "    .dataframe thead th {\n",
       "        text-align: right;\n",
       "    }\n",
       "</style>\n",
       "<table border=\"1\" class=\"dataframe\">\n",
       "  <thead>\n",
       "    <tr style=\"text-align: right;\">\n",
       "      <th></th>\n",
       "      <th>mean radius</th>\n",
       "      <th>mean texture</th>\n",
       "      <th>mean perimeter</th>\n",
       "      <th>mean area</th>\n",
       "      <th>mean smoothness</th>\n",
       "      <th>mean compactness</th>\n",
       "      <th>mean concavity</th>\n",
       "      <th>mean concave points</th>\n",
       "      <th>mean symmetry</th>\n",
       "      <th>mean fractal dimension</th>\n",
       "      <th>...</th>\n",
       "      <th>worst radius</th>\n",
       "      <th>worst texture</th>\n",
       "      <th>worst perimeter</th>\n",
       "      <th>worst area</th>\n",
       "      <th>worst smoothness</th>\n",
       "      <th>worst compactness</th>\n",
       "      <th>worst concavity</th>\n",
       "      <th>worst concave points</th>\n",
       "      <th>worst symmetry</th>\n",
       "      <th>worst fractal dimension</th>\n",
       "    </tr>\n",
       "  </thead>\n",
       "  <tbody>\n",
       "    <tr>\n",
       "      <th>0</th>\n",
       "      <td>17.99</td>\n",
       "      <td>10.38</td>\n",
       "      <td>122.80</td>\n",
       "      <td>1001.0</td>\n",
       "      <td>0.11840</td>\n",
       "      <td>0.27760</td>\n",
       "      <td>0.3001</td>\n",
       "      <td>0.14710</td>\n",
       "      <td>0.2419</td>\n",
       "      <td>0.07871</td>\n",
       "      <td>...</td>\n",
       "      <td>25.38</td>\n",
       "      <td>17.33</td>\n",
       "      <td>184.60</td>\n",
       "      <td>2019.0</td>\n",
       "      <td>0.1622</td>\n",
       "      <td>0.6656</td>\n",
       "      <td>0.7119</td>\n",
       "      <td>0.2654</td>\n",
       "      <td>0.4601</td>\n",
       "      <td>0.11890</td>\n",
       "    </tr>\n",
       "    <tr>\n",
       "      <th>1</th>\n",
       "      <td>20.57</td>\n",
       "      <td>17.77</td>\n",
       "      <td>132.90</td>\n",
       "      <td>1326.0</td>\n",
       "      <td>0.08474</td>\n",
       "      <td>0.07864</td>\n",
       "      <td>0.0869</td>\n",
       "      <td>0.07017</td>\n",
       "      <td>0.1812</td>\n",
       "      <td>0.05667</td>\n",
       "      <td>...</td>\n",
       "      <td>24.99</td>\n",
       "      <td>23.41</td>\n",
       "      <td>158.80</td>\n",
       "      <td>1956.0</td>\n",
       "      <td>0.1238</td>\n",
       "      <td>0.1866</td>\n",
       "      <td>0.2416</td>\n",
       "      <td>0.1860</td>\n",
       "      <td>0.2750</td>\n",
       "      <td>0.08902</td>\n",
       "    </tr>\n",
       "    <tr>\n",
       "      <th>2</th>\n",
       "      <td>19.69</td>\n",
       "      <td>21.25</td>\n",
       "      <td>130.00</td>\n",
       "      <td>1203.0</td>\n",
       "      <td>0.10960</td>\n",
       "      <td>0.15990</td>\n",
       "      <td>0.1974</td>\n",
       "      <td>0.12790</td>\n",
       "      <td>0.2069</td>\n",
       "      <td>0.05999</td>\n",
       "      <td>...</td>\n",
       "      <td>23.57</td>\n",
       "      <td>25.53</td>\n",
       "      <td>152.50</td>\n",
       "      <td>1709.0</td>\n",
       "      <td>0.1444</td>\n",
       "      <td>0.4245</td>\n",
       "      <td>0.4504</td>\n",
       "      <td>0.2430</td>\n",
       "      <td>0.3613</td>\n",
       "      <td>0.08758</td>\n",
       "    </tr>\n",
       "    <tr>\n",
       "      <th>3</th>\n",
       "      <td>11.42</td>\n",
       "      <td>20.38</td>\n",
       "      <td>77.58</td>\n",
       "      <td>386.1</td>\n",
       "      <td>0.14250</td>\n",
       "      <td>0.28390</td>\n",
       "      <td>0.2414</td>\n",
       "      <td>0.10520</td>\n",
       "      <td>0.2597</td>\n",
       "      <td>0.09744</td>\n",
       "      <td>...</td>\n",
       "      <td>14.91</td>\n",
       "      <td>26.50</td>\n",
       "      <td>98.87</td>\n",
       "      <td>567.7</td>\n",
       "      <td>0.2098</td>\n",
       "      <td>0.8663</td>\n",
       "      <td>0.6869</td>\n",
       "      <td>0.2575</td>\n",
       "      <td>0.6638</td>\n",
       "      <td>0.17300</td>\n",
       "    </tr>\n",
       "    <tr>\n",
       "      <th>4</th>\n",
       "      <td>20.29</td>\n",
       "      <td>14.34</td>\n",
       "      <td>135.10</td>\n",
       "      <td>1297.0</td>\n",
       "      <td>0.10030</td>\n",
       "      <td>0.13280</td>\n",
       "      <td>0.1980</td>\n",
       "      <td>0.10430</td>\n",
       "      <td>0.1809</td>\n",
       "      <td>0.05883</td>\n",
       "      <td>...</td>\n",
       "      <td>22.54</td>\n",
       "      <td>16.67</td>\n",
       "      <td>152.20</td>\n",
       "      <td>1575.0</td>\n",
       "      <td>0.1374</td>\n",
       "      <td>0.2050</td>\n",
       "      <td>0.4000</td>\n",
       "      <td>0.1625</td>\n",
       "      <td>0.2364</td>\n",
       "      <td>0.07678</td>\n",
       "    </tr>\n",
       "  </tbody>\n",
       "</table>\n",
       "<p>5 rows × 30 columns</p>\n",
       "</div>"
      ],
      "text/plain": [
       "   mean radius  mean texture  mean perimeter  mean area  mean smoothness  \\\n",
       "0        17.99         10.38          122.80     1001.0          0.11840   \n",
       "1        20.57         17.77          132.90     1326.0          0.08474   \n",
       "2        19.69         21.25          130.00     1203.0          0.10960   \n",
       "3        11.42         20.38           77.58      386.1          0.14250   \n",
       "4        20.29         14.34          135.10     1297.0          0.10030   \n",
       "\n",
       "   mean compactness  mean concavity  mean concave points  mean symmetry  \\\n",
       "0           0.27760          0.3001              0.14710         0.2419   \n",
       "1           0.07864          0.0869              0.07017         0.1812   \n",
       "2           0.15990          0.1974              0.12790         0.2069   \n",
       "3           0.28390          0.2414              0.10520         0.2597   \n",
       "4           0.13280          0.1980              0.10430         0.1809   \n",
       "\n",
       "   mean fractal dimension  ...  worst radius  worst texture  worst perimeter  \\\n",
       "0                 0.07871  ...         25.38          17.33           184.60   \n",
       "1                 0.05667  ...         24.99          23.41           158.80   \n",
       "2                 0.05999  ...         23.57          25.53           152.50   \n",
       "3                 0.09744  ...         14.91          26.50            98.87   \n",
       "4                 0.05883  ...         22.54          16.67           152.20   \n",
       "\n",
       "   worst area  worst smoothness  worst compactness  worst concavity  \\\n",
       "0      2019.0            0.1622             0.6656           0.7119   \n",
       "1      1956.0            0.1238             0.1866           0.2416   \n",
       "2      1709.0            0.1444             0.4245           0.4504   \n",
       "3       567.7            0.2098             0.8663           0.6869   \n",
       "4      1575.0            0.1374             0.2050           0.4000   \n",
       "\n",
       "   worst concave points  worst symmetry  worst fractal dimension  \n",
       "0                0.2654          0.4601                  0.11890  \n",
       "1                0.1860          0.2750                  0.08902  \n",
       "2                0.2430          0.3613                  0.08758  \n",
       "3                0.2575          0.6638                  0.17300  \n",
       "4                0.1625          0.2364                  0.07678  \n",
       "\n",
       "[5 rows x 30 columns]"
      ]
     },
     "execution_count": 26,
     "metadata": {},
     "output_type": "execute_result"
    }
   ],
   "source": [
    "# Visualiza os dados\n",
    "dados.head()"
   ]
  },
  {
   "cell_type": "code",
   "execution_count": 27,
   "metadata": {},
   "outputs": [
    {
     "data": {
      "text/plain": [
       "mean radius                False\n",
       "mean texture               False\n",
       "mean perimeter             False\n",
       "mean area                  False\n",
       "mean smoothness            False\n",
       "mean compactness           False\n",
       "mean concavity             False\n",
       "mean concave points        False\n",
       "mean symmetry              False\n",
       "mean fractal dimension     False\n",
       "radius error               False\n",
       "texture error              False\n",
       "perimeter error            False\n",
       "area error                 False\n",
       "smoothness error           False\n",
       "compactness error          False\n",
       "concavity error            False\n",
       "concave points error       False\n",
       "symmetry error             False\n",
       "fractal dimension error    False\n",
       "worst radius               False\n",
       "worst texture              False\n",
       "worst perimeter            False\n",
       "worst area                 False\n",
       "worst smoothness           False\n",
       "worst compactness          False\n",
       "worst concavity            False\n",
       "worst concave points       False\n",
       "worst symmetry             False\n",
       "worst fractal dimension    False\n",
       "dtype: bool"
      ]
     },
     "execution_count": 27,
     "metadata": {},
     "output_type": "execute_result"
    }
   ],
   "source": [
    "# Verifica se temos valores ausentes\n",
    "dados.isnull().any()"
   ]
  },
  {
   "cell_type": "code",
   "execution_count": 28,
   "metadata": {},
   "outputs": [],
   "source": [
    "# Separa a variável target\n",
    "target = load_breast_cancer()['target']"
   ]
  },
  {
   "cell_type": "code",
   "execution_count": 29,
   "metadata": {},
   "outputs": [
    {
     "data": {
      "text/plain": [
       "numpy.ndarray"
      ]
     },
     "execution_count": 29,
     "metadata": {},
     "output_type": "execute_result"
    }
   ],
   "source": [
    "type(target)"
   ]
  },
  {
   "cell_type": "code",
   "execution_count": 30,
   "metadata": {},
   "outputs": [
    {
     "data": {
      "text/plain": [
       "array([0, 0, 0, 0, 0, 0, 0, 0, 0, 0, 0, 0, 0, 0, 0, 0, 0, 0, 0, 1, 1, 1,\n",
       "       0, 0, 0, 0, 0, 0, 0, 0, 0, 0, 0, 0, 0, 0, 0, 1, 0, 0, 0, 0, 0, 0,\n",
       "       0, 0, 1, 0, 1, 1, 1, 1, 1, 0, 0, 1, 0, 0, 1, 1, 1, 1, 0, 1, 0, 0,\n",
       "       1, 1, 1, 1, 0, 1, 0, 0, 1, 0, 1, 0, 0, 1, 1, 1, 0, 0, 1, 0, 0, 0,\n",
       "       1, 1, 1, 0, 1, 1, 0, 0, 1, 1, 1, 0, 0, 1, 1, 1, 1, 0, 1, 1, 0, 1,\n",
       "       1, 1, 1, 1, 1, 1, 1, 0, 0, 0, 1, 0, 0, 1, 1, 1, 0, 0, 1, 0, 1, 0,\n",
       "       0, 1, 0, 0, 1, 1, 0, 1, 1, 0, 1, 1, 1, 1, 0, 1, 1, 1, 1, 1, 1, 1,\n",
       "       1, 1, 0, 1, 1, 1, 1, 0, 0, 1, 0, 1, 1, 0, 0, 1, 1, 0, 0, 1, 1, 1,\n",
       "       1, 0, 1, 1, 0, 0, 0, 1, 0, 1, 0, 1, 1, 1, 0, 1, 1, 0, 0, 1, 0, 0,\n",
       "       0, 0, 1, 0, 0, 0, 1, 0, 1, 0, 1, 1, 0, 1, 0, 0, 0, 0, 1, 1, 0, 0,\n",
       "       1, 1, 1, 0, 1, 1, 1, 1, 1, 0, 0, 1, 1, 0, 1, 1, 0, 0, 1, 0, 1, 1,\n",
       "       1, 1, 0, 1, 1, 1, 1, 1, 0, 1, 0, 0, 0, 0, 0, 0, 0, 0, 0, 0, 0, 0,\n",
       "       0, 0, 1, 1, 1, 1, 1, 1, 0, 1, 0, 1, 1, 0, 1, 1, 0, 1, 0, 0, 1, 1,\n",
       "       1, 1, 1, 1, 1, 1, 1, 1, 1, 1, 1, 0, 1, 1, 0, 1, 0, 1, 1, 1, 1, 1,\n",
       "       1, 1, 1, 1, 1, 1, 1, 1, 1, 0, 1, 1, 1, 0, 1, 0, 1, 1, 1, 1, 0, 0,\n",
       "       0, 1, 1, 1, 1, 0, 1, 0, 1, 0, 1, 1, 1, 0, 1, 1, 1, 1, 1, 1, 1, 0,\n",
       "       0, 0, 1, 1, 1, 1, 1, 1, 1, 1, 1, 1, 1, 0, 0, 1, 0, 0, 0, 1, 0, 0,\n",
       "       1, 1, 1, 1, 1, 0, 1, 1, 1, 1, 1, 0, 1, 1, 1, 0, 1, 1, 0, 0, 1, 1,\n",
       "       1, 1, 1, 1, 0, 1, 1, 1, 1, 1, 1, 1, 0, 1, 1, 1, 1, 1, 0, 1, 1, 0,\n",
       "       1, 1, 1, 1, 1, 1, 1, 1, 1, 1, 1, 1, 0, 1, 0, 0, 1, 0, 1, 1, 1, 1,\n",
       "       1, 0, 1, 1, 0, 1, 0, 1, 1, 0, 1, 0, 1, 1, 1, 1, 1, 1, 1, 1, 0, 0,\n",
       "       1, 1, 1, 1, 1, 1, 0, 1, 1, 1, 1, 1, 1, 1, 1, 1, 1, 0, 1, 1, 1, 1,\n",
       "       1, 1, 1, 0, 1, 0, 1, 1, 0, 1, 1, 1, 1, 1, 0, 0, 1, 0, 1, 0, 1, 1,\n",
       "       1, 1, 1, 0, 1, 1, 0, 1, 0, 1, 0, 0, 1, 1, 1, 0, 1, 1, 1, 1, 1, 1,\n",
       "       1, 1, 1, 1, 1, 0, 1, 0, 0, 1, 1, 1, 1, 1, 1, 1, 1, 1, 1, 1, 1, 1,\n",
       "       1, 1, 1, 1, 1, 1, 1, 1, 1, 1, 1, 1, 0, 0, 0, 0, 0, 0, 1])"
      ]
     },
     "execution_count": 30,
     "metadata": {},
     "output_type": "execute_result"
    }
   ],
   "source": [
    "# Visualiza a variável\n",
    "target"
   ]
  },
  {
   "cell_type": "code",
   "execution_count": 31,
   "metadata": {},
   "outputs": [
    {
     "data": {
      "text/plain": [
       "357"
      ]
     },
     "execution_count": 31,
     "metadata": {},
     "output_type": "execute_result"
    }
   ],
   "source": [
    "# Total de registros por classe - Câncer Benigno\n",
    "np.count_nonzero(target == 1)"
   ]
  },
  {
   "cell_type": "code",
   "execution_count": 32,
   "metadata": {},
   "outputs": [
    {
     "data": {
      "text/plain": [
       "212"
      ]
     },
     "execution_count": 32,
     "metadata": {},
     "output_type": "execute_result"
    }
   ],
   "source": [
    "# Total de registros por classe - Câncer Maligno\n",
    "np.count_nonzero(target == 0)"
   ]
  },
  {
   "cell_type": "code",
   "execution_count": 33,
   "metadata": {},
   "outputs": [],
   "source": [
    "# Vamos extrair os labels\n",
    "\n",
    "# Dicionário para os labels\n",
    "labels = {}\n",
    "\n",
    "# Nomes das classes da variável target\n",
    "target_names = load_breast_cancer()['target_names']\n",
    "\n",
    "# Mapeamento\n",
    "for i in range(len(target_names)):\n",
    "    labels.update({i: target_names[i]})"
   ]
  },
  {
   "cell_type": "code",
   "execution_count": 34,
   "metadata": {},
   "outputs": [
    {
     "data": {
      "text/plain": [
       "{0: 'malignant', 1: 'benign'}"
      ]
     },
     "execution_count": 34,
     "metadata": {},
     "output_type": "execute_result"
    }
   ],
   "source": [
    "# Visualiza os labels\n",
    "labels"
   ]
  },
  {
   "cell_type": "code",
   "execution_count": 35,
   "metadata": {},
   "outputs": [],
   "source": [
    "# Agora preparamos as variáveis preditoras em X\n",
    "X = np.array(dados)"
   ]
  },
  {
   "cell_type": "code",
   "execution_count": 36,
   "metadata": {},
   "outputs": [
    {
     "data": {
      "text/plain": [
       "array([[1.799e+01, 1.038e+01, 1.228e+02, ..., 2.654e-01, 4.601e-01,\n",
       "        1.189e-01],\n",
       "       [2.057e+01, 1.777e+01, 1.329e+02, ..., 1.860e-01, 2.750e-01,\n",
       "        8.902e-02],\n",
       "       [1.969e+01, 2.125e+01, 1.300e+02, ..., 2.430e-01, 3.613e-01,\n",
       "        8.758e-02],\n",
       "       ...,\n",
       "       [1.660e+01, 2.808e+01, 1.083e+02, ..., 1.418e-01, 2.218e-01,\n",
       "        7.820e-02],\n",
       "       [2.060e+01, 2.933e+01, 1.401e+02, ..., 2.650e-01, 4.087e-01,\n",
       "        1.240e-01],\n",
       "       [7.760e+00, 2.454e+01, 4.792e+01, ..., 0.000e+00, 2.871e-01,\n",
       "        7.039e-02]])"
      ]
     },
     "execution_count": 36,
     "metadata": {},
     "output_type": "execute_result"
    }
   ],
   "source": [
    "# Visualiza os dados de entrada\n",
    "X"
   ]
  },
  {
   "cell_type": "code",
   "execution_count": 37,
   "metadata": {},
   "outputs": [],
   "source": [
    "# Dividimos os dados de entrada e saída em treino e teste\n",
    "X_treino, X_teste, y_treino, y_teste = train_test_split(X, target, test_size = 0.15, shuffle = True)"
   ]
  },
  {
   "cell_type": "code",
   "execution_count": 38,
   "metadata": {},
   "outputs": [
    {
     "name": "stdout",
     "output_type": "stream",
     "text": [
      "(483, 30)\n",
      "(483,)\n"
     ]
    }
   ],
   "source": [
    "# Shape dos dados de treino\n",
    "print(X_treino.shape)\n",
    "print(y_treino.shape)"
   ]
  },
  {
   "cell_type": "code",
   "execution_count": 39,
   "metadata": {},
   "outputs": [
    {
     "name": "stdout",
     "output_type": "stream",
     "text": [
      "(86, 30)\n",
      "(86,)\n"
     ]
    }
   ],
   "source": [
    "# Shape dos dados de teste\n",
    "print(X_teste.shape)\n",
    "print(y_teste.shape)"
   ]
  },
  {
   "cell_type": "code",
   "execution_count": 40,
   "metadata": {},
   "outputs": [],
   "source": [
    "# Ajusta o shape dos dados de entrada\n",
    "X_treino = X_treino.T\n",
    "X_teste = X_teste.T\n",
    "\n",
    "# outra forma:\n",
    "# X_tr = X_treino.reshape(30, 483)\n",
    "# X_te = X_teste.reshape(30, 86)"
   ]
  },
  {
   "cell_type": "code",
   "execution_count": 41,
   "metadata": {},
   "outputs": [
    {
     "name": "stdout",
     "output_type": "stream",
     "text": [
      "(30, 483)\n",
      "(30, 86)\n"
     ]
    }
   ],
   "source": [
    "print(X_treino.shape)\n",
    "print(X_teste.shape)"
   ]
  },
  {
   "cell_type": "code",
   "execution_count": 42,
   "metadata": {},
   "outputs": [],
   "source": [
    "# Precisamos ajustar também os dados de saída\n",
    "y_treino = y_treino.reshape(1, len(y_treino))\n",
    "y_teste = y_teste.reshape(1, len(y_teste))"
   ]
  },
  {
   "cell_type": "code",
   "execution_count": 43,
   "metadata": {},
   "outputs": [
    {
     "name": "stdout",
     "output_type": "stream",
     "text": [
      "(1, 483)\n",
      "(1, 86)\n"
     ]
    }
   ],
   "source": [
    "print(y_treino.shape)\n",
    "print(y_teste.shape)"
   ]
  },
  {
   "cell_type": "code",
   "execution_count": 44,
   "metadata": {},
   "outputs": [],
   "source": [
    "# Variável com as dimensões de entrada para oo número de neurônios \n",
    "dims_camada_entrada = [X_treino.shape[0], 50, 20, 5, 1]"
   ]
  },
  {
   "cell_type": "code",
   "execution_count": 45,
   "metadata": {},
   "outputs": [
    {
     "data": {
      "text/plain": [
       "30"
      ]
     },
     "execution_count": 45,
     "metadata": {},
     "output_type": "execute_result"
    }
   ],
   "source": [
    "X_treino.shape[0] # numero de colunas dos atributos"
   ]
  },
  {
   "cell_type": "code",
   "execution_count": 46,
   "metadata": {},
   "outputs": [
    {
     "data": {
      "text/plain": [
       "[30, 50, 20, 5, 1]"
      ]
     },
     "execution_count": 46,
     "metadata": {},
     "output_type": "execute_result"
    }
   ],
   "source": [
    "dims_camada_entrada"
   ]
  },
  {
   "cell_type": "code",
   "execution_count": 47,
   "metadata": {},
   "outputs": [
    {
     "name": "stdout",
     "output_type": "stream",
     "text": [
      "\n",
      "Iniciando o Treinamento.\n",
      "\n",
      "Custo Após 0 iterações é 0.6931539135462282\n",
      "Custo Após 10 iterações é 0.6918378332225028\n",
      "Custo Após 20 iterações é 0.6905711436974739\n",
      "Custo Após 30 iterações é 0.6893512424545089\n",
      "Custo Após 40 iterações é 0.6881762540332422\n",
      "Custo Após 50 iterações é 0.6870444713030194\n",
      "Custo Após 60 iterações é 0.6859543690403285\n",
      "Custo Após 70 iterações é 0.684904321897292\n",
      "Custo Após 80 iterações é 0.6838928238229938\n",
      "Custo Após 90 iterações é 0.6829184762836057\n",
      "Custo Após 100 iterações é 0.6819799661946898\n",
      "Custo Após 110 iterações é 0.6810759075109984\n",
      "Custo Após 120 iterações é 0.6802050958905865\n",
      "Custo Após 130 iterações é 0.679366300983522\n",
      "Custo Após 140 iterações é 0.6785582787636132\n",
      "Custo Após 150 iterações é 0.6777798746096538\n",
      "Custo Após 160 iterações é 0.6770300049398061\n",
      "Custo Após 170 iterações é 0.6763075799969388\n",
      "Custo Após 180 iterações é 0.6756115879129542\n",
      "Custo Após 190 iterações é 0.6749410384739283\n",
      "Custo Após 200 iterações é 0.6742949862587481\n",
      "Custo Após 210 iterações é 0.673672524072272\n",
      "Custo Após 220 iterações é 0.673072770146361\n",
      "Custo Após 230 iterações é 0.6724948822666562\n",
      "Custo Após 240 iterações é 0.6719380513093286\n",
      "Custo Após 250 iterações é 0.671401490114468\n",
      "Custo Após 260 iterações é 0.6708844481797991\n",
      "Custo Após 270 iterações é 0.6703862035275571\n",
      "Custo Após 280 iterações é 0.6699060589855079\n",
      "Custo Após 290 iterações é 0.6694433473728691\n",
      "Custo Após 300 iterações é 0.6689974202945156\n",
      "Custo Após 310 iterações é 0.6685676495894057\n",
      "Custo Após 320 iterações é 0.6681534355613971\n",
      "Custo Após 330 iterações é 0.667754202803511\n",
      "Custo Após 340 iterações é 0.6673693978165978\n",
      "Custo Após 350 iterações é 0.66699848568587\n",
      "Custo Após 360 iterações é 0.6666409507719758\n",
      "Custo Após 370 iterações é 0.6662962939287945\n",
      "Custo Após 380 iterações é 0.6659640407914357\n",
      "Custo Após 390 iterações é 0.665643727874069\n",
      "Custo Após 400 iterações é 0.6653349124496885\n",
      "Custo Após 410 iterações é 0.6650371696444703\n",
      "Custo Após 420 iterações é 0.6647500852579676\n",
      "Custo Após 430 iterações é 0.6644732625435655\n",
      "Custo Após 440 iterações é 0.6642063226709902\n",
      "Custo Após 450 iterações é 0.6639489031240642\n",
      "Custo Após 460 iterações é 0.6637006488429028\n",
      "Custo Após 470 iterações é 0.6634612172529497\n",
      "Custo Após 480 iterações é 0.6632302793174285\n",
      "Custo Após 490 iterações é 0.6630075163371991\n",
      "Custo Após 500 iterações é 0.6627926201069775\n",
      "Custo Após 510 iterações é 0.6625852983794022\n",
      "Custo Após 520 iterações é 0.6623852693632223\n",
      "Custo Após 530 iterações é 0.6621922547538498\n",
      "Custo Após 540 iterações é 0.6620059927569933\n",
      "Custo Após 550 iterações é 0.6618262239948401\n",
      "Custo Após 560 iterações é 0.6616527054182116\n",
      "Custo Após 570 iterações é 0.6614852040974474\n",
      "Custo Após 580 iterações é 0.661323489267938\n",
      "Custo Após 590 iterações é 0.6611673415098208\n",
      "Custo Após 600 iterações é 0.6610165503681403\n",
      "Custo Após 610 iterações é 0.6608709106190765\n",
      "Custo Após 620 iterações é 0.660730220078991\n",
      "Custo Após 630 iterações é 0.6605942885733932\n",
      "Custo Após 640 iterações é 0.6604629290657342\n",
      "Custo Após 650 iterações é 0.66033596267749\n",
      "Custo Após 660 iterações é 0.6602132188142693\n",
      "Custo Após 670 iterações é 0.6600945347489612\n",
      "Custo Após 680 iterações é 0.6599797305237698\n",
      "Custo Após 690 iterações é 0.6598686521818847\n",
      "Custo Após 700 iterações é 0.659761138667554\n",
      "Custo Após 710 iterações é 0.6596570288891627\n",
      "Custo Após 720 iterações é 0.6595561648698887\n",
      "Custo Após 730 iterações é 0.6594583902305724\n",
      "Custo Após 740 iterações é 0.6593635555493218\n",
      "Custo Após 750 iterações é 0.6592715158680414\n",
      "Custo Após 760 iterações é 0.6591821209312667\n",
      "Custo Após 770 iterações é 0.6590952244900221\n",
      "Custo Após 780 iterações é 0.6590106680381767\n",
      "Custo Após 790 iterações é 0.6589282957358218\n",
      "Custo Após 800 iterações é 0.6588479482477921\n",
      "Custo Após 810 iterações é 0.6587694595327556\n",
      "Custo Após 820 iterações é 0.6586926472108893\n",
      "Custo Após 830 iterações é 0.6586173515299488\n",
      "Custo Após 840 iterações é 0.6585433629183102\n",
      "Custo Após 850 iterações é 0.6584704905808305\n",
      "Custo Após 860 iterações é 0.6583985322212933\n",
      "Custo Após 870 iterações é 0.6583272547228127\n",
      "Custo Após 880 iterações é 0.6582564368377465\n",
      "Custo Após 890 iterações é 0.6581857979397204\n",
      "Custo Após 900 iterações é 0.6581149683759447\n",
      "Custo Após 910 iterações é 0.6580436160883857\n",
      "Custo Após 920 iterações é 0.6579712749030994\n",
      "Custo Após 930 iterações é 0.6578974386965987\n",
      "Custo Após 940 iterações é 0.6578215730467418\n",
      "Custo Após 950 iterações é 0.657742910521226\n",
      "Custo Após 960 iterações é 0.6576605854130958\n",
      "Custo Após 970 iterações é 0.657573531694047\n",
      "Custo Após 980 iterações é 0.6574803929442344\n",
      "Custo Após 990 iterações é 0.6573794867273133\n",
      "Custo Após 1000 iterações é 0.657268660003644\n",
      "Custo Após 1010 iterações é 0.6571450605725365\n",
      "Custo Após 1020 iterações é 0.6570049859429333\n",
      "Custo Após 1030 iterações é 0.6568434532873549\n",
      "Custo Após 1040 iterações é 0.6566536477169298\n",
      "Custo Após 1050 iterações é 0.6564259785644895\n",
      "Custo Após 1060 iterações é 0.6561467380959953\n",
      "Custo Após 1070 iterações é 0.655795643427926\n",
      "Custo Após 1080 iterações é 0.6553420234999752\n",
      "Custo Após 1090 iterações é 0.6547376140153683\n",
      "Custo Após 1100 iterações é 0.6539035838296473\n",
      "Custo Após 1110 iterações é 0.6527050709125587\n",
      "Custo Após 1120 iterações é 0.6508998262047678\n",
      "Custo Após 1130 iterações é 0.6480306188436917\n",
      "Custo Após 1140 iterações é 0.6432043363496918\n",
      "Custo Após 1150 iterações é 0.6347596571143292\n",
      "Custo Após 1160 iterações é 0.620746296820772\n",
      "Custo Após 1170 iterações é 0.6042846288902264\n",
      "Custo Após 1180 iterações é 0.5952428269326389\n",
      "Custo Após 1190 iterações é 0.5917478946405473\n",
      "Custo Após 1200 iterações é 0.5890938765771245\n",
      "Custo Após 1210 iterações é 0.5864713449808852\n",
      "Custo Após 1220 iterações é 0.5838199495603733\n",
      "Custo Após 1230 iterações é 0.5811298132430834\n",
      "Custo Após 1240 iterações é 0.5783925020041842\n",
      "Custo Após 1250 iterações é 0.575597592578712\n",
      "Custo Após 1260 iterações é 0.5727326092836444\n",
      "Custo Após 1270 iterações é 0.5697820453916455\n",
      "Custo Após 1280 iterações é 0.566725750002473\n",
      "Custo Após 1290 iterações é 0.5635388940534393\n",
      "Custo Após 1300 iterações é 0.5601900396483253\n",
      "Custo Após 1310 iterações é 0.5566347439675423\n",
      "Custo Após 1320 iterações é 0.5528136228859278\n",
      "Custo Após 1330 iterações é 0.5486449647394478\n",
      "Custo Após 1340 iterações é 0.5440147756282787\n",
      "Custo Após 1350 iterações é 0.5387711293093298\n",
      "Custo Após 1360 iterações é 0.5326916894394506\n",
      "Custo Após 1370 iterações é 0.5254725055343165\n",
      "Custo Após 1380 iterações é 0.5166911232900833\n",
      "Custo Após 1390 iterações é 0.5058598938825877\n",
      "Custo Após 1400 iterações é 0.49234135127822165\n",
      "Custo Após 1410 iterações é 0.47579570206398414\n",
      "Custo Após 1420 iterações é 0.455870561145956\n",
      "Custo Após 1430 iterações é 0.4346886204443873\n",
      "Custo Após 1440 iterações é 0.42012939604807487\n",
      "Custo Após 1450 iterações é 0.4781949720292801\n",
      "Custo Após 1460 iterações é 0.44933589750896347\n",
      "Custo Após 1470 iterações é 0.4452229335297139\n",
      "Custo Após 1480 iterações é 0.44072001610293904\n",
      "Custo Após 1490 iterações é 0.4366255190578563\n",
      "Custo Após 1500 iterações é 0.430772300271598\n",
      "Custo Após 1510 iterações é 0.42565857222549924\n",
      "Custo Após 1520 iterações é 0.4228293415100047\n",
      "Custo Após 1530 iterações é 0.42055757316771575\n",
      "Custo Após 1540 iterações é 0.41391367292633896\n",
      "Custo Após 1550 iterações é 0.40934577740435757\n",
      "Custo Após 1560 iterações é 0.40377988267750536\n",
      "Custo Após 1570 iterações é 0.3972361301553274\n",
      "Custo Após 1580 iterações é 0.39239463814937764\n",
      "Custo Após 1590 iterações é 0.3847846026342474\n",
      "Custo Após 1600 iterações é 0.3831056317373498\n",
      "Custo Após 1610 iterações é 0.375555675520645\n",
      "Custo Após 1620 iterações é 0.3757352240109443\n",
      "Custo Após 1630 iterações é 0.37141393476074186\n",
      "Custo Após 1640 iterações é 0.3673860183239389\n",
      "Custo Após 1650 iterações é 0.36437168784946034\n",
      "Custo Após 1660 iterações é 0.36071382034092014\n",
      "Custo Após 1670 iterações é 0.35843003917376626\n",
      "Custo Após 1680 iterações é 0.3578879158146324\n",
      "Custo Após 1690 iterações é 0.35261370113658996\n",
      "Custo Após 1700 iterações é 0.3513515856475191\n",
      "Custo Após 1710 iterações é 0.348112898685318\n",
      "Custo Após 1720 iterações é 0.337940602707933\n",
      "Custo Após 1730 iterações é 0.3364817070372059\n",
      "Custo Após 1740 iterações é 0.3357112861785124\n",
      "Custo Após 1750 iterações é 0.33569466961712885\n",
      "Custo Após 1760 iterações é 0.3336530849931801\n",
      "Custo Após 1770 iterações é 0.32945577636909257\n",
      "Custo Após 1780 iterações é 0.330168505156185\n",
      "Custo Após 1790 iterações é 0.3284564341249902\n",
      "Custo Após 1800 iterações é 0.3266394993430996\n",
      "Custo Após 1810 iterações é 0.335841311964901\n",
      "Custo Após 1820 iterações é 0.33027274657516786\n",
      "Custo Após 1830 iterações é 0.32201904783601926\n",
      "Custo Após 1840 iterações é 0.3194833981350961\n",
      "Custo Após 1850 iterações é 0.3185190876142161\n",
      "Custo Após 1860 iterações é 0.322387460315462\n",
      "Custo Após 1870 iterações é 0.3155079494579362\n",
      "Custo Após 1880 iterações é 0.3196162231083822\n",
      "Custo Após 1890 iterações é 0.314898806970959\n",
      "Custo Após 1900 iterações é 0.3147537369493359\n",
      "Custo Após 1910 iterações é 0.31216147759203483\n",
      "Custo Após 1920 iterações é 0.3112284717346656\n"
     ]
    },
    {
     "name": "stdout",
     "output_type": "stream",
     "text": [
      "Custo Após 1930 iterações é 0.3101095825579565\n",
      "Custo Após 1940 iterações é 0.30842219096048973\n",
      "Custo Após 1950 iterações é 0.30473031279499996\n",
      "Custo Após 1960 iterações é 0.3039615131418131\n",
      "Custo Após 1970 iterações é 0.30563713088930544\n",
      "Custo Após 1980 iterações é 0.3009657022680123\n",
      "Custo Após 1990 iterações é 0.30185016717561547\n",
      "Custo Após 2000 iterações é 0.3013485703914156\n",
      "Custo Após 2010 iterações é 0.2991772605033267\n",
      "Custo Após 2020 iterações é 0.2987167410746751\n",
      "Custo Após 2030 iterações é 0.2976005088411175\n",
      "Custo Após 2040 iterações é 0.2974357909930929\n",
      "Custo Após 2050 iterações é 0.2952571560215915\n",
      "Custo Após 2060 iterações é 0.2939758584429935\n",
      "Custo Após 2070 iterações é 0.29540255056353254\n",
      "Custo Após 2080 iterações é 0.2934110997578939\n",
      "Custo Após 2090 iterações é 0.29311716602245147\n",
      "Custo Após 2100 iterações é 0.29592179427678367\n",
      "Custo Após 2110 iterações é 0.2945228022326656\n",
      "Custo Após 2120 iterações é 0.2942057077426824\n",
      "Custo Após 2130 iterações é 0.2967389403223906\n",
      "Custo Após 2140 iterações é 0.29203850317068525\n",
      "Custo Após 2150 iterações é 0.2983843596958259\n",
      "Custo Após 2160 iterações é 0.29207520121116487\n",
      "Custo Após 2170 iterações é 0.2914590027972166\n",
      "Custo Após 2180 iterações é 0.29079860686065145\n",
      "Custo Após 2190 iterações é 0.2938876171815238\n",
      "Custo Após 2200 iterações é 0.28745824420201477\n",
      "Custo Após 2210 iterações é 0.27520457548656835\n",
      "Custo Após 2220 iterações é 0.2834575067901271\n",
      "Custo Após 2230 iterações é 0.2816964748956927\n",
      "Custo Após 2240 iterações é 0.28470549348148994\n",
      "Custo Após 2250 iterações é 0.28572323145065126\n",
      "Custo Após 2260 iterações é 0.28619888761008333\n",
      "Custo Após 2270 iterações é 0.2892538223972886\n",
      "Custo Após 2280 iterações é 0.28938716581798474\n",
      "Custo Após 2290 iterações é 0.2920287760918041\n",
      "Custo Após 2300 iterações é 0.2843044837507351\n",
      "Custo Após 2310 iterações é 0.2817658486542511\n",
      "Custo Após 2320 iterações é 0.27937799062330293\n",
      "Custo Após 2330 iterações é 0.2862370311945543\n",
      "Custo Após 2340 iterações é 0.2971304849650435\n",
      "Custo Após 2350 iterações é 0.2833041599770982\n",
      "Custo Após 2360 iterações é 0.26879533454747045\n",
      "Custo Após 2370 iterações é 0.2880544383125702\n",
      "Custo Após 2380 iterações é 0.30681118535062196\n",
      "Custo Após 2390 iterações é 0.26773392976963273\n",
      "Custo Após 2400 iterações é 0.2716035883170582\n",
      "Custo Após 2410 iterações é 0.28421047893377743\n",
      "Custo Após 2420 iterações é 0.2761401149017042\n",
      "Custo Após 2430 iterações é 0.27479406229418346\n",
      "Custo Após 2440 iterações é 0.2697117691554946\n",
      "Custo Após 2450 iterações é 0.28050653092271177\n",
      "Custo Após 2460 iterações é 0.26833246741976924\n",
      "Custo Após 2470 iterações é 0.27462252665418074\n",
      "Custo Após 2480 iterações é 0.27264045638272055\n",
      "Custo Após 2490 iterações é 0.26013516667685166\n",
      "Custo Após 2500 iterações é 0.2690602427124192\n",
      "Custo Após 2510 iterações é 0.27038824418053875\n",
      "Custo Após 2520 iterações é 0.2515385524401059\n",
      "Custo Após 2530 iterações é 0.2601474761692745\n",
      "Custo Após 2540 iterações é 0.2699220498304333\n",
      "Custo Após 2550 iterações é 0.24876759327809508\n",
      "Custo Após 2560 iterações é 0.2525249923456461\n",
      "Custo Após 2570 iterações é 0.27322911683673484\n",
      "Custo Após 2580 iterações é 0.24884726122835285\n",
      "Custo Após 2590 iterações é 0.24899675631433926\n",
      "Custo Após 2600 iterações é 0.25509425142546904\n",
      "Custo Após 2610 iterações é 0.26302369146016774\n",
      "Custo Após 2620 iterações é 0.24417479921486046\n",
      "Custo Após 2630 iterações é 0.2454219997857896\n",
      "Custo Após 2640 iterações é 0.24928751997786786\n",
      "Custo Após 2650 iterações é 0.25917714028363575\n",
      "Custo Após 2660 iterações é 0.2413999145886865\n",
      "Custo Após 2670 iterações é 0.24260043741967782\n",
      "Custo Após 2680 iterações é 0.24581494928519565\n",
      "Custo Após 2690 iterações é 0.2467925006614991\n",
      "Custo Após 2700 iterações é 0.24285678059384166\n",
      "Custo Após 2710 iterações é 0.24390668908006066\n",
      "Custo Após 2720 iterações é 0.24300453539222516\n",
      "Custo Após 2730 iterações é 0.2422637704464503\n",
      "Custo Após 2740 iterações é 0.240937053197249\n",
      "Custo Após 2750 iterações é 0.24167807668447167\n",
      "Custo Após 2760 iterações é 0.2394237387328443\n",
      "Custo Após 2770 iterações é 0.23924533539643092\n",
      "Custo Após 2780 iterações é 0.23911387571418194\n",
      "Custo Após 2790 iterações é 0.2383577510595585\n",
      "Custo Após 2800 iterações é 0.23743957571198568\n",
      "Custo Após 2810 iterações é 0.2346016361300836\n",
      "Custo Após 2820 iterações é 0.23773660087827922\n",
      "Custo Após 2830 iterações é 0.23708381207817697\n",
      "Custo Após 2840 iterações é 0.23264892053065864\n",
      "Custo Após 2850 iterações é 0.2336026426469333\n",
      "Custo Após 2860 iterações é 0.23574596862215588\n",
      "Custo Após 2870 iterações é 0.23343036133702977\n",
      "Custo Após 2880 iterações é 0.23021985873824455\n",
      "Custo Após 2890 iterações é 0.2315895308816995\n",
      "Custo Após 2900 iterações é 0.23389646014289475\n",
      "Custo Após 2910 iterações é 0.23024529443542777\n",
      "Custo Após 2920 iterações é 0.22949179511047538\n",
      "Custo Após 2930 iterações é 0.23065432643703127\n",
      "Custo Após 2940 iterações é 0.23016701372189877\n",
      "Custo Após 2950 iterações é 0.2274623697759205\n",
      "Custo Após 2960 iterações é 0.22734370788239106\n",
      "Custo Após 2970 iterações é 0.22990140550434424\n",
      "Custo Após 2980 iterações é 0.22808813621714547\n",
      "Custo Após 2990 iterações é 0.2242732829970382\n",
      "\n",
      "Treinamento Concluido.\n",
      "\n"
     ]
    }
   ],
   "source": [
    "# Treinamento do modelo\n",
    "print('\\nIniciando o Treinamento.\\n')\n",
    "\n",
    "parametros, custo = modeloNN(X = X_treino,\n",
    "                             Y = y_treino,\n",
    "                             dims_camada_entrada = dims_camada_entrada,\n",
    "                             num_iterations = 3000,\n",
    "                             learning_rate = 0.0075)\n",
    "\n",
    "print('\\nTreinamento Concluido.\\n')"
   ]
  },
  {
   "cell_type": "code",
   "execution_count": 48,
   "metadata": {},
   "outputs": [
    {
     "data": {
      "text/plain": [
       "[<matplotlib.lines.Line2D at 0x1a7bb27b588>]"
      ]
     },
     "execution_count": 48,
     "metadata": {},
     "output_type": "execute_result"
    },
    {
     "data": {
      "image/png": "[encoded data removed]",
      "text/plain": [
       "<Figure size 432x288 with 1 Axes>"
      ]
     },
     "metadata": {
      "needs_background": "light"
     },
     "output_type": "display_data"
    }
   ],
   "source": [
    "# Plot do erro durante o treinamento\n",
    "plt.plot(custo)"
   ]
  },
  {
   "cell_type": "code",
   "execution_count": 49,
   "metadata": {},
   "outputs": [],
   "source": [
    "# Previsões com os dados de treino\n",
    "y_pred_treino = predict(X_treino, parametros)"
   ]
  },
  {
   "cell_type": "code",
   "execution_count": 50,
   "metadata": {},
   "outputs": [
    {
     "data": {
      "text/plain": [
       "array([[9.54991860e-01, 9.57736371e-01, 9.64716418e-01, 9.17525880e-01,\n",
       "        9.35540109e-01, 5.94042961e-01, 9.30931778e-01, 1.89838968e-05,\n",
       "        9.09853130e-01, 9.52984257e-01, 1.02253903e-01, 1.43298554e-04,\n",
       "        9.51575021e-01, 9.07413131e-01, 9.55686755e-01, 6.07538018e-04,\n",
       "        9.47181512e-01, 1.74156593e-01, 9.61047222e-01, 3.55414958e-01,\n",
       "        8.94742348e-01, 7.44622389e-02, 9.67946100e-01, 9.61085698e-01,\n",
       "        7.81557461e-02, 9.40958412e-01, 9.16169761e-01, 9.34682584e-01,\n",
       "        9.32719319e-01, 9.33933966e-01, 9.54835145e-01, 2.23188167e-03,\n",
       "        9.45243246e-01, 9.54562151e-01, 9.21694894e-01, 9.58385371e-01,\n",
       "        1.89597203e-03, 3.14705492e-01, 2.28159634e-01, 9.67788251e-01,\n",
       "        9.61225952e-01, 9.65858328e-01, 8.24917654e-01, 6.33423152e-01,\n",
       "        3.85438543e-04, 1.51949842e-07, 7.81444353e-01, 9.62066324e-01,\n",
       "        5.88549248e-03, 9.41465047e-01, 9.56332746e-01, 8.84031221e-01,\n",
       "        9.36812288e-01, 8.74682685e-01, 9.48602293e-01, 9.54320015e-01,\n",
       "        9.61149650e-01, 9.43444353e-01, 3.69548049e-01, 9.58337051e-01,\n",
       "        9.56021404e-01, 9.61628991e-01, 5.55351282e-01, 2.31711057e-02,\n",
       "        9.63651617e-01, 9.35667797e-01, 3.10188993e-04, 8.52024271e-01,\n",
       "        1.24712769e-04, 9.48901633e-01, 7.41596237e-01, 9.55240436e-01,\n",
       "        9.16936725e-01, 9.46779333e-01, 9.64663422e-01, 9.65706483e-01,\n",
       "        3.31565180e-09, 9.46046174e-01, 9.46773329e-01, 1.24882460e-03,\n",
       "        9.45286935e-01, 9.64558492e-01, 9.34546310e-01, 9.46803905e-05,\n",
       "        1.92786090e-02, 9.55261823e-01, 7.41142505e-05, 9.13319381e-01,\n",
       "        9.14306882e-01, 9.39526869e-01, 9.47368117e-01, 3.17541715e-01,\n",
       "        9.22319415e-01, 9.68494107e-01, 8.30018136e-03, 9.00773719e-01,\n",
       "        9.24975254e-05, 7.30490671e-02, 8.99092489e-01, 5.58493673e-02,\n",
       "        9.67030960e-01, 9.66815648e-01, 2.28507996e-08, 6.85527325e-02,\n",
       "        3.58269388e-02, 1.34062533e-10, 9.50172539e-01, 6.09336198e-01,\n",
       "        5.33362444e-04, 9.65804179e-01, 9.57154220e-01, 7.94951763e-01,\n",
       "        9.37981779e-01, 5.47046538e-02, 1.17395414e-02, 9.15276911e-01,\n",
       "        9.15738643e-01, 9.53508865e-01, 9.62430424e-01, 9.66333797e-01,\n",
       "        8.92798200e-01, 1.95404130e-03, 9.03300868e-01, 8.81096079e-01,\n",
       "        9.63087126e-01, 9.58009723e-01, 9.42120163e-01, 9.73636208e-01,\n",
       "        7.60082691e-01, 9.39074170e-01, 9.45098932e-01, 9.67835294e-01,\n",
       "        8.89570070e-01, 9.57177792e-01, 6.27135176e-01, 4.98675462e-01,\n",
       "        1.29921389e-06, 9.64216220e-01, 9.62745784e-01, 9.69976245e-01,\n",
       "        9.02664340e-01, 3.34162327e-09, 9.41998257e-01, 9.51339669e-01,\n",
       "        9.57433215e-01, 9.68769226e-01, 1.07447742e-05, 9.62135529e-01,\n",
       "        9.52122135e-01, 9.55568799e-01, 8.77096444e-01, 9.45517880e-01,\n",
       "        9.59403479e-01, 3.17781662e-04, 4.25717492e-08, 9.36504008e-03,\n",
       "        9.56876354e-01, 9.54418154e-01, 9.55350840e-01, 7.23199480e-03,\n",
       "        9.61756793e-01, 9.35161250e-01, 9.67131880e-01, 9.49124311e-01,\n",
       "        9.51712699e-01, 1.24146057e-04, 1.62523216e-02, 2.33417380e-03,\n",
       "        2.68098011e-01, 9.61387195e-01, 9.41737820e-01, 9.41480401e-01,\n",
       "        9.48791408e-01, 5.05139688e-01, 9.12183774e-01, 8.77867641e-01,\n",
       "        9.02847326e-01, 9.39819550e-01, 9.25748284e-01, 8.57403064e-01,\n",
       "        9.42699873e-01, 9.64453619e-01, 1.85196987e-02, 2.94403251e-06,\n",
       "        9.59723559e-01, 9.18098366e-01, 4.35163691e-03, 7.12974001e-01,\n",
       "        7.94166797e-07, 5.74824498e-01, 9.28118131e-01, 3.94663443e-01,\n",
       "        9.66312846e-01, 9.67906306e-01, 9.49395871e-01, 9.19804508e-01,\n",
       "        8.98339871e-01, 9.31668387e-01, 9.37788015e-01, 9.20431392e-01,\n",
       "        8.15383222e-01, 9.54665239e-01, 9.59950352e-01, 7.23000794e-01,\n",
       "        9.65891982e-01, 9.48226167e-01, 9.39343622e-01, 9.26063428e-01,\n",
       "        9.65311329e-01, 1.54181102e-07, 9.37917537e-01, 9.58516027e-01,\n",
       "        9.44246020e-01, 6.70849838e-02, 9.55947917e-01, 6.18153338e-07,\n",
       "        9.31032725e-01, 8.10450618e-04, 1.03662172e-08, 6.79439454e-01,\n",
       "        9.54482990e-01, 9.62992222e-01, 2.51014921e-01, 9.56326785e-01,\n",
       "        9.31029880e-01, 9.25020619e-01, 2.01404702e-01, 3.86398306e-04,\n",
       "        3.37308799e-06, 6.43059310e-04, 8.86191453e-01, 9.14621502e-01,\n",
       "        8.63155086e-02, 9.20846067e-01, 9.34172513e-01, 9.61253336e-01,\n",
       "        4.51257833e-07, 9.53466917e-01, 9.53387306e-01, 9.51629385e-01,\n",
       "        2.38044930e-01, 9.42723948e-01, 9.44693072e-01, 8.83337027e-01,\n",
       "        9.60423062e-01, 9.15835254e-01, 9.33993577e-01, 1.39847437e-02,\n",
       "        9.31672218e-01, 9.46513481e-01, 8.87903140e-14, 9.32009472e-01,\n",
       "        2.02219950e-14, 3.48494866e-06, 3.58448147e-01, 9.45097274e-01,\n",
       "        9.45303759e-01, 7.89537293e-01, 8.66817516e-01, 9.63083299e-01,\n",
       "        7.95986924e-01, 9.41094875e-01, 8.87526178e-01, 9.37204842e-01,\n",
       "        9.65985016e-01, 9.40021923e-03, 2.12884056e-06, 1.95122626e-04,\n",
       "        9.55664007e-01, 7.03180954e-01, 8.99941386e-01, 7.47853310e-01,\n",
       "        4.48184462e-02, 9.49473343e-01, 9.56648624e-01, 8.78403713e-01,\n",
       "        2.84231253e-05, 9.39487042e-01, 9.39237371e-01, 8.09966991e-01,\n",
       "        9.23292321e-01, 2.16309591e-03, 3.80096948e-03, 6.91662775e-06,\n",
       "        9.43351238e-01, 9.30941061e-01, 2.77149060e-01, 9.62507186e-01,\n",
       "        9.60127936e-01, 9.31339700e-01, 9.05030061e-01, 2.83860305e-02,\n",
       "        9.71519579e-01, 9.50768953e-01, 9.56058133e-01, 2.73197867e-05,\n",
       "        1.15950256e-03, 7.40587247e-02, 1.11826501e-03, 9.68744033e-01,\n",
       "        6.97395544e-01, 1.33445728e-01, 9.63310356e-01, 9.62614181e-01,\n",
       "        9.48339580e-01, 9.46822449e-01, 9.46480172e-01, 9.53295898e-01,\n",
       "        9.40166759e-01, 9.69677099e-01, 9.47694316e-01, 9.70743980e-01,\n",
       "        9.60488100e-01, 8.48584619e-01, 9.60078315e-01, 9.55985523e-01,\n",
       "        9.65946994e-01, 9.64790902e-01, 9.47308290e-01, 8.67068793e-01,\n",
       "        9.50218930e-01, 7.36342053e-01, 6.21835446e-10, 9.39873833e-01,\n",
       "        9.50267400e-01, 9.49702468e-01, 9.13520826e-01, 9.20069794e-01,\n",
       "        6.62486512e-04, 9.41796857e-01, 1.96266920e-04, 9.44174286e-01,\n",
       "        9.68352187e-01, 9.48278920e-01, 9.58266079e-01, 4.06027316e-04,\n",
       "        8.68916686e-01, 9.68561160e-01, 3.41916131e-04, 1.61369764e-01,\n",
       "        8.94647026e-01, 8.85190874e-01, 1.49109042e-07, 9.61696615e-01,\n",
       "        9.61231265e-01, 7.21609570e-14, 9.63852303e-01, 9.43927167e-01,\n",
       "        8.96175938e-01, 9.32150518e-01, 5.99800879e-01, 9.39322260e-01,\n",
       "        9.31138768e-01, 7.95817620e-01, 9.47070443e-01, 9.53962440e-01,\n",
       "        6.58386205e-01, 9.37494455e-01, 3.38343545e-11, 9.60899122e-01,\n",
       "        7.61922650e-01, 9.62601642e-01, 9.61887449e-01, 9.65837902e-01,\n",
       "        6.01686394e-01, 9.59173454e-01, 1.40502695e-03, 9.39270082e-01,\n",
       "        2.02717521e-03, 9.68544251e-01, 8.01405781e-02, 5.30909600e-01,\n",
       "        9.63136616e-01, 4.38958262e-05, 8.97371378e-01, 9.63129154e-01,\n",
       "        2.88223758e-02, 8.71555348e-01, 9.56026754e-01, 9.46777372e-01,\n",
       "        1.83330910e-02, 9.32580566e-01, 1.44349109e-01, 9.59446557e-01,\n",
       "        9.55348084e-01, 9.53389261e-01, 9.61376488e-01, 9.14680301e-01,\n",
       "        9.39038417e-01, 1.94198767e-04, 1.35749014e-01, 8.61045283e-01,\n",
       "        9.58919433e-01, 6.80478645e-01, 9.58500697e-01, 9.66181990e-01,\n",
       "        8.81601183e-01, 9.41237542e-01, 3.65891222e-14, 8.87630660e-01,\n",
       "        8.73896218e-01, 5.79383678e-01, 8.94445595e-01, 9.36328386e-01,\n",
       "        9.09040708e-01, 9.63157930e-01, 9.30307169e-03, 1.17183909e-03,\n",
       "        5.80919843e-02, 9.62775108e-01, 9.61370813e-01, 9.59491250e-01,\n",
       "        9.63494491e-07, 2.74041716e-03, 2.35383511e-02, 9.64178667e-01,\n",
       "        9.67952304e-01, 1.15749907e-01, 2.76763177e-06, 2.52805367e-04,\n",
       "        8.72535189e-01, 9.23932681e-01, 9.64215263e-01, 9.51961023e-01,\n",
       "        9.31869324e-01, 8.18732572e-01, 9.21788473e-01, 9.50537579e-01,\n",
       "        9.36315405e-01, 1.09466834e-07, 9.50056683e-01, 2.15569607e-01,\n",
       "        8.33934533e-06, 9.58261865e-01, 9.55660728e-01, 9.47874435e-01,\n",
       "        1.54740457e-07, 8.07091397e-01, 8.57042618e-01, 5.37735456e-05,\n",
       "        9.62503534e-01, 6.16746221e-01, 1.08859807e-03, 9.39902633e-01,\n",
       "        8.70841049e-01, 9.59187292e-01, 4.43518757e-02, 9.04005073e-01,\n",
       "        8.49867457e-01, 6.78315167e-04, 9.35413425e-01, 9.47237868e-01,\n",
       "        9.56601572e-01, 9.49931824e-01, 1.59461333e-19, 7.63019473e-05,\n",
       "        7.22780622e-01, 9.60928522e-01, 1.48928611e-03, 9.53501929e-01,\n",
       "        3.53840933e-04, 2.86766145e-11, 9.54518437e-01, 9.18008529e-01,\n",
       "        9.61970712e-01, 9.62657767e-01, 4.71599516e-01, 1.40607944e-01,\n",
       "        2.31666069e-08, 9.36371417e-01, 9.68976110e-01, 2.34261342e-02,\n",
       "        2.41265679e-02, 9.23704982e-01, 9.45626427e-01, 2.14905348e-14,\n",
       "        1.77860575e-07, 9.45039666e-01, 9.34579735e-01, 6.02453151e-03,\n",
       "        9.62444413e-01, 9.44812281e-01, 1.76702315e-03]])"
      ]
     },
     "execution_count": 50,
     "metadata": {},
     "output_type": "execute_result"
    }
   ],
   "source": [
    "# Visualiza as previsões\n",
    "y_pred_treino"
   ]
  },
  {
   "cell_type": "code",
   "execution_count": 51,
   "metadata": {},
   "outputs": [],
   "source": [
    "# Ajustamos o shape em treino\n",
    "y_pred_treino = y_pred_treino.reshape(-1)\n",
    "y_treino = y_treino.reshape(-1)"
   ]
  },
  {
   "cell_type": "code",
   "execution_count": 53,
   "metadata": {},
   "outputs": [
    {
     "data": {
      "text/plain": [
       "array([ True,  True,  True,  True,  True,  True,  True, False,  True,\n",
       "        True, False, False,  True,  True,  True, False,  True, False,\n",
       "        True, False,  True, False,  True,  True, False,  True,  True,\n",
       "        True,  True,  True,  True, False,  True,  True,  True,  True,\n",
       "       False, False, False,  True,  True,  True,  True,  True, False,\n",
       "       False,  True,  True, False,  True,  True,  True,  True,  True,\n",
       "        True,  True,  True,  True, False,  True,  True,  True,  True,\n",
       "       False,  True,  True, False,  True, False,  True,  True,  True,\n",
       "        True,  True,  True,  True, False,  True,  True, False,  True,\n",
       "        True,  True, False, False,  True, False,  True,  True,  True,\n",
       "        True, False,  True,  True, False,  True, False, False,  True,\n",
       "       False,  True,  True, False, False, False, False,  True,  True,\n",
       "       False,  True,  True,  True,  True, False, False,  True,  True,\n",
       "        True,  True,  True,  True, False,  True,  True,  True,  True,\n",
       "        True,  True,  True,  True,  True,  True,  True,  True,  True,\n",
       "       False, False,  True,  True,  True,  True, False,  True,  True,\n",
       "        True,  True, False,  True,  True,  True,  True,  True,  True,\n",
       "       False, False, False,  True,  True,  True, False,  True,  True,\n",
       "        True,  True,  True, False, False, False, False,  True,  True,\n",
       "        True,  True,  True,  True,  True,  True,  True,  True,  True,\n",
       "        True,  True, False, False,  True,  True, False,  True, False,\n",
       "        True,  True, False,  True,  True,  True,  True,  True,  True,\n",
       "        True,  True,  True,  True,  True,  True,  True,  True,  True,\n",
       "        True,  True, False,  True,  True,  True, False,  True, False,\n",
       "        True, False, False,  True,  True,  True, False,  True,  True,\n",
       "        True, False, False, False, False,  True,  True, False,  True,\n",
       "        True,  True, False,  True,  True,  True, False,  True,  True,\n",
       "        True,  True,  True,  True, False,  True,  True, False,  True,\n",
       "       False, False, False,  True,  True,  True,  True,  True,  True,\n",
       "        True,  True,  True,  True, False, False, False,  True,  True,\n",
       "        True,  True, False,  True,  True,  True, False,  True,  True,\n",
       "        True,  True, False, False, False,  True,  True, False,  True,\n",
       "        True,  True,  True, False,  True,  True,  True, False, False,\n",
       "       False, False,  True,  True, False,  True,  True,  True,  True,\n",
       "        True,  True,  True,  True,  True,  True,  True,  True,  True,\n",
       "        True,  True,  True,  True,  True,  True,  True, False,  True,\n",
       "        True,  True,  True,  True, False,  True, False,  True,  True,\n",
       "        True,  True, False,  True,  True, False, False,  True,  True,\n",
       "       False,  True,  True, False,  True,  True,  True,  True,  True,\n",
       "        True,  True,  True,  True,  True,  True,  True, False,  True,\n",
       "        True,  True,  True,  True,  True,  True, False,  True, False,\n",
       "        True, False,  True,  True, False,  True,  True, False,  True,\n",
       "        True,  True, False,  True, False,  True,  True,  True,  True,\n",
       "        True,  True, False, False,  True,  True,  True,  True,  True,\n",
       "        True,  True, False,  True,  True,  True,  True,  True,  True,\n",
       "        True, False, False, False,  True,  True,  True, False, False,\n",
       "       False,  True,  True, False, False, False,  True,  True,  True,\n",
       "        True,  True,  True,  True,  True,  True, False,  True, False,\n",
       "       False,  True,  True,  True, False,  True,  True, False,  True,\n",
       "        True, False,  True,  True,  True, False,  True,  True, False,\n",
       "        True,  True,  True,  True, False, False,  True,  True, False,\n",
       "        True, False, False,  True,  True,  True,  True, False, False,\n",
       "       False,  True,  True, False, False,  True,  True, False, False,\n",
       "        True,  True, False,  True,  True, False])"
      ]
     },
     "execution_count": 53,
     "metadata": {},
     "output_type": "execute_result"
    }
   ],
   "source": [
    "y_pred_treino > 0.5"
   ]
  },
  {
   "cell_type": "code",
   "execution_count": 52,
   "metadata": {},
   "outputs": [],
   "source": [
    "# Convertemos as previsões para o valor binário de classe \n",
    "# (0 ou 1, usando como threshold o valor de 0.5 da probabilidade)\n",
    "y_pred_treino = 1 * (y_pred_treino > 0.5)"
   ]
  },
  {
   "cell_type": "code",
   "execution_count": 54,
   "metadata": {},
   "outputs": [
    {
     "data": {
      "text/plain": [
       "array([1, 1, 1, 1, 1, 1, 1, 0, 1, 1, 0, 0, 1, 1, 1, 0, 1, 0, 1, 0, 1, 0,\n",
       "       1, 1, 0, 1, 1, 1, 1, 1, 1, 0, 1, 1, 1, 1, 0, 0, 0, 1, 1, 1, 1, 1,\n",
       "       0, 0, 1, 1, 0, 1, 1, 1, 1, 1, 1, 1, 1, 1, 0, 1, 1, 1, 1, 0, 1, 1,\n",
       "       0, 1, 0, 1, 1, 1, 1, 1, 1, 1, 0, 1, 1, 0, 1, 1, 1, 0, 0, 1, 0, 1,\n",
       "       1, 1, 1, 0, 1, 1, 0, 1, 0, 0, 1, 0, 1, 1, 0, 0, 0, 0, 1, 1, 0, 1,\n",
       "       1, 1, 1, 0, 0, 1, 1, 1, 1, 1, 1, 0, 1, 1, 1, 1, 1, 1, 1, 1, 1, 1,\n",
       "       1, 1, 1, 0, 0, 1, 1, 1, 1, 0, 1, 1, 1, 1, 0, 1, 1, 1, 1, 1, 1, 0,\n",
       "       0, 0, 1, 1, 1, 0, 1, 1, 1, 1, 1, 0, 0, 0, 0, 1, 1, 1, 1, 1, 1, 1,\n",
       "       1, 1, 1, 1, 1, 1, 0, 0, 1, 1, 0, 1, 0, 1, 1, 0, 1, 1, 1, 1, 1, 1,\n",
       "       1, 1, 1, 1, 1, 1, 1, 1, 1, 1, 1, 0, 1, 1, 1, 0, 1, 0, 1, 0, 0, 1,\n",
       "       1, 1, 0, 1, 1, 1, 0, 0, 0, 0, 1, 1, 0, 1, 1, 1, 0, 1, 1, 1, 0, 1,\n",
       "       1, 1, 1, 1, 1, 0, 1, 1, 0, 1, 0, 0, 0, 1, 1, 1, 1, 1, 1, 1, 1, 1,\n",
       "       1, 0, 0, 0, 1, 1, 1, 1, 0, 1, 1, 1, 0, 1, 1, 1, 1, 0, 0, 0, 1, 1,\n",
       "       0, 1, 1, 1, 1, 0, 1, 1, 1, 0, 0, 0, 0, 1, 1, 0, 1, 1, 1, 1, 1, 1,\n",
       "       1, 1, 1, 1, 1, 1, 1, 1, 1, 1, 1, 1, 1, 1, 0, 1, 1, 1, 1, 1, 0, 1,\n",
       "       0, 1, 1, 1, 1, 0, 1, 1, 0, 0, 1, 1, 0, 1, 1, 0, 1, 1, 1, 1, 1, 1,\n",
       "       1, 1, 1, 1, 1, 1, 0, 1, 1, 1, 1, 1, 1, 1, 0, 1, 0, 1, 0, 1, 1, 0,\n",
       "       1, 1, 0, 1, 1, 1, 0, 1, 0, 1, 1, 1, 1, 1, 1, 0, 0, 1, 1, 1, 1, 1,\n",
       "       1, 1, 0, 1, 1, 1, 1, 1, 1, 1, 0, 0, 0, 1, 1, 1, 0, 0, 0, 1, 1, 0,\n",
       "       0, 0, 1, 1, 1, 1, 1, 1, 1, 1, 1, 0, 1, 0, 0, 1, 1, 1, 0, 1, 1, 0,\n",
       "       1, 1, 0, 1, 1, 1, 0, 1, 1, 0, 1, 1, 1, 1, 0, 0, 1, 1, 0, 1, 0, 0,\n",
       "       1, 1, 1, 1, 0, 0, 0, 1, 1, 0, 0, 1, 1, 0, 0, 1, 1, 0, 1, 1, 0])"
      ]
     },
     "execution_count": 54,
     "metadata": {},
     "output_type": "execute_result"
    }
   ],
   "source": [
    "y_pred_treino"
   ]
  },
  {
   "cell_type": "code",
   "execution_count": 55,
   "metadata": {},
   "outputs": [],
   "source": [
    "# Calculamos a acurácia comparando valor real com valor previsto\n",
    "acc_treino = sum(1 * (y_pred_treino == y_treino)) / len(y_pred_treino) * 100"
   ]
  },
  {
   "cell_type": "code",
   "execution_count": 70,
   "metadata": {},
   "outputs": [
    {
     "name": "stdout",
     "output_type": "stream",
     "text": [
      "Acuracia nos dados de treinamento: 91.30434782608695 %\n"
     ]
    }
   ],
   "source": [
    "print('Acuracia nos dados de treinamento: ' + str(acc_treino) + ' %')"
   ]
  },
  {
   "cell_type": "code",
   "execution_count": 72,
   "metadata": {},
   "outputs": [
    {
     "name": "stdout",
     "output_type": "stream",
     "text": [
      "              precision    recall  f1-score   support\n",
      "\n",
      "     Maligno       0.99      0.77      0.87       177\n",
      "     Benigno       0.88      1.00      0.94       306\n",
      "\n",
      "    accuracy                           0.91       483\n",
      "   macro avg       0.94      0.88      0.90       483\n",
      "weighted avg       0.92      0.91      0.91       483\n",
      "\n"
     ]
    }
   ],
   "source": [
    "print(classification_report(y_treino, y_pred_treino, target_names = ['Maligno', 'Benigno']))"
   ]
  },
  {
   "cell_type": "code",
   "execution_count": 73,
   "metadata": {},
   "outputs": [],
   "source": [
    "# Previsões com o modelo usando dados de teste\n",
    "y_pred_teste = predict(X_teste, parametros)"
   ]
  },
  {
   "cell_type": "code",
   "execution_count": 74,
   "metadata": {},
   "outputs": [
    {
     "data": {
      "text/plain": [
       "array([[9.31184700e-01, 9.01224991e-08, 9.59622477e-01, 2.88831907e-04,\n",
       "        9.61024492e-01, 9.58309635e-01, 9.63581094e-01, 3.09509498e-01,\n",
       "        9.59567110e-01, 9.61792235e-01, 5.32268382e-11, 9.47990149e-01,\n",
       "        3.21923008e-01, 9.56923549e-01, 9.60714062e-01, 8.73693100e-01,\n",
       "        9.31176840e-01, 9.50496110e-01, 9.55548707e-01, 9.69183560e-01,\n",
       "        9.45461264e-01, 9.48123933e-01, 1.48543906e-03, 4.25314028e-11,\n",
       "        9.57609629e-01, 9.47966760e-01, 9.56032129e-01, 9.29425287e-01,\n",
       "        5.61652689e-05, 9.43210886e-01, 4.72363059e-01, 7.71420755e-24,\n",
       "        9.37676340e-01, 2.78311026e-04, 8.52058064e-02, 9.67418632e-01,\n",
       "        9.70930269e-01, 9.05683054e-01, 9.62511062e-01, 8.67452519e-01,\n",
       "        4.88355406e-03, 6.93359939e-01, 4.02185561e-01, 9.52917192e-01,\n",
       "        9.24934348e-01, 4.16204095e-01, 2.62719211e-01, 1.77547489e-01,\n",
       "        9.59173072e-01, 9.63566515e-01, 9.46660252e-01, 3.32513174e-03,\n",
       "        9.17325568e-01, 9.53230202e-01, 8.29082235e-13, 9.52984523e-01,\n",
       "        9.47323228e-01, 8.89205624e-01, 6.11818905e-01, 9.63966167e-01,\n",
       "        9.44320953e-01, 9.50343693e-01, 9.49409702e-01, 9.60028789e-01,\n",
       "        9.47589332e-01, 9.07441429e-01, 9.09778040e-01, 2.64825201e-02,\n",
       "        9.42281087e-01, 8.71633476e-01, 4.48214795e-15, 9.60118090e-01,\n",
       "        4.87260204e-05, 1.60233058e-04, 4.99308646e-02, 8.11905953e-01,\n",
       "        3.96579967e-01, 9.28686106e-01, 9.62049813e-01, 5.32937306e-13,\n",
       "        1.96262392e-24, 2.82472729e-01, 9.58556281e-01, 2.69548696e-01,\n",
       "        9.37937980e-01, 1.40474254e-04]])"
      ]
     },
     "execution_count": 74,
     "metadata": {},
     "output_type": "execute_result"
    }
   ],
   "source": [
    "# Visualiza os dados\n",
    "y_pred_teste"
   ]
  },
  {
   "cell_type": "code",
   "execution_count": 75,
   "metadata": {},
   "outputs": [],
   "source": [
    "# Ajustamos os shapes\n",
    "y_pred_teste = y_pred_teste.reshape(-1)\n",
    "y_teste = y_teste.reshape(-1)"
   ]
  },
  {
   "cell_type": "code",
   "execution_count": 76,
   "metadata": {},
   "outputs": [],
   "source": [
    "# Convertemos as previsões para o valor binário de classe\n",
    "y_pred_teste = 1 * (y_pred_teste > 0.5)"
   ]
  },
  {
   "cell_type": "code",
   "execution_count": 77,
   "metadata": {},
   "outputs": [
    {
     "data": {
      "text/plain": [
       "array([1, 0, 1, 0, 1, 1, 1, 0, 1, 1, 0, 1, 0, 1, 1, 1, 1, 1, 1, 1, 1, 1,\n",
       "       0, 0, 1, 1, 1, 1, 0, 1, 0, 0, 1, 0, 0, 1, 1, 1, 1, 1, 0, 1, 0, 1,\n",
       "       1, 0, 0, 0, 1, 1, 1, 0, 1, 1, 0, 1, 1, 1, 1, 1, 1, 1, 1, 1, 1, 1,\n",
       "       1, 0, 1, 1, 0, 1, 0, 0, 0, 1, 0, 1, 1, 0, 0, 0, 1, 0, 1, 0])"
      ]
     },
     "execution_count": 77,
     "metadata": {},
     "output_type": "execute_result"
    }
   ],
   "source": [
    "# Visualizamos as previsões\n",
    "y_pred_teste"
   ]
  },
  {
   "cell_type": "code",
   "execution_count": 78,
   "metadata": {},
   "outputs": [],
   "source": [
    "# Calculamos a acurácia\n",
    "acuracia = sum(1 * (y_pred_teste == y_teste)) / len(y_pred_teste) * 100"
   ]
  },
  {
   "cell_type": "code",
   "execution_count": 79,
   "metadata": {},
   "outputs": [
    {
     "name": "stdout",
     "output_type": "stream",
     "text": [
      "Acuracia nos dados de teste: 89.53488372093024 %\n"
     ]
    }
   ],
   "source": [
    "print('Acuracia nos dados de teste: ' + str(acuracia) + ' %')"
   ]
  },
  {
   "cell_type": "code",
   "execution_count": 80,
   "metadata": {},
   "outputs": [
    {
     "name": "stdout",
     "output_type": "stream",
     "text": [
      "              precision    recall  f1-score   support\n",
      "\n",
      "     Maligno       0.93      0.80      0.86        35\n",
      "     Benigno       0.88      0.96      0.92        51\n",
      "\n",
      "    accuracy                           0.90        86\n",
      "   macro avg       0.90      0.88      0.89        86\n",
      "weighted avg       0.90      0.90      0.89        86\n",
      "\n"
     ]
    }
   ],
   "source": [
    "print(classification_report(y_teste, y_pred_teste, target_names = ['Maligno', 'Benigno']))"
   ]
  },
  {
   "cell_type": "markdown",
   "metadata": {},
   "source": [
    "### Treinamento do modelo com novos hiperparametros (num_iterations = 2000)"
   ]
  },
  {
   "cell_type": "code",
   "execution_count": 47,
   "metadata": {},
   "outputs": [
    {
     "name": "stdout",
     "output_type": "stream",
     "text": [
      "\n",
      "Iniciando o Treinamento.\n",
      "\n",
      "Custo Após 0 iterações é 0.6931366686671557\n",
      "Custo Após 10 iterações é 0.6917801993141504\n",
      "Custo Após 20 iterações é 0.6904735899192277\n",
      "Custo Após 30 iterações é 0.6892149858880487\n",
      "Custo Após 40 iterações é 0.688002600326596\n",
      "Custo Após 50 iterações é 0.6868347116276534\n",
      "Custo Após 60 iterações é 0.6857096598070319\n",
      "Custo Após 70 iterações é 0.6846258416937658\n",
      "Custo Após 80 iterações é 0.683581711041495\n",
      "Custo Após 90 iterações é 0.6825757775983526\n",
      "Custo Após 100 iterações é 0.6816066043253695\n",
      "Custo Após 110 iterações é 0.6806728054856601\n",
      "Custo Após 120 iterações é 0.6797730426029729\n",
      "Custo Após 130 iterações é 0.6789060243627253\n",
      "Custo Após 140 iterações é 0.6780705048671651\n",
      "Custo Após 150 iterações é 0.6772652808254799\n",
      "Custo Após 160 iterações é 0.6764891882748754\n",
      "Custo Após 170 iterações é 0.6757411048300516\n",
      "Custo Após 180 iterações é 0.6750199432594193\n",
      "Custo Após 190 iterações é 0.6743246516326918\n",
      "Custo Após 200 iterações é 0.673654212340245\n",
      "Custo Após 210 iterações é 0.6730076384990861\n",
      "Custo Após 220 iterações é 0.6723839708735798\n",
      "Custo Após 230 iterações é 0.6717822765695867\n",
      "Custo Após 240 iterações é 0.6712016478012376\n",
      "Custo Após 250 iterações é 0.6706411968806549\n",
      "Custo Após 260 iterações é 0.6701000552806642\n",
      "Custo Após 270 iterações é 0.6695773700752516\n",
      "Custo Após 280 iterações é 0.6690722985236672\n",
      "Custo Após 290 iterações é 0.6685840066848635\n",
      "Custo Após 300 iterações é 0.6681116506696443\n",
      "Custo Após 310 iterações é 0.6676543986688164\n",
      "Custo Após 320 iterações é 0.6672114006135085\n",
      "Custo Após 330 iterações é 0.6667817899316532\n",
      "Custo Após 340 iterações é 0.666364665751145\n",
      "Custo Após 350 iterações é 0.6659590868390051\n",
      "Custo Após 360 iterações é 0.66556405502805\n",
      "Custo Após 370 iterações é 0.6651784872183142\n",
      "Custo Após 380 iterações é 0.6648011777253352\n",
      "Custo Após 390 iterações é 0.664430767956019\n",
      "Custo Após 400 iterações é 0.6640657016755108\n",
      "Custo Após 410 iterações é 0.6637041696126822\n",
      "Custo Após 420 iterações é 0.6633439874925777\n",
      "Custo Após 430 iterações é 0.6629825372968956\n",
      "Custo Após 440 iterações é 0.6626166567842268\n",
      "Custo Após 450 iterações é 0.6622424243529766\n",
      "Custo Após 460 iterações é 0.661854435954698\n",
      "Custo Após 470 iterações é 0.661445522137862\n",
      "Custo Após 480 iterações é 0.6610058184886445\n",
      "Custo Após 490 iterações é 0.6605214542787651\n",
      "Custo Após 500 iterações é 0.6599713674755875\n",
      "Custo Após 510 iterações é 0.6593304343720043\n",
      "Custo Após 520 iterações é 0.6585524760074255\n",
      "Custo Após 530 iterações é 0.6575679201723266\n",
      "Custo Após 540 iterações é 0.6562638774881653\n",
      "Custo Após 550 iterações é 0.6544504056642431\n",
      "Custo Após 560 iterações é 0.6518015463785316\n",
      "Custo Após 570 iterações é 0.6477650265955573\n",
      "Custo Após 580 iterações é 0.6415201567594199\n",
      "Custo Após 590 iterações é 0.6324692895297815\n",
      "Custo Após 600 iterações é 0.6222245687879475\n",
      "Custo Após 610 iterações é 0.6149243337351813\n",
      "Custo Após 620 iterações é 0.6110497251775047\n",
      "Custo Após 630 iterações é 0.6082683060815257\n",
      "Custo Após 640 iterações é 0.6056391314566087\n",
      "Custo Após 650 iterações é 0.6030150209025413\n",
      "Custo Após 660 iterações é 0.6003778108682312\n",
      "Custo Após 670 iterações é 0.5977225661373755\n",
      "Custo Após 680 iterações é 0.5950449835829881\n",
      "Custo Após 690 iterações é 0.5923396720467828\n",
      "Custo Após 700 iterações é 0.5896004841336402\n",
      "Custo Após 710 iterações é 0.5868200301986357\n",
      "Custo Após 720 iterações é 0.583989520556248\n",
      "Custo Após 730 iterações é 0.5810977232536233\n",
      "Custo Após 740 iterações é 0.5781308590943165\n",
      "Custo Após 750 iterações é 0.5750720836276236\n",
      "Custo Após 760 iterações é 0.5718988716075628\n",
      "Custo Após 770 iterações é 0.5685822648422683\n",
      "Custo Após 780 iterações é 0.5650841153042808\n",
      "Custo Após 790 iterações é 0.5613532099369507\n",
      "Custo Após 800 iterações é 0.5573197509676457\n",
      "Custo Após 810 iterações é 0.5528873432587352\n",
      "Custo Após 820 iterações é 0.5479223522783191\n",
      "Custo Após 830 iterações é 0.5422246682821878\n",
      "Custo Após 840 iterações é 0.5353475442634268\n",
      "Custo Após 850 iterações é 0.5271709724270921\n",
      "Custo Após 860 iterações é 0.5171603093005767\n",
      "Custo Após 870 iterações é 0.5047203090736067\n",
      "Custo Após 880 iterações é 0.48929880700938694\n",
      "Custo Após 890 iterações é 0.47071093721492213\n",
      "Custo Após 900 iterações é 0.450491057490026\n",
      "Custo Após 910 iterações é 0.4316041867412166\n",
      "Custo Após 920 iterações é 0.49585646241521825\n",
      "Custo Após 930 iterações é 0.4662010841090902\n",
      "Custo Após 940 iterações é 0.45733538689263586\n",
      "Custo Após 950 iterações é 0.4511658956394062\n",
      "Custo Após 960 iterações é 0.44504672285248675\n",
      "Custo Após 970 iterações é 0.4406478200502117\n",
      "Custo Após 980 iterações é 0.4370965294760228\n",
      "Custo Após 990 iterações é 0.4305056058076427\n",
      "Custo Após 1000 iterações é 0.4266778560656332\n",
      "Custo Após 1010 iterações é 0.42471638172363274\n",
      "Custo Após 1020 iterações é 0.41391438026896854\n",
      "Custo Após 1030 iterações é 0.411316576986978\n",
      "Custo Após 1040 iterações é 0.4064070179752827\n",
      "Custo Após 1050 iterações é 0.3996519976395194\n",
      "Custo Após 1060 iterações é 0.3936566925340648\n",
      "Custo Após 1070 iterações é 0.3891824403423966\n",
      "Custo Após 1080 iterações é 0.386177494604005\n",
      "Custo Após 1090 iterações é 0.37194167915850007\n",
      "Custo Após 1100 iterações é 0.3750824916099896\n",
      "Custo Após 1110 iterações é 0.37145072987775746\n",
      "Custo Após 1120 iterações é 0.3720737651474834\n",
      "Custo Após 1130 iterações é 0.3661917989677015\n",
      "Custo Após 1140 iterações é 0.36421949593489167\n",
      "Custo Após 1150 iterações é 0.3601044195682917\n",
      "Custo Após 1160 iterações é 0.3596975457665437\n",
      "Custo Após 1170 iterações é 0.3564555553028648\n",
      "Custo Após 1180 iterações é 0.35459619085447197\n",
      "Custo Após 1190 iterações é 0.3530110483099447\n",
      "Custo Após 1200 iterações é 0.35199193692139336\n",
      "Custo Após 1210 iterações é 0.34887987408177906\n",
      "Custo Após 1220 iterações é 0.3454293989823948\n",
      "Custo Após 1230 iterações é 0.34126569318670913\n",
      "Custo Após 1240 iterações é 0.3398550390884773\n",
      "Custo Após 1250 iterações é 0.34567061655019615\n",
      "Custo Após 1260 iterações é 0.344924792594788\n",
      "Custo Após 1270 iterações é 0.33071247584824925\n",
      "Custo Após 1280 iterações é 0.3388392905388873\n",
      "Custo Após 1290 iterações é 0.3334269841576313\n",
      "Custo Após 1300 iterações é 0.3258978879155932\n",
      "Custo Após 1310 iterações é 0.33392597937089663\n",
      "Custo Após 1320 iterações é 0.3296824806771091\n",
      "Custo Após 1330 iterações é 0.32951108835436127\n",
      "Custo Após 1340 iterações é 0.3209052023921199\n",
      "Custo Após 1350 iterações é 0.32698775383659406\n",
      "Custo Após 1360 iterações é 0.31825523852323484\n",
      "Custo Após 1370 iterações é 0.32628119860307586\n",
      "Custo Após 1380 iterações é 0.3157018133719494\n",
      "Custo Após 1390 iterações é 0.3202742829664007\n",
      "Custo Após 1400 iterações é 0.3229263093007427\n",
      "Custo Após 1410 iterações é 0.3159327972301757\n",
      "Custo Após 1420 iterações é 0.3127812937127498\n",
      "Custo Após 1430 iterações é 0.3165001802466053\n",
      "Custo Após 1440 iterações é 0.3109160533581421\n",
      "Custo Após 1450 iterações é 0.31141745521570874\n",
      "Custo Após 1460 iterações é 0.31354136155759815\n",
      "Custo Após 1470 iterações é 0.3098544560791904\n",
      "Custo Após 1480 iterações é 0.3115391737933068\n",
      "Custo Após 1490 iterações é 0.30886273463773317\n",
      "Custo Após 1500 iterações é 0.3049159418367485\n",
      "Custo Após 1510 iterações é 0.2999151431210711\n",
      "Custo Após 1520 iterações é 0.3006925847182191\n",
      "Custo Após 1530 iterações é 0.2998647776455794\n",
      "Custo Após 1540 iterações é 0.2987573082141113\n",
      "Custo Após 1550 iterações é 0.29620984906058306\n",
      "Custo Após 1560 iterações é 0.2870938963502378\n",
      "Custo Após 1570 iterações é 0.2849090266127844\n",
      "Custo Após 1580 iterações é 0.2843487102887884\n",
      "Custo Após 1590 iterações é 0.2842659983745436\n",
      "Custo Após 1600 iterações é 0.2844078945289127\n",
      "Custo Após 1610 iterações é 0.2839303643624098\n",
      "Custo Após 1620 iterações é 0.2825636197666451\n",
      "Custo Após 1630 iterações é 0.28200488648538563\n",
      "Custo Após 1640 iterações é 0.29454896566104843\n",
      "Custo Após 1650 iterações é 0.29397110643242463\n",
      "Custo Após 1660 iterações é 0.29224344462710183\n",
      "Custo Após 1670 iterações é 0.2904781934332091\n",
      "Custo Após 1680 iterações é 0.2870982059489542\n",
      "Custo Após 1690 iterações é 0.28736718800191713\n",
      "Custo Após 1700 iterações é 0.28468806147718134\n",
      "Custo Após 1710 iterações é 0.27549025175560926\n",
      "Custo Após 1720 iterações é 0.27355052949735675\n",
      "Custo Após 1730 iterações é 0.27173963103406307\n",
      "Custo Após 1740 iterações é 0.27139560707718413\n",
      "Custo Após 1750 iterações é 0.27400783617910945\n",
      "Custo Após 1760 iterações é 0.2768674953225916\n",
      "Custo Após 1770 iterações é 0.2790198045513944\n",
      "Custo Após 1780 iterações é 0.2756687459921484\n",
      "Custo Após 1790 iterações é 0.26808341510984457\n",
      "Custo Após 1800 iterações é 0.26832534878952446\n",
      "Custo Após 1810 iterações é 0.26830574161869086\n",
      "Custo Após 1820 iterações é 0.27034149429995974\n",
      "Custo Após 1830 iterações é 0.2758307762010291\n",
      "Custo Após 1840 iterações é 0.27393121709773977\n",
      "Custo Após 1850 iterações é 0.26589065717909344\n",
      "Custo Após 1860 iterações é 0.2665239658556363\n",
      "Custo Após 1870 iterações é 0.2686366475072844\n",
      "Custo Após 1880 iterações é 0.2770951229767956\n",
      "Custo Após 1890 iterações é 0.27042667951145755\n",
      "Custo Após 1900 iterações é 0.2695615662258731\n",
      "Custo Após 1910 iterações é 0.27279072871088006\n",
      "Custo Após 1920 iterações é 0.2700942688845171\n",
      "Custo Após 1930 iterações é 0.2716434027454746\n",
      "Custo Após 1940 iterações é 0.26684539663556284\n",
      "Custo Após 1950 iterações é 0.2584681191913732\n",
      "Custo Após 1960 iterações é 0.2561607281009279\n",
      "Custo Após 1970 iterações é 0.2591071140259646\n",
      "Custo Após 1980 iterações é 0.2566947058989292\n",
      "Custo Após 1990 iterações é 0.2597146148788207\n",
      "\n",
      "Treinamento Concluido.\n",
      "\n"
     ]
    }
   ],
   "source": [
    "# Treinamento do modelo (num_iteration = 2000)\n",
    "print('\\nIniciando o Treinamento.\\n')\n",
    "\n",
    "parametros, custo = modeloNN(X = X_treino,\n",
    "                             Y = y_treino,\n",
    "                             dims_camada_entrada = dims_camada_entrada,\n",
    "                             num_iterations = 2000,\n",
    "                             learning_rate = 0.0075)\n",
    "\n",
    "print('\\nTreinamento Concluido.\\n')"
   ]
  },
  {
   "cell_type": "code",
   "execution_count": 49,
   "metadata": {},
   "outputs": [
    {
     "data": {
      "text/plain": [
       "[<matplotlib.lines.Line2D at 0x157db092408>]"
      ]
     },
     "execution_count": 49,
     "metadata": {},
     "output_type": "execute_result"
    },
    {
     "data": {
      "image/png": "[encoded data removed]",
      "text/plain": [
       "<Figure size 432x288 with 1 Axes>"
      ]
     },
     "metadata": {
      "needs_background": "light"
     },
     "output_type": "display_data"
    }
   ],
   "source": [
    "# Plot do erro durante o treinamento\n",
    "plt.plot(custo)"
   ]
  },
  {
   "cell_type": "markdown",
   "metadata": {},
   "source": [
    "### Treinamento do modelo com novos hiperparametros (num_iterations = 4000)"
   ]
  },
  {
   "cell_type": "code",
   "execution_count": 50,
   "metadata": {},
   "outputs": [
    {
     "name": "stdout",
     "output_type": "stream",
     "text": [
      "\n",
      "Iniciando o Treinamento.\n",
      "\n",
      "Custo Após 0 iterações é 0.6931106055292341\n",
      "Custo Após 10 iterações é 0.6917515080398237\n",
      "Custo Após 20 iterações é 0.6904420770689581\n",
      "Custo Após 30 iterações é 0.6891804386773674\n",
      "Custo Após 40 iterações é 0.6879647826276277\n",
      "Custo Após 50 iterações é 0.6867933613904031\n",
      "Custo Após 60 iterações é 0.6856644779014447\n",
      "Custo Após 70 iterações é 0.6845764923984213\n",
      "Custo Após 80 iterações é 0.6835278190541935\n",
      "Custo Após 90 iterações é 0.6825169075275428\n",
      "Custo Após 100 iterações é 0.6815422336084296\n",
      "Custo Após 110 iterações é 0.6806023452933052\n",
      "Custo Após 120 iterações é 0.6796958296250611\n",
      "Custo Após 130 iterações é 0.6788214207959719\n",
      "Custo Após 140 iterações é 0.6779778529382012\n",
      "Custo Após 150 iterações é 0.6771638198934661\n",
      "Custo Após 160 iterações é 0.6763780593944854\n",
      "Custo Após 170 iterações é 0.6756193479198263\n",
      "Custo Após 180 iterações é 0.6748863801051371\n",
      "Custo Após 190 iterações é 0.6741779142590515\n",
      "Custo Após 200 iterações é 0.6734927171311531\n",
      "Custo Após 210 iterações é 0.6728295325951671\n",
      "Custo Após 220 iterações é 0.672187086183664\n",
      "Custo Após 230 iterações é 0.6715640730030722\n",
      "Custo Após 240 iterações é 0.6709591288504865\n",
      "Custo Após 250 iterações é 0.670370803959434\n",
      "Custo Após 260 iterações é 0.6697975490024928\n",
      "Custo Após 270 iterações é 0.6692376475339555\n",
      "Custo Após 280 iterações é 0.6686891671797308\n",
      "Custo Após 290 iterações é 0.6681499114465717\n",
      "Custo Após 300 iterações é 0.6676172796245491\n",
      "Custo Após 310 iterações é 0.6670881713612803\n",
      "Custo Após 320 iterações é 0.6665587721152525\n",
      "Custo Após 330 iterações é 0.6660242363393725\n",
      "Custo Após 340 iterações é 0.6654783538617435\n",
      "Custo Após 350 iterações é 0.6649128110459158\n",
      "Custo Após 360 iterações é 0.6643162003907993\n",
      "Custo Após 370 iterações é 0.6636725717823263\n",
      "Custo Após 380 iterações é 0.6629591365627416\n",
      "Custo Após 390 iterações é 0.6621434982133554\n",
      "Custo Após 400 iterações é 0.6611770590539511\n",
      "Custo Após 410 iterações é 0.6599837354726\n",
      "Custo Após 420 iterações é 0.6584397384557933\n",
      "Custo Após 430 iterações é 0.656339098302385\n",
      "Custo Após 440 iterações é 0.653341320401295\n",
      "Custo Após 450 iterações é 0.6489112072584989\n",
      "Custo Após 460 iterações é 0.6423876413397278\n",
      "Custo Após 470 iterações é 0.6336915361744815\n",
      "Custo Após 480 iterações é 0.6248804660891673\n",
      "Custo Após 490 iterações é 0.6188905321888706\n",
      "Custo Após 500 iterações é 0.6152783731092395\n",
      "Custo Após 510 iterações é 0.6123538085628215\n",
      "Custo Após 520 iterações é 0.6095140557273089\n",
      "Custo Após 530 iterações é 0.6066534939154912\n",
      "Custo Após 540 iterações é 0.6037519352185995\n",
      "Custo Após 550 iterações é 0.6007977883326018\n",
      "Custo Após 560 iterações é 0.5977795413510402\n",
      "Custo Após 570 iterações é 0.594681851774382\n",
      "Custo Após 580 iterações é 0.5914858486608122\n",
      "Custo Após 590 iterações é 0.5881680831986639\n",
      "Custo Após 600 iterações é 0.5846971629579548\n",
      "Custo Após 610 iterações é 0.5810299669576651\n",
      "Custo Após 620 iterações é 0.5771092406765177\n",
      "Custo Após 630 iterações é 0.5728560834149558\n",
      "Custo Após 640 iterações é 0.5681622929675787\n",
      "Custo Após 650 iterações é 0.5628881577418351\n",
      "Custo Após 660 iterações é 0.5568260209538903\n",
      "Custo Após 670 iterações é 0.5496638738861556\n",
      "Custo Após 680 iterações é 0.5409627223737362\n",
      "Custo Após 690 iterações é 0.530128241852212\n",
      "Custo Após 700 iterações é 0.5164551843918094\n",
      "Custo Após 710 iterações é 0.4992995980507914\n",
      "Custo Após 720 iterações é 0.47923117778632995\n",
      "Custo Após 730 iterações é 0.4589624960838834\n",
      "Custo Após 740 iterações é 0.4605052032085642\n",
      "Custo Após 750 iterações é 0.4858511486549344\n",
      "Custo Após 760 iterações é 0.4758784708907466\n",
      "Custo Após 770 iterações é 0.46926032009130764\n",
      "Custo Após 780 iterações é 0.4632966395703244\n",
      "Custo Após 790 iterações é 0.4609359212836036\n",
      "Custo Após 800 iterações é 0.4543922686898328\n",
      "Custo Após 810 iterações é 0.4512806040089106\n",
      "Custo Após 820 iterações é 0.44398638312484684\n",
      "Custo Após 830 iterações é 0.43745979224041165\n",
      "Custo Após 840 iterações é 0.43038671641267345\n",
      "Custo Após 850 iterações é 0.42391749475238005\n",
      "Custo Após 860 iterações é 0.41886328568451286\n",
      "Custo Após 870 iterações é 0.4102210561980348\n",
      "Custo Após 880 iterações é 0.41072471159223733\n",
      "Custo Após 890 iterações é 0.4080017296970708\n",
      "Custo Após 900 iterações é 0.4034871737338356\n",
      "Custo Após 910 iterações é 0.3938908045151767\n",
      "Custo Após 920 iterações é 0.38205573679031823\n",
      "Custo Após 930 iterações é 0.3829117539901873\n",
      "Custo Após 940 iterações é 0.385763284821169\n",
      "Custo Após 950 iterações é 0.3806041887540372\n",
      "Custo Após 960 iterações é 0.37942970034266793\n",
      "Custo Após 970 iterações é 0.3758505368967582\n",
      "Custo Após 980 iterações é 0.3723356346809762\n",
      "Custo Após 990 iterações é 0.372074631822775\n",
      "Custo Após 1000 iterações é 0.37281411431593964\n",
      "Custo Após 1010 iterações é 0.3687382837994874\n",
      "Custo Após 1020 iterações é 0.36008313054845814\n",
      "Custo Após 1030 iterações é 0.3592616248252371\n",
      "Custo Após 1040 iterações é 0.35317099049281464\n",
      "Custo Após 1050 iterações é 0.3485242868611507\n",
      "Custo Após 1060 iterações é 0.3571382238109571\n",
      "Custo Após 1070 iterações é 0.35608188701700827\n",
      "Custo Após 1080 iterações é 0.3502641198426874\n",
      "Custo Após 1090 iterações é 0.34659381259491184\n",
      "Custo Após 1100 iterações é 0.3511356667978246\n",
      "Custo Após 1110 iterações é 0.346019566420381\n",
      "Custo Após 1120 iterações é 0.35421784978816334\n",
      "Custo Após 1130 iterações é 0.33650435570127984\n",
      "Custo Após 1140 iterações é 0.3463332349584127\n",
      "Custo Após 1150 iterações é 0.33463014528688156\n",
      "Custo Após 1160 iterações é 0.3376897729342468\n",
      "Custo Após 1170 iterações é 0.32565559838782565\n",
      "Custo Após 1180 iterações é 0.3401318745711352\n",
      "Custo Após 1190 iterações é 0.32444143454871616\n",
      "Custo Após 1200 iterações é 0.3269078447169165\n",
      "Custo Após 1210 iterações é 0.33592678121773084\n",
      "Custo Após 1220 iterações é 0.3232159310526823\n",
      "Custo Após 1230 iterações é 0.337400086280562\n",
      "Custo Após 1240 iterações é 0.3136968664189438\n",
      "Custo Após 1250 iterações é 0.30945393716883585\n",
      "Custo Após 1260 iterações é 0.31266729091717776\n",
      "Custo Após 1270 iterações é 0.31893881048183836\n",
      "Custo Após 1280 iterações é 0.3263599469492851\n",
      "Custo Após 1290 iterações é 0.3220228363564647\n",
      "Custo Após 1300 iterações é 0.32290082030906475\n",
      "Custo Após 1310 iterações é 0.3207163134051696\n",
      "Custo Após 1320 iterações é 0.3168394207988199\n",
      "Custo Após 1330 iterações é 0.3127869595355124\n",
      "Custo Após 1340 iterações é 0.3105156988827544\n",
      "Custo Após 1350 iterações é 0.30699919215708943\n",
      "Custo Após 1360 iterações é 0.31787915225641467\n",
      "Custo Após 1370 iterações é 0.3096388353196803\n",
      "Custo Após 1380 iterações é 0.30777392582050017\n",
      "Custo Após 1390 iterações é 0.3041017561859739\n",
      "Custo Após 1400 iterações é 0.31655220741249834\n",
      "Custo Após 1410 iterações é 0.3166002748136252\n",
      "Custo Após 1420 iterações é 0.3116883397368107\n",
      "Custo Após 1430 iterações é 0.3086441712982906\n",
      "Custo Após 1440 iterações é 0.3058086430946839\n",
      "Custo Após 1450 iterações é 0.30521696648280977\n",
      "Custo Após 1460 iterações é 0.3015512751065827\n",
      "Custo Após 1470 iterações é 0.29646806229829226\n",
      "Custo Após 1480 iterações é 0.2831937530452006\n",
      "Custo Após 1490 iterações é 0.28293756875933157\n",
      "Custo Após 1500 iterações é 0.2818443861475188\n",
      "Custo Após 1510 iterações é 0.2820914879019733\n",
      "Custo Após 1520 iterações é 0.28336641924880795\n",
      "Custo Após 1530 iterações é 0.2814933521582191\n",
      "Custo Após 1540 iterações é 0.28067881747272166\n",
      "Custo Após 1550 iterações é 0.2821462336135842\n",
      "Custo Após 1560 iterações é 0.27902428005243984\n",
      "Custo Após 1570 iterações é 0.2804698060860998\n",
      "Custo Após 1580 iterações é 0.27948966988868135\n",
      "Custo Após 1590 iterações é 0.27927740247896315\n",
      "Custo Após 1600 iterações é 0.27848051804436225\n",
      "Custo Após 1610 iterações é 0.2791804545893206\n",
      "Custo Após 1620 iterações é 0.2783541451858715\n",
      "Custo Após 1630 iterações é 0.27946672802573347\n",
      "Custo Após 1640 iterações é 0.2782484857705593\n",
      "Custo Após 1650 iterações é 0.2778354015202242\n",
      "Custo Após 1660 iterações é 0.27742277069574595\n",
      "Custo Após 1670 iterações é 0.27625213114444985\n",
      "Custo Após 1680 iterações é 0.277099251087797\n",
      "Custo Após 1690 iterações é 0.27794155644347696\n",
      "Custo Após 1700 iterações é 0.277008238482832\n",
      "Custo Após 1710 iterações é 0.2771324509509294\n",
      "Custo Após 1720 iterações é 0.2747639822726909\n",
      "Custo Após 1730 iterações é 0.2765743034718231\n",
      "Custo Após 1740 iterações é 0.2763991926276556\n",
      "Custo Após 1750 iterações é 0.2744404076500674\n",
      "Custo Após 1760 iterações é 0.27356954048932347\n",
      "Custo Após 1770 iterações é 0.27076620266579704\n",
      "Custo Após 1780 iterações é 0.2693468594156475\n"
     ]
    },
    {
     "name": "stdout",
     "output_type": "stream",
     "text": [
      "Custo Após 1790 iterações é 0.2673429945693985\n",
      "Custo Após 1800 iterações é 0.26551598289566364\n",
      "Custo Após 1810 iterações é 0.26613267211293584\n",
      "Custo Após 1820 iterações é 0.2631658544182898\n",
      "Custo Após 1830 iterações é 0.2622015162596815\n",
      "Custo Após 1840 iterações é 0.26306433182687194\n",
      "Custo Após 1850 iterações é 0.2626188997936554\n",
      "Custo Após 1860 iterações é 0.26159780606074445\n",
      "Custo Após 1870 iterações é 0.26171222977292097\n",
      "Custo Após 1880 iterações é 0.2626115700777035\n",
      "Custo Após 1890 iterações é 0.26141896108467655\n",
      "Custo Após 1900 iterações é 0.26029360393013945\n",
      "Custo Após 1910 iterações é 0.2622527950096604\n",
      "Custo Após 1920 iterações é 0.2629952989140905\n",
      "Custo Após 1930 iterações é 0.2647592915951451\n",
      "Custo Após 1940 iterações é 0.27165026177110946\n",
      "Custo Após 1950 iterações é 0.269705255793353\n",
      "Custo Após 1960 iterações é 0.2629418066870893\n",
      "Custo Após 1970 iterações é 0.25209806557501396\n",
      "Custo Após 1980 iterações é 0.2515786721356659\n",
      "Custo Após 1990 iterações é 0.25697159283119886\n",
      "Custo Após 2000 iterações é 0.25161863958905806\n",
      "Custo Após 2010 iterações é 0.25257886498927407\n",
      "Custo Após 2020 iterações é 0.25597280263973227\n",
      "Custo Após 2030 iterações é 0.25034259933824227\n",
      "Custo Após 2040 iterações é 0.2504754230034406\n",
      "Custo Após 2050 iterações é 0.25723658930332827\n",
      "Custo Após 2060 iterações é 0.2542231418586563\n",
      "Custo Após 2070 iterações é 0.24925105960082777\n",
      "Custo Após 2080 iterações é 0.25129567615510945\n",
      "Custo Após 2090 iterações é 0.2513246015265778\n",
      "Custo Após 2100 iterações é 0.24748231606102594\n",
      "Custo Após 2110 iterações é 0.24875840627241114\n",
      "Custo Após 2120 iterações é 0.25050266320925146\n",
      "Custo Após 2130 iterações é 0.2610931019941572\n",
      "Custo Após 2140 iterações é 0.2590812811213987\n",
      "Custo Após 2150 iterações é 0.25736205573527726\n",
      "Custo Após 2160 iterações é 0.2504973827096289\n",
      "Custo Após 2170 iterações é 0.2438986316522673\n",
      "Custo Após 2180 iterações é 0.24627462780265466\n",
      "Custo Após 2190 iterações é 0.24535948434293242\n",
      "Custo Após 2200 iterações é 0.24518924080519855\n",
      "Custo Após 2210 iterações é 0.2455300441238409\n",
      "Custo Após 2220 iterações é 0.24488735500716938\n",
      "Custo Após 2230 iterações é 0.24548869363081122\n",
      "Custo Após 2240 iterações é 0.24498199728181685\n",
      "Custo Após 2250 iterações é 0.24544828488393453\n",
      "Custo Após 2260 iterações é 0.24450138256709936\n",
      "Custo Após 2270 iterações é 0.24329124784409312\n",
      "Custo Após 2280 iterações é 0.24313475384869704\n",
      "Custo Após 2290 iterações é 0.2418076467764344\n",
      "Custo Após 2300 iterações é 0.23879146147167188\n",
      "Custo Após 2310 iterações é 0.2394398989444795\n",
      "Custo Após 2320 iterações é 0.24484622318359836\n",
      "Custo Após 2330 iterações é 0.2454389214998214\n",
      "Custo Após 2340 iterações é 0.24485534131152847\n",
      "Custo Após 2350 iterações é 0.2456328355107111\n",
      "Custo Após 2360 iterações é 0.2439872759163127\n",
      "Custo Após 2370 iterações é 0.2418862660483561\n",
      "Custo Após 2380 iterações é 0.24300609158350125\n",
      "Custo Após 2390 iterações é 0.24324996196394616\n",
      "Custo Após 2400 iterações é 0.24288740772302408\n",
      "Custo Após 2410 iterações é 0.24341884207774758\n",
      "Custo Após 2420 iterações é 0.24134395997037317\n",
      "Custo Após 2430 iterações é 0.2427191441915312\n",
      "Custo Após 2440 iterações é 0.24306656578243832\n",
      "Custo Após 2450 iterações é 0.2423689689347266\n",
      "Custo Após 2460 iterações é 0.2421044884257106\n",
      "Custo Após 2470 iterações é 0.24186153481642703\n",
      "Custo Após 2480 iterações é 0.23544494958511647\n",
      "Custo Após 2490 iterações é 0.23448301699641516\n",
      "Custo Após 2500 iterações é 0.2343533309314339\n",
      "Custo Após 2510 iterações é 0.23481608577435617\n",
      "Custo Após 2520 iterações é 0.23570360779879593\n",
      "Custo Após 2530 iterações é 0.23548793824440964\n",
      "Custo Após 2540 iterações é 0.23550992620858666\n",
      "Custo Após 2550 iterações é 0.23466777685412535\n",
      "Custo Após 2560 iterações é 0.23474794671994462\n",
      "Custo Após 2570 iterações é 0.23501568890908692\n",
      "Custo Após 2580 iterações é 0.23473506378894393\n",
      "Custo Após 2590 iterações é 0.23457302249147696\n",
      "Custo Após 2600 iterações é 0.2348106809627919\n",
      "Custo Após 2610 iterações é 0.23601557766600276\n",
      "Custo Após 2620 iterações é 0.23588966008926454\n",
      "Custo Após 2630 iterações é 0.2358947572627231\n",
      "Custo Após 2640 iterações é 0.23112163802151833\n",
      "Custo Após 2650 iterações é 0.2286118106883762\n",
      "Custo Após 2660 iterações é 0.22527017790634246\n",
      "Custo Após 2670 iterações é 0.22580611044282367\n",
      "Custo Após 2680 iterações é 0.22502502807103003\n",
      "Custo Após 2690 iterações é 0.22453271749414994\n",
      "Custo Após 2700 iterações é 0.22909994367007755\n",
      "Custo Após 2710 iterações é 0.24446881596821976\n",
      "Custo Após 2720 iterações é 0.24163526121322487\n",
      "Custo Após 2730 iterações é 0.2328101870550681\n",
      "Custo Após 2740 iterações é 0.22537447612461878\n",
      "Custo Após 2750 iterações é 0.22243097050333244\n",
      "Custo Após 2760 iterações é 0.22259895978296634\n",
      "Custo Após 2770 iterações é 0.22238290599718472\n",
      "Custo Após 2780 iterações é 0.22244386968868615\n",
      "Custo Após 2790 iterações é 0.22363348126999633\n",
      "Custo Após 2800 iterações é 0.2312435977249908\n",
      "Custo Após 2810 iterações é 0.2356335244556613\n",
      "Custo Após 2820 iterações é 0.24107548451676886\n",
      "Custo Após 2830 iterações é 0.23611991022557277\n",
      "Custo Após 2840 iterações é 0.2271863372911466\n",
      "Custo Após 2850 iterações é 0.22595696401652676\n",
      "Custo Após 2860 iterações é 0.22232245688245034\n",
      "Custo Após 2870 iterações é 0.21931585265941703\n",
      "Custo Após 2880 iterações é 0.21897852045543392\n",
      "Custo Após 2890 iterações é 0.2186634032549884\n",
      "Custo Após 2900 iterações é 0.21859642053077669\n",
      "Custo Após 2910 iterações é 0.2181158393957732\n",
      "Custo Após 2920 iterações é 0.21802167681193343\n",
      "Custo Após 2930 iterações é 0.21765301820321545\n",
      "Custo Após 2940 iterações é 0.21738388894938465\n",
      "Custo Após 2950 iterações é 0.2172697412758757\n",
      "Custo Após 2960 iterações é 0.21708122179023906\n",
      "Custo Após 2970 iterações é 0.22062094974002264\n",
      "Custo Após 2980 iterações é 0.23418459127742308\n",
      "Custo Após 2990 iterações é 0.2351522875016713\n",
      "Custo Após 3000 iterações é 0.23454745171505192\n",
      "Custo Após 3010 iterações é 0.23359874718612583\n",
      "Custo Após 3020 iterações é 0.2232303463592765\n",
      "Custo Após 3030 iterações é 0.21716896559351853\n",
      "Custo Após 3040 iterações é 0.21538931954127624\n",
      "Custo Após 3050 iterações é 0.21510916349097073\n",
      "Custo Após 3060 iterações é 0.21495180845721454\n",
      "Custo Após 3070 iterações é 0.21465720161680946\n",
      "Custo Após 3080 iterações é 0.2144172205892412\n",
      "Custo Após 3090 iterações é 0.2142105595655155\n",
      "Custo Após 3100 iterações é 0.21404565429745884\n",
      "Custo Após 3110 iterações é 0.21372956793731165\n",
      "Custo Após 3120 iterações é 0.21377655411519675\n",
      "Custo Após 3130 iterações é 0.21349135243006256\n",
      "Custo Após 3140 iterações é 0.21924094989498866\n",
      "Custo Após 3150 iterações é 0.2417333519422194\n",
      "Custo Após 3160 iterações é 0.23569979778313518\n",
      "Custo Após 3170 iterações é 0.23082262495399722\n",
      "Custo Após 3180 iterações é 0.22096810720720553\n",
      "Custo Após 3190 iterações é 0.21335673684973264\n",
      "Custo Após 3200 iterações é 0.21201215887321126\n",
      "Custo Após 3210 iterações é 0.21177452529018853\n",
      "Custo Após 3220 iterações é 0.2115477549157986\n",
      "Custo Após 3230 iterações é 0.21134711808300763\n",
      "Custo Após 3240 iterações é 0.21111830698616574\n",
      "Custo Após 3250 iterações é 0.21090603304140862\n",
      "Custo Após 3260 iterações é 0.21074301539003434\n",
      "Custo Após 3270 iterações é 0.21110269116249325\n",
      "Custo Após 3280 iterações é 0.23599343667827954\n",
      "Custo Após 3290 iterações é 0.23137641905153766\n",
      "Custo Após 3300 iterações é 0.22490636490999535\n",
      "Custo Após 3310 iterações é 0.21602779326276741\n",
      "Custo Após 3320 iterações é 0.2100041489986591\n",
      "Custo Após 3330 iterações é 0.20979463609758067\n",
      "Custo Após 3340 iterações é 0.20971360736337566\n",
      "Custo Após 3350 iterações é 0.20931702967568797\n",
      "Custo Após 3360 iterações é 0.20897461409112775\n",
      "Custo Após 3370 iterações é 0.2131201172968874\n",
      "Custo Após 3380 iterações é 0.23459052890314872\n",
      "Custo Após 3390 iterações é 0.22496490352959223\n",
      "Custo Após 3400 iterações é 0.21366948011274534\n",
      "Custo Após 3410 iterações é 0.20816798848763488\n",
      "Custo Após 3420 iterações é 0.2080304179098838\n",
      "Custo Após 3430 iterações é 0.20770692864200738\n",
      "Custo Após 3440 iterações é 0.20767657129912478\n",
      "Custo Após 3450 iterações é 0.20818559871332587\n",
      "Custo Após 3460 iterações é 0.20848327794874968\n",
      "Custo Após 3470 iterações é 0.2351299772777164\n",
      "Custo Após 3480 iterações é 0.22694100631431366\n",
      "Custo Após 3490 iterações é 0.21328252769656952\n",
      "Custo Após 3500 iterações é 0.20658440407935297\n"
     ]
    },
    {
     "name": "stdout",
     "output_type": "stream",
     "text": [
      "Custo Após 3510 iterações é 0.2072805175438897\n",
      "Custo Após 3520 iterações é 0.20697359409896438\n",
      "Custo Após 3530 iterações é 0.20736185313438937\n",
      "Custo Após 3540 iterações é 0.2092876623476558\n",
      "Custo Após 3550 iterações é 0.22959104617360004\n",
      "Custo Após 3560 iterações é 0.21884113117247656\n",
      "Custo Após 3570 iterações é 0.20768185193060806\n",
      "Custo Após 3580 iterações é 0.20567835457535302\n",
      "Custo Após 3590 iterações é 0.20587291091219845\n",
      "Custo Após 3600 iterações é 0.2051196060959384\n",
      "Custo Após 3610 iterações é 0.20591635545992693\n",
      "Custo Após 3620 iterações é 0.20519497410445217\n",
      "Custo Após 3630 iterações é 0.20524822685340244\n",
      "Custo Após 3640 iterações é 0.2056241035532386\n",
      "Custo Após 3650 iterações é 0.2132884068679691\n",
      "Custo Após 3660 iterações é 0.21808589168448034\n",
      "Custo Após 3670 iterações é 0.21560960014801098\n",
      "Custo Após 3680 iterações é 0.21540158939373055\n",
      "Custo Após 3690 iterações é 0.21491616962615048\n",
      "Custo Após 3700 iterações é 0.21153390830990715\n",
      "Custo Após 3710 iterações é 0.20692767739123158\n",
      "Custo Após 3720 iterações é 0.2058691063087632\n",
      "Custo Após 3730 iterações é 0.20724125115843678\n",
      "Custo Após 3740 iterações é 0.20985394794987\n",
      "Custo Após 3750 iterações é 0.20777721825764903\n",
      "Custo Após 3760 iterações é 0.20822795701393879\n",
      "Custo Após 3770 iterações é 0.2089081866089693\n",
      "Custo Após 3780 iterações é 0.21115725627913112\n",
      "Custo Após 3790 iterações é 0.2064965657177463\n",
      "Custo Após 3800 iterações é 0.20644891488140035\n",
      "Custo Após 3810 iterações é 0.20765034430202228\n",
      "Custo Após 3820 iterações é 0.21117026580899065\n",
      "Custo Após 3830 iterações é 0.20712169932380706\n",
      "Custo Após 3840 iterações é 0.20894207241698037\n",
      "Custo Após 3850 iterações é 0.2051217920076823\n",
      "Custo Após 3860 iterações é 0.2102367743500664\n",
      "Custo Após 3870 iterações é 0.20735713365753203\n",
      "Custo Após 3880 iterações é 0.21113199480460138\n",
      "Custo Após 3890 iterações é 0.20718794837805304\n",
      "Custo Após 3900 iterações é 0.2107304600642737\n",
      "Custo Após 3910 iterações é 0.20888593666170255\n",
      "Custo Após 3920 iterações é 0.20757307230687008\n",
      "Custo Após 3930 iterações é 0.20793375991155025\n",
      "Custo Após 3940 iterações é 0.20627905222767648\n",
      "Custo Após 3950 iterações é 0.210210088742698\n",
      "Custo Após 3960 iterações é 0.2071411683536184\n",
      "Custo Após 3970 iterações é 0.20594324826761132\n",
      "Custo Após 3980 iterações é 0.20392749683548966\n",
      "Custo Após 3990 iterações é 0.20566334711976744\n",
      "\n",
      "Treinamento Concluido.\n",
      "\n"
     ]
    }
   ],
   "source": [
    "# Treinamento do modelo (num_iteration = 4000)\n",
    "print('\\nIniciando o Treinamento.\\n')\n",
    "\n",
    "parametros, custo = modeloNN(X = X_treino,\n",
    "                             Y = y_treino,\n",
    "                             dims_camada_entrada = dims_camada_entrada,\n",
    "                             num_iterations = 4000,\n",
    "                             learning_rate = 0.0075)\n",
    "\n",
    "print('\\nTreinamento Concluido.\\n')"
   ]
  },
  {
   "cell_type": "code",
   "execution_count": 51,
   "metadata": {},
   "outputs": [
    {
     "data": {
      "text/plain": [
       "[<matplotlib.lines.Line2D at 0x157db142dc8>]"
      ]
     },
     "execution_count": 51,
     "metadata": {},
     "output_type": "execute_result"
    },
    {
     "data": {
      "image/png": "[encoded data removed]",
      "text/plain": [
       "<Figure size 432x288 with 1 Axes>"
      ]
     },
     "metadata": {
      "needs_background": "light"
     },
     "output_type": "display_data"
    }
   ],
   "source": [
    "# Plot do erro durante o treinamento\n",
    "plt.plot(custo)"
   ]
  },
  {
   "cell_type": "markdown",
   "metadata": {},
   "source": [
    "### Treinamento do modelo com novos hiperparametros (num_iterations = 4000 e learning_rate = 0.0050)"
   ]
  },
  {
   "cell_type": "code",
   "execution_count": 52,
   "metadata": {},
   "outputs": [
    {
     "name": "stdout",
     "output_type": "stream",
     "text": [
      "\n",
      "Iniciando o Treinamento.\n",
      "\n",
      "Custo Após 0 iterações é 0.6931573765437663\n",
      "Custo Após 10 iterações é 0.6922452255761569\n",
      "Custo Após 20 iterações é 0.6913559841635172\n",
      "Custo Após 30 iterações é 0.6904896915722831\n",
      "Custo Após 40 iterações é 0.6896454094471275\n",
      "Custo Após 50 iterações é 0.6888221220851606\n",
      "Custo Após 60 iterações é 0.6880191856161394\n",
      "Custo Após 70 iterações é 0.687236065818669\n",
      "Custo Após 80 iterações é 0.686472248839546\n",
      "Custo Após 90 iterações é 0.6857272213709511\n",
      "Custo Após 100 iterações é 0.6850005123528247\n",
      "Custo Após 110 iterações é 0.6842916744992146\n",
      "Custo Após 120 iterações é 0.683600264284385\n",
      "Custo Após 130 iterações é 0.6829258734410121\n",
      "Custo Após 140 iterações é 0.6822681129583197\n",
      "Custo Após 150 iterações é 0.6816265461784231\n",
      "Custo Após 160 iterações é 0.6810007442154096\n",
      "Custo Após 170 iterações é 0.6803903019494039\n",
      "Custo Após 180 iterações é 0.679794829672052\n",
      "Custo Após 190 iterações é 0.6792139548516726\n",
      "Custo Após 200 iterações é 0.6786473042693764\n",
      "Custo Após 210 iterações é 0.6780945256796613\n",
      "Custo Após 220 iterações é 0.6775552638283129\n",
      "Custo Após 230 iterações é 0.6770291768082856\n",
      "Custo Após 240 iterações é 0.6765159335445629\n",
      "Custo Após 250 iterações é 0.676015213953557\n",
      "Custo Após 260 iterações é 0.6755266971116939\n",
      "Custo Após 270 iterações é 0.6750500813939615\n",
      "Custo Após 280 iterações é 0.6745850624650243\n",
      "Custo Após 290 iterações é 0.6741313566727168\n",
      "Custo Após 300 iterações é 0.6736886860783532\n",
      "Custo Após 310 iterações é 0.6732568082742215\n",
      "Custo Após 320 iterações é 0.6728354254371244\n",
      "Custo Após 330 iterações é 0.6724242564579863\n",
      "Custo Após 340 iterações é 0.6720230322820956\n",
      "Custo Após 350 iterações é 0.6716315018695153\n",
      "Custo Após 360 iterações é 0.6712494165887557\n",
      "Custo Após 370 iterações é 0.6708765339212477\n",
      "Custo Após 380 iterações é 0.6705126113120619\n",
      "Custo Após 390 iterações é 0.6701574172770637\n",
      "Custo Após 400 iterações é 0.6698107277409283\n",
      "Custo Após 410 iterações é 0.6694723179625659\n",
      "Custo Após 420 iterações é 0.6691419731441892\n",
      "Custo Após 430 iterações é 0.6688194813014187\n",
      "Custo Após 440 iterações é 0.6685046341450808\n",
      "Custo Após 450 iterações é 0.6681972277376379\n",
      "Custo Após 460 iterações é 0.6678970637728215\n",
      "Custo Após 470 iterações é 0.6676039472058433\n",
      "Custo Após 480 iterações é 0.667317687242771\n",
      "Custo Após 490 iterações é 0.6670380943298065\n",
      "Custo Após 500 iterações é 0.6667649841084082\n",
      "Custo Após 510 iterações é 0.6664981792798137\n",
      "Custo Após 520 iterações é 0.666237498543779\n",
      "Custo Após 530 iterações é 0.6659827671737208\n",
      "Custo Após 540 iterações é 0.6657338067165989\n",
      "Custo Após 550 iterações é 0.6654904536734193\n",
      "Custo Após 560 iterações é 0.6652525288641226\n",
      "Custo Após 570 iterações é 0.6650198617365857\n",
      "Custo Após 580 iterações é 0.6647922849131733\n",
      "Custo Após 590 iterações é 0.6645696189206374\n",
      "Custo Após 600 iterações é 0.6643516670574656\n",
      "Custo Após 610 iterações é 0.6641382508246525\n",
      "Custo Após 620 iterações é 0.6639292114194502\n",
      "Custo Após 630 iterações é 0.6637243856947153\n",
      "Custo Após 640 iterações é 0.6635237007242845\n",
      "Custo Após 650 iterações é 0.663327003442843\n",
      "Custo Após 660 iterações é 0.6631340998057942\n",
      "Custo Após 670 iterações é 0.6629448137468102\n",
      "Custo Após 680 iterações é 0.6627589307344601\n",
      "Custo Após 690 iterações é 0.662576281289812\n",
      "Custo Após 700 iterações é 0.6623967011579429\n",
      "Custo Após 710 iterações é 0.6622199842193757\n",
      "Custo Após 720 iterações é 0.6620458698639794\n",
      "Custo Após 730 iterações é 0.661874093551035\n",
      "Custo Após 740 iterações é 0.6617043752194118\n",
      "Custo Após 750 iterações é 0.6615364025067327\n",
      "Custo Após 760 iterações é 0.6613698539521391\n",
      "Custo Após 770 iterações é 0.661204378167729\n",
      "Custo Após 780 iterações é 0.6610395691317414\n",
      "Custo Após 790 iterações é 0.6608749919629703\n",
      "Custo Após 800 iterações é 0.6607101349390346\n",
      "Custo Após 810 iterações é 0.6605444068892705\n",
      "Custo Após 820 iterações é 0.6603771179204956\n",
      "Custo Após 830 iterações é 0.660207543404566\n",
      "Custo Após 840 iterações é 0.6600348374414943\n",
      "Custo Após 850 iterações é 0.6598580165897497\n",
      "Custo Após 860 iterações é 0.6596759970183309\n",
      "Custo Após 870 iterações é 0.6594874770046842\n",
      "Custo Após 880 iterações é 0.6592908635451192\n",
      "Custo Após 890 iterações é 0.659084225839606\n",
      "Custo Após 900 iterações é 0.6588648913480868\n",
      "Custo Após 910 iterações é 0.6586293580169447\n",
      "Custo Após 920 iterações é 0.6583733321857114\n",
      "Custo Após 930 iterações é 0.6580913351336581\n",
      "Custo Após 940 iterações é 0.6577764306129958\n",
      "Custo Após 950 iterações é 0.6574194940139155\n",
      "Custo Após 960 iterações é 0.6570081653537385\n",
      "Custo Após 970 iterações é 0.6565257593334094\n",
      "Custo Após 980 iterações é 0.6559491961360803\n",
      "Custo Após 990 iterações é 0.655246221798651\n",
      "Custo Após 1000 iterações é 0.6543707909123796\n",
      "Custo Após 1010 iterações é 0.6532560487564929\n",
      "Custo Após 1020 iterações é 0.6518030564028896\n",
      "Custo Após 1030 iterações é 0.6498637874628176\n",
      "Custo Após 1040 iterações é 0.6472184627252756\n",
      "Custo Após 1050 iterações é 0.6435504995379888\n",
      "Custo Após 1060 iterações é 0.6384567818469365\n",
      "Custo Após 1070 iterações é 0.6315979972033914\n",
      "Custo Após 1080 iterações é 0.6232117498266329\n",
      "Custo Após 1090 iterações é 0.6148243628126884\n",
      "Custo Após 1100 iterações é 0.6085679315695189\n",
      "Custo Após 1110 iterações é 0.6048684592929979\n",
      "Custo Após 1120 iterações é 0.6025405950423474\n",
      "Custo Após 1130 iterações é 0.600639614160388\n",
      "Custo Após 1140 iterações é 0.5988286694963462\n",
      "Custo Após 1150 iterações é 0.5970266602324278\n",
      "Custo Após 1160 iterações é 0.5952165888694098\n",
      "Custo Após 1170 iterações é 0.5933934718169771\n",
      "Custo Após 1180 iterações é 0.5915545833940667\n",
      "Custo Após 1190 iterações é 0.5896977860956977\n",
      "Custo Após 1200 iterações é 0.5878203449021588\n",
      "Custo Após 1210 iterações é 0.5859192146201702\n",
      "Custo Após 1220 iterações é 0.5839909238318303\n",
      "Custo Após 1230 iterações é 0.5820316453736726\n",
      "Custo Após 1240 iterações é 0.5800369214238804\n",
      "Custo Após 1250 iterações é 0.5780017098148424\n",
      "Custo Após 1260 iterações é 0.5759194200260108\n",
      "Custo Após 1270 iterações é 0.5737824022215315\n",
      "Custo Após 1280 iterações é 0.5715818352777091\n",
      "Custo Após 1290 iterações é 0.5693069666375857\n",
      "Custo Após 1300 iterações é 0.5669455456763567\n",
      "Custo Após 1310 iterações é 0.564481803336479\n",
      "Custo Após 1320 iterações é 0.5618959056280358\n",
      "Custo Após 1330 iterações é 0.5591633785480307\n",
      "Custo Após 1340 iterações é 0.5562524615571584\n",
      "Custo Após 1350 iterações é 0.5531122782174\n",
      "Custo Após 1360 iterações é 0.5497091686894168\n",
      "Custo Após 1370 iterações é 0.5459914654349922\n",
      "Custo Após 1380 iterações é 0.5418753063795272\n",
      "Custo Após 1390 iterações é 0.5372627788078637\n",
      "Custo Após 1400 iterações é 0.5320344784192029\n",
      "Custo Após 1410 iterações é 0.5260546324516238\n",
      "Custo Após 1420 iterações é 0.5191650849160422\n",
      "Custo Após 1430 iterações é 0.5111661783499848\n",
      "Custo Após 1440 iterações é 0.5018380468785347\n",
      "Custo Após 1450 iterações é 0.4910440777484165\n",
      "Custo Após 1460 iterações é 0.47873885184355575\n",
      "Custo Após 1470 iterações é 0.46511562125273315\n",
      "Custo Após 1480 iterações é 0.45134245990298844\n",
      "Custo Após 1490 iterações é 0.4383790431491515\n",
      "Custo Após 1500 iterações é 0.42714462365659545\n",
      "Custo Após 1510 iterações é 0.4174717833717348\n",
      "Custo Após 1520 iterações é 0.410681791482338\n",
      "Custo Após 1530 iterações é 0.41186072340617585\n",
      "Custo Após 1540 iterações é 0.43873993824504\n",
      "Custo Após 1550 iterações é 0.43489379793718996\n",
      "Custo Após 1560 iterações é 0.430191377337826\n",
      "Custo Após 1570 iterações é 0.4203243054876253\n",
      "Custo Após 1580 iterações é 0.41711324679164674\n",
      "Custo Após 1590 iterações é 0.41230378752276237\n",
      "Custo Após 1600 iterações é 0.40702321366864985\n",
      "Custo Após 1610 iterações é 0.4094970746675068\n",
      "Custo Após 1620 iterações é 0.3995334280240354\n",
      "Custo Após 1630 iterações é 0.3908903055560265\n",
      "Custo Após 1640 iterações é 0.3926293826979226\n",
      "Custo Após 1650 iterações é 0.38684085540143276\n",
      "Custo Após 1660 iterações é 0.375745358629296\n",
      "Custo Após 1670 iterações é 0.3790291546599623\n",
      "Custo Após 1680 iterações é 0.377959871070931\n",
      "Custo Após 1690 iterações é 0.3802605994397028\n",
      "Custo Após 1700 iterações é 0.3765979858359058\n",
      "Custo Após 1710 iterações é 0.3730895879767441\n",
      "Custo Após 1720 iterações é 0.370534919845457\n",
      "Custo Após 1730 iterações é 0.36817897063112415\n",
      "Custo Após 1740 iterações é 0.36721596552773267\n",
      "Custo Após 1750 iterações é 0.36683930632658257\n",
      "Custo Após 1760 iterações é 0.3643551559495438\n",
      "Custo Após 1770 iterações é 0.356263074674013\n",
      "Custo Após 1780 iterações é 0.3635005241859002\n",
      "Custo Após 1790 iterações é 0.3633620241901995\n",
      "Custo Após 1800 iterações é 0.34781858842682223\n",
      "Custo Após 1810 iterações é 0.34498611429061726\n",
      "Custo Após 1820 iterações é 0.358609926251167\n",
      "Custo Após 1830 iterações é 0.3378984469147052\n",
      "Custo Após 1840 iterações é 0.33287966956818366\n",
      "Custo Após 1850 iterações é 0.32904939743597805\n"
     ]
    },
    {
     "name": "stdout",
     "output_type": "stream",
     "text": [
      "Custo Após 1860 iterações é 0.3275221157435947\n",
      "Custo Após 1870 iterações é 0.32643362272873916\n",
      "Custo Após 1880 iterações é 0.3245045664626647\n",
      "Custo Após 1890 iterações é 0.3235441949770998\n",
      "Custo Após 1900 iterações é 0.32162287620548513\n",
      "Custo Após 1910 iterações é 0.32051349831647424\n",
      "Custo Após 1920 iterações é 0.36288026025996245\n",
      "Custo Após 1930 iterações é 0.36723808071706876\n",
      "Custo Após 1940 iterações é 0.35753344864450165\n",
      "Custo Após 1950 iterações é 0.3626448484079818\n",
      "Custo Após 1960 iterações é 0.33378662063221387\n",
      "Custo Após 1970 iterações é 0.3359176005484197\n",
      "Custo Após 1980 iterações é 0.3329026660742226\n",
      "Custo Após 1990 iterações é 0.3297456834580395\n",
      "Custo Após 2000 iterações é 0.33276312877383957\n",
      "Custo Após 2010 iterações é 0.3359030612351047\n",
      "Custo Após 2020 iterações é 0.3279268162976191\n",
      "Custo Após 2030 iterações é 0.3275752386612244\n",
      "Custo Após 2040 iterações é 0.32825714105251524\n",
      "Custo Após 2050 iterações é 0.32772197963455096\n",
      "Custo Após 2060 iterações é 0.3228336759471389\n",
      "Custo Após 2070 iterações é 0.32551295228140054\n",
      "Custo Após 2080 iterações é 0.3242159870020051\n",
      "Custo Após 2090 iterações é 0.3171226900084977\n",
      "Custo Após 2100 iterações é 0.32186708462222086\n",
      "Custo Após 2110 iterações é 0.31965714958450037\n",
      "Custo Após 2120 iterações é 0.3189261679320585\n",
      "Custo Após 2130 iterações é 0.32128531274069283\n",
      "Custo Após 2140 iterações é 0.3147076296926179\n",
      "Custo Após 2150 iterações é 0.3111951227619459\n",
      "Custo Após 2160 iterações é 0.30480420061717306\n",
      "Custo Após 2170 iterações é 0.30294414141992143\n",
      "Custo Após 2180 iterações é 0.30363391820034374\n",
      "Custo Após 2190 iterações é 0.3007656856919804\n",
      "Custo Após 2200 iterações é 0.2994786186271933\n",
      "Custo Após 2210 iterações é 0.2968472296006645\n",
      "Custo Após 2220 iterações é 0.29841469060746867\n",
      "Custo Após 2230 iterações é 0.2977410342492018\n",
      "Custo Após 2240 iterações é 0.29748049262696247\n",
      "Custo Após 2250 iterações é 0.29624071351614234\n",
      "Custo Após 2260 iterações é 0.2981824047134313\n",
      "Custo Após 2270 iterações é 0.29344207772257447\n",
      "Custo Após 2280 iterações é 0.29281293024556926\n",
      "Custo Após 2290 iterações é 0.29644426550075764\n",
      "Custo Após 2300 iterações é 0.29603000539729013\n",
      "Custo Após 2310 iterações é 0.2961228089058886\n",
      "Custo Após 2320 iterações é 0.29588694659551507\n",
      "Custo Após 2330 iterações é 0.29344076473210373\n",
      "Custo Após 2340 iterações é 0.2907129245768685\n",
      "Custo Após 2350 iterações é 0.29357973115669045\n",
      "Custo Após 2360 iterações é 0.29386918212427116\n",
      "Custo Após 2370 iterações é 0.29255966777055475\n",
      "Custo Após 2380 iterações é 0.29237065118554906\n",
      "Custo Após 2390 iterações é 0.2922310955488869\n",
      "Custo Após 2400 iterações é 0.29137688913572185\n",
      "Custo Após 2410 iterações é 0.2917280307554072\n",
      "Custo Após 2420 iterações é 0.29155774983535326\n",
      "Custo Após 2430 iterações é 0.2939642854446225\n",
      "Custo Após 2440 iterações é 0.28962320646175144\n",
      "Custo Após 2450 iterações é 0.2891425907710386\n",
      "Custo Após 2460 iterações é 0.28665115255104534\n",
      "Custo Após 2470 iterações é 0.2863714597479306\n",
      "Custo Após 2480 iterações é 0.2858423931420806\n",
      "Custo Após 2490 iterações é 0.2903225153108933\n",
      "Custo Após 2500 iterações é 0.28556164290498626\n",
      "Custo Após 2510 iterações é 0.28569196325060664\n",
      "Custo Após 2520 iterações é 0.2880792732585118\n",
      "Custo Após 2530 iterações é 0.2848305814139453\n",
      "Custo Após 2540 iterações é 0.28501239519567007\n",
      "Custo Após 2550 iterações é 0.2837030402838767\n",
      "Custo Após 2560 iterações é 0.2828210591704288\n",
      "Custo Após 2570 iterações é 0.28239062464593817\n",
      "Custo Após 2580 iterações é 0.28172756971057183\n",
      "Custo Após 2590 iterações é 0.28809775689811934\n",
      "Custo Após 2600 iterações é 0.27943780761962633\n",
      "Custo Após 2610 iterações é 0.28053353675431314\n",
      "Custo Após 2620 iterações é 0.2851637110477655\n",
      "Custo Após 2630 iterações é 0.2841964693233078\n",
      "Custo Após 2640 iterações é 0.28356298707096866\n",
      "Custo Após 2650 iterações é 0.2859438909636614\n",
      "Custo Após 2660 iterações é 0.2767818326226572\n",
      "Custo Após 2670 iterações é 0.28742944731167674\n",
      "Custo Após 2680 iterações é 0.27488631066361635\n",
      "Custo Após 2690 iterações é 0.27906012429497395\n",
      "Custo Após 2700 iterações é 0.28538831279081556\n",
      "Custo Após 2710 iterações é 0.2825051846812258\n",
      "Custo Após 2720 iterações é 0.279518149506289\n",
      "Custo Após 2730 iterações é 0.27886756024676657\n",
      "Custo Após 2740 iterações é 0.27497220158007324\n",
      "Custo Após 2750 iterações é 0.28896585839880257\n",
      "Custo Após 2760 iterações é 0.28350944440286263\n",
      "Custo Após 2770 iterações é 0.2803042845500866\n",
      "Custo Após 2780 iterações é 0.27277366999605834\n",
      "Custo Após 2790 iterações é 0.2827343011624442\n",
      "Custo Após 2800 iterações é 0.27206642853837665\n",
      "Custo Após 2810 iterações é 0.2802517876848841\n",
      "Custo Após 2820 iterações é 0.28532813203240354\n",
      "Custo Após 2830 iterações é 0.2855947315829751\n",
      "Custo Após 2840 iterações é 0.2689468651945843\n",
      "Custo Após 2850 iterações é 0.2765492977079184\n",
      "Custo Após 2860 iterações é 0.27888993077896\n",
      "Custo Após 2870 iterações é 0.26945201566853644\n",
      "Custo Após 2880 iterações é 0.2650375143841897\n",
      "Custo Após 2890 iterações é 0.2707342505459526\n",
      "Custo Após 2900 iterações é 0.2812671707776494\n",
      "Custo Após 2910 iterações é 0.2672644189500575\n",
      "Custo Após 2920 iterações é 0.27524501214334846\n",
      "Custo Após 2930 iterações é 0.27998557115237394\n",
      "Custo Após 2940 iterações é 0.27768230207652045\n",
      "Custo Após 2950 iterações é 0.2758234369770516\n",
      "Custo Após 2960 iterações é 0.2653774809085933\n",
      "Custo Após 2970 iterações é 0.26249730080119965\n",
      "Custo Após 2980 iterações é 0.27325856146016664\n",
      "Custo Após 2990 iterações é 0.27499208202867975\n",
      "Custo Após 3000 iterações é 0.2738271174367037\n",
      "Custo Após 3010 iterações é 0.2715596949301518\n",
      "Custo Após 3020 iterações é 0.27271278896815254\n",
      "Custo Após 3030 iterações é 0.2683849297521885\n",
      "Custo Após 3040 iterações é 0.26159491408655705\n",
      "Custo Após 3050 iterações é 0.26284810351503785\n",
      "Custo Após 3060 iterações é 0.2602742697170807\n",
      "Custo Após 3070 iterações é 0.26180174486354496\n",
      "Custo Após 3080 iterações é 0.26055808549776704\n",
      "Custo Após 3090 iterações é 0.2587973833646089\n",
      "Custo Após 3100 iterações é 0.25869490366327547\n",
      "Custo Após 3110 iterações é 0.2582769704942265\n",
      "Custo Após 3120 iterações é 0.25934946109102364\n",
      "Custo Após 3130 iterações é 0.25959498221700394\n",
      "Custo Após 3140 iterações é 0.25865190498908114\n",
      "Custo Após 3150 iterações é 0.25819215533867335\n",
      "Custo Após 3160 iterações é 0.25679781442406074\n",
      "Custo Após 3170 iterações é 0.2584195635636866\n",
      "Custo Após 3180 iterações é 0.2574087943795951\n",
      "Custo Após 3190 iterações é 0.2575393347732679\n",
      "Custo Após 3200 iterações é 0.25729697204482616\n",
      "Custo Após 3210 iterações é 0.2555494177310629\n",
      "Custo Após 3220 iterações é 0.255343616417259\n",
      "Custo Após 3230 iterações é 0.25763238906684627\n",
      "Custo Após 3240 iterações é 0.25886782147056664\n",
      "Custo Após 3250 iterações é 0.2594776883936303\n",
      "Custo Após 3260 iterações é 0.2595951396973571\n",
      "Custo Após 3270 iterações é 0.25827245105578417\n",
      "Custo Após 3280 iterações é 0.2582039294222292\n",
      "Custo Após 3290 iterações é 0.25792947220855955\n",
      "Custo Após 3300 iterações é 0.25770259033884085\n",
      "Custo Após 3310 iterações é 0.26010537879324414\n",
      "Custo Após 3320 iterações é 0.2600885265362846\n",
      "Custo Após 3330 iterações é 0.26196981490262444\n",
      "Custo Após 3340 iterações é 0.2611846826017501\n",
      "Custo Após 3350 iterações é 0.2601048540286738\n",
      "Custo Após 3360 iterações é 0.26293243121611937\n",
      "Custo Após 3370 iterações é 0.26321156802914314\n",
      "Custo Após 3380 iterações é 0.26459714227359066\n",
      "Custo Após 3390 iterações é 0.2637620042372023\n",
      "Custo Após 3400 iterações é 0.26342893395020295\n",
      "Custo Após 3410 iterações é 0.2680430740940278\n",
      "Custo Após 3420 iterações é 0.26451492076543237\n",
      "Custo Após 3430 iterações é 0.25270893807320843\n",
      "Custo Após 3440 iterações é 0.24496611555166048\n",
      "Custo Após 3450 iterações é 0.25312212335993367\n",
      "Custo Após 3460 iterações é 0.25962268607651073\n",
      "Custo Após 3470 iterações é 0.28777917814795884\n",
      "Custo Após 3480 iterações é 0.27155536484065246\n",
      "Custo Após 3490 iterações é 0.2537939766782198\n",
      "Custo Após 3500 iterações é 0.25540865660704837\n",
      "Custo Após 3510 iterações é 0.25500055444826114\n",
      "Custo Após 3520 iterações é 0.2556892839094078\n",
      "Custo Após 3530 iterações é 0.26047171340290154\n",
      "Custo Após 3540 iterações é 0.2585457870900272\n",
      "Custo Após 3550 iterações é 0.2607814852995853\n",
      "Custo Após 3560 iterações é 0.2603669523309196\n",
      "Custo Após 3570 iterações é 0.2645256532345086\n",
      "Custo Após 3580 iterações é 0.26158956997984717\n",
      "Custo Após 3590 iterações é 0.25070342621659975\n",
      "Custo Após 3600 iterações é 0.2430180522582022\n",
      "Custo Após 3610 iterações é 0.2434527228643337\n",
      "Custo Após 3620 iterações é 0.2524485953672527\n",
      "Custo Após 3630 iterações é 0.25404621584932513\n"
     ]
    },
    {
     "name": "stdout",
     "output_type": "stream",
     "text": [
      "Custo Após 3640 iterações é 0.24222941231869088\n",
      "Custo Após 3650 iterações é 0.24525352205939185\n",
      "Custo Após 3660 iterações é 0.24556992134703684\n",
      "Custo Após 3670 iterações é 0.24647636040836565\n",
      "Custo Após 3680 iterações é 0.2365544954956044\n",
      "Custo Após 3690 iterações é 0.2330350502638364\n",
      "Custo Após 3700 iterações é 0.24070087575497603\n",
      "Custo Após 3710 iterações é 0.25092272061269644\n",
      "Custo Após 3720 iterações é 0.23715701917521864\n",
      "Custo Após 3730 iterações é 0.22596799134252205\n",
      "Custo Após 3740 iterações é 0.23181106303661622\n",
      "Custo Após 3750 iterações é 0.24834282298947194\n",
      "Custo Após 3760 iterações é 0.24294025235670855\n",
      "Custo Após 3770 iterações é 0.22680899976648136\n",
      "Custo Após 3780 iterações é 0.22364821553469325\n",
      "Custo Após 3790 iterações é 0.2363661362055847\n",
      "Custo Após 3800 iterações é 0.24696827191472906\n",
      "Custo Após 3810 iterações é 0.2341374152942245\n",
      "Custo Após 3820 iterações é 0.22159580901643014\n",
      "Custo Após 3830 iterações é 0.22197590566248182\n",
      "Custo Após 3840 iterações é 0.2376086194107022\n",
      "Custo Após 3850 iterações é 0.24323277796744308\n",
      "Custo Após 3860 iterações é 0.22644353368707526\n",
      "Custo Após 3870 iterações é 0.21723693342918002\n",
      "Custo Após 3880 iterações é 0.2182660171170959\n",
      "Custo Após 3890 iterações é 0.23614791678142494\n",
      "Custo Após 3900 iterações é 0.24752452599543828\n",
      "Custo Após 3910 iterações é 0.22447892314235593\n",
      "Custo Após 3920 iterações é 0.21326070413256992\n",
      "Custo Após 3930 iterações é 0.2111655962097109\n",
      "Custo Após 3940 iterações é 0.21971426065915195\n",
      "Custo Após 3950 iterações é 0.25035801882151626\n",
      "Custo Após 3960 iterações é 0.2460181835471644\n",
      "Custo Após 3970 iterações é 0.2131008128421814\n",
      "Custo Após 3980 iterações é 0.20613315502136095\n",
      "Custo Após 3990 iterações é 0.20678402600619641\n",
      "\n",
      "Treinamento Concluido.\n",
      "\n"
     ]
    }
   ],
   "source": [
    "# Treinamento do modelo (num_iteration = 4000 e learning_rate = 0.0050)\n",
    "print('\\nIniciando o Treinamento.\\n')\n",
    "\n",
    "parametros, custo = modeloNN(X = X_treino,\n",
    "                             Y = y_treino,\n",
    "                             dims_camada_entrada = dims_camada_entrada,\n",
    "                             num_iterations = 4000,\n",
    "                             learning_rate = 0.0050)\n",
    "\n",
    "print('\\nTreinamento Concluido.\\n')"
   ]
  },
  {
   "cell_type": "code",
   "execution_count": 53,
   "metadata": {},
   "outputs": [
    {
     "data": {
      "text/plain": [
       "[<matplotlib.lines.Line2D at 0x157db1b9708>]"
      ]
     },
     "execution_count": 53,
     "metadata": {},
     "output_type": "execute_result"
    },
    {
     "data": {
      "image/png": "[encoded data removed]",
      "text/plain": [
       "<Figure size 432x288 with 1 Axes>"
      ]
     },
     "metadata": {
      "needs_background": "light"
     },
     "output_type": "display_data"
    }
   ],
   "source": [
    "# Plot do erro durante o treinamento\n",
    "plt.plot(custo)"
   ]
  },
  {
   "cell_type": "markdown",
   "metadata": {},
   "source": [
    "### Treinamento do modelo com novos hiperparametros (num_iterations = 4000 e learning_rate = 0.0100)"
   ]
  },
  {
   "cell_type": "code",
   "execution_count": 54,
   "metadata": {},
   "outputs": [
    {
     "name": "stdout",
     "output_type": "stream",
     "text": [
      "\n",
      "Iniciando o Treinamento.\n",
      "\n",
      "Custo Após 0 iterações é 0.6931575491087197\n",
      "Custo Após 10 iterações é 0.6913613832237078\n",
      "Custo Após 20 iterações é 0.6896528716542442\n",
      "Custo Após 30 iterações é 0.688027728424258\n",
      "Custo Após 40 iterações é 0.6864818676773352\n",
      "Custo Após 50 iterações é 0.6850113967609379\n",
      "Custo Após 60 iterações é 0.6836126152201653\n",
      "Custo Após 70 iterações é 0.6822819997429359\n",
      "Custo Após 80 iterações é 0.6810161933105873\n",
      "Custo Após 90 iterações é 0.6798120065357987\n",
      "Custo Após 100 iterações é 0.6786664044411281\n",
      "Custo Após 110 iterações é 0.6775765011422269\n",
      "Custo Após 120 iterações é 0.6765395487521959\n",
      "Custo Após 130 iterações é 0.675552943778343\n",
      "Custo Após 140 iterações é 0.6746142031091541\n",
      "Custo Após 150 iterações é 0.6737209745287719\n",
      "Custo Após 160 iterações é 0.6728710161367991\n",
      "Custo Após 170 iterações é 0.6720621939869598\n",
      "Custo Após 180 iterações é 0.6712924805133825\n",
      "Custo Após 190 iterações é 0.6705599492174826\n",
      "Custo Após 200 iterações é 0.6698627744407865\n",
      "Custo Após 210 iterações é 0.6691992158848643\n",
      "Custo Após 220 iterações é 0.6685676268183994\n",
      "Custo Após 230 iterações é 0.6679664341829626\n",
      "Custo Após 240 iterações é 0.6673941407778828\n",
      "Custo Após 250 iterações é 0.6668493319261026\n",
      "Custo Após 260 iterações é 0.6663306580835027\n",
      "Custo Após 270 iterações é 0.6658368350756227\n",
      "Custo Após 280 iterações é 0.6653666461558031\n",
      "Custo Após 290 iterações é 0.6649189329118006\n",
      "Custo Após 300 iterações é 0.664492593152445\n",
      "Custo Após 310 iterações é 0.6640865787079132\n",
      "Custo Após 320 iterações é 0.6636998932142119\n",
      "Custo Após 330 iterações é 0.6633315882482423\n",
      "Custo Após 340 iterações é 0.6629807625314323\n",
      "Custo Após 350 iterações é 0.6626465579678977\n",
      "Custo Após 360 iterações é 0.6623281575147251\n",
      "Custo Após 370 iterações é 0.6620247833712286\n",
      "Custo Após 380 iterações é 0.6617356963825469\n",
      "Custo Após 390 iterações é 0.661460190487233\n",
      "Custo Após 400 iterações é 0.6611975928030637\n",
      "Custo Após 410 iterações é 0.6609472643159373\n",
      "Custo Após 420 iterações é 0.6607085993620773\n",
      "Custo Após 430 iterações é 0.6604810165138609\n",
      "Custo Após 440 iterações é 0.6602639544001889\n",
      "Custo Após 450 iterações é 0.6600568811054902\n",
      "Custo Após 460 iterações é 0.6598592905954431\n",
      "Custo Após 470 iterações é 0.6596706920989244\n",
      "Custo Após 480 iterações é 0.6594906119637429\n",
      "Custo Após 490 iterações é 0.6593185886450607\n",
      "Custo Após 500 iterações é 0.6591541110161383\n",
      "Custo Após 510 iterações é 0.6589967364626755\n",
      "Custo Após 520 iterações é 0.6588462442243886\n",
      "Custo Após 530 iterações é 0.6587022895467266\n",
      "Custo Após 540 iterações é 0.6585644159629843\n",
      "Custo Após 550 iterações é 0.6584322351105113\n",
      "Custo Após 560 iterações é 0.6583053947098487\n",
      "Custo Após 570 iterações é 0.6581835053781262\n",
      "Custo Após 580 iterações é 0.6580661827286419\n",
      "Custo Após 590 iterações é 0.6579530417076047\n",
      "Custo Após 600 iterações é 0.6578436753059452\n",
      "Custo Após 610 iterações é 0.6577376662108255\n",
      "Custo Após 620 iterações é 0.6576345514064978\n",
      "Custo Após 630 iterações é 0.6575338299098153\n",
      "Custo Após 640 iterações é 0.6574349575709669\n",
      "Custo Após 650 iterações é 0.6573372938892835\n",
      "Custo Após 660 iterações é 0.6572401157579367\n",
      "Custo Após 670 iterações é 0.6571425485551815\n",
      "Custo Após 680 iterações é 0.6570435173635564\n",
      "Custo Após 690 iterações é 0.6569417052104484\n",
      "Custo Após 700 iterações é 0.6568353820974205\n",
      "Custo Após 710 iterações é 0.6567222914058455\n",
      "Custo Após 720 iterações é 0.656599347639041\n",
      "Custo Após 730 iterações é 0.6564623841619484\n",
      "Custo Após 740 iterações é 0.6563056177763477\n",
      "Custo Após 750 iterações é 0.6561212147079893\n",
      "Custo Após 760 iterações é 0.6558970153731477\n",
      "Custo Após 770 iterações é 0.6556139356440343\n",
      "Custo Após 780 iterações é 0.6552413708696331\n",
      "Custo Após 790 iterações é 0.6547279427518623\n",
      "Custo Após 800 iterações é 0.6539816608281528\n",
      "Custo Após 810 iterações é 0.6528265331787583\n",
      "Custo Após 820 iterações é 0.6508953456809606\n",
      "Custo Após 830 iterações é 0.6473444040805827\n",
      "Custo Após 840 iterações é 0.6401127397923161\n",
      "Custo Após 850 iterações é 0.6246820646601338\n",
      "Custo Após 860 iterações é 0.6015174141319861\n",
      "Custo Após 870 iterações é 0.5908003363108928\n",
      "Custo Após 880 iterações é 0.5869514334672964\n",
      "Custo Após 890 iterações é 0.5833989335066914\n",
      "Custo Após 900 iterações é 0.5797897224440364\n",
      "Custo Após 910 iterações é 0.5760983158160279\n",
      "Custo Após 920 iterações é 0.5722996007568273\n",
      "Custo Após 930 iterações é 0.5683597262100187\n",
      "Custo Após 940 iterações é 0.5642330974458534\n",
      "Custo Após 950 iterações é 0.5598559461394729\n",
      "Custo Após 960 iterações é 0.5551347419127743\n",
      "Custo Após 970 iterações é 0.5499329977857419\n",
      "Custo Após 980 iterações é 0.5440389557404866\n",
      "Custo Após 990 iterações é 0.5371242951434194\n",
      "Custo Após 1000 iterações é 0.5286662209933075\n",
      "Custo Após 1010 iterações é 0.5178760871633457\n",
      "Custo Após 1020 iterações é 0.5036393212345682\n",
      "Custo Após 1030 iterações é 0.4843824689047034\n",
      "Custo Após 1040 iterações é 0.4587780668820708\n",
      "Custo Após 1050 iterações é 0.4313846254494268\n",
      "Custo Após 1060 iterações é 0.4884054628188698\n",
      "Custo Após 1070 iterações é 0.48422934678566726\n",
      "Custo Após 1080 iterações é 0.4577613814046856\n",
      "Custo Após 1090 iterações é 0.45172077506542213\n",
      "Custo Após 1100 iterações é 0.4466910714342711\n",
      "Custo Após 1110 iterações é 0.43692288947119\n",
      "Custo Após 1120 iterações é 0.4283993873504034\n",
      "Custo Após 1130 iterações é 0.42088944962244884\n",
      "Custo Após 1140 iterações é 0.4118234816819915\n",
      "Custo Após 1150 iterações é 0.4053064758224555\n",
      "Custo Após 1160 iterações é 0.39874705514337977\n",
      "Custo Após 1170 iterações é 0.3909680981730708\n",
      "Custo Após 1180 iterações é 0.3844169597656689\n",
      "Custo Após 1190 iterações é 0.37899633702891805\n",
      "Custo Após 1200 iterações é 0.3734720110392564\n",
      "Custo Após 1210 iterações é 0.3708474229085349\n",
      "Custo Após 1220 iterações é 0.36651459559779065\n",
      "Custo Após 1230 iterações é 0.35860465804351016\n",
      "Custo Após 1240 iterações é 0.3541075178926581\n",
      "Custo Após 1250 iterações é 0.3527323661104447\n",
      "Custo Após 1260 iterações é 0.3524739415607603\n",
      "Custo Após 1270 iterações é 0.3446978692532607\n",
      "Custo Após 1280 iterações é 0.3419536196952055\n",
      "Custo Após 1290 iterações é 0.3416907141176032\n",
      "Custo Após 1300 iterações é 0.3376299226267105\n",
      "Custo Após 1310 iterações é 0.3365086578499915\n",
      "Custo Após 1320 iterações é 0.33287319610132254\n",
      "Custo Após 1330 iterações é 0.33242392785136526\n",
      "Custo Após 1340 iterações é 0.33103040744821954\n",
      "Custo Após 1350 iterações é 0.3277391272558164\n",
      "Custo Após 1360 iterações é 0.32552208494590745\n",
      "Custo Após 1370 iterações é 0.32430137648233975\n",
      "Custo Após 1380 iterações é 0.3233003100102902\n",
      "Custo Após 1390 iterações é 0.3209063218937621\n",
      "Custo Após 1400 iterações é 0.3186897943970762\n",
      "Custo Após 1410 iterações é 0.3125680680033756\n",
      "Custo Após 1420 iterações é 0.30925210241474177\n",
      "Custo Após 1430 iterações é 0.3077146281145283\n",
      "Custo Após 1440 iterações é 0.3066080743605242\n",
      "Custo Após 1450 iterações é 0.3049661018533507\n",
      "Custo Após 1460 iterações é 0.30315088829082415\n",
      "Custo Após 1470 iterações é 0.30225118649834354\n",
      "Custo Após 1480 iterações é 0.3017243418392828\n",
      "Custo Após 1490 iterações é 0.3013537682219094\n",
      "Custo Após 1500 iterações é 0.29904861320706366\n",
      "Custo Após 1510 iterações é 0.297707119111105\n",
      "Custo Após 1520 iterações é 0.29560774135697393\n",
      "Custo Após 1530 iterações é 0.29559807300885943\n",
      "Custo Após 1540 iterações é 0.29571793354875087\n",
      "Custo Após 1550 iterações é 0.29420808754917444\n",
      "Custo Após 1560 iterações é 0.2928642019114307\n",
      "Custo Após 1570 iterações é 0.29175223325741445\n",
      "Custo Após 1580 iterações é 0.29063038622312926\n",
      "Custo Após 1590 iterações é 0.29006023597342884\n",
      "Custo Após 1600 iterações é 0.28858723940787945\n",
      "Custo Após 1610 iterações é 0.2883054307683752\n",
      "Custo Após 1620 iterações é 0.2878298820195186\n",
      "Custo Após 1630 iterações é 0.28507927128146165\n",
      "Custo Após 1640 iterações é 0.28485207227621934\n",
      "Custo Após 1650 iterações é 0.2842913151155812\n",
      "Custo Após 1660 iterações é 0.2827927903451702\n",
      "Custo Após 1670 iterações é 0.28327995848657883\n",
      "Custo Após 1680 iterações é 0.28031904742213026\n",
      "Custo Após 1690 iterações é 0.2801905943210442\n",
      "Custo Após 1700 iterações é 0.2794989235664312\n",
      "Custo Após 1710 iterações é 0.27851230816625866\n",
      "Custo Após 1720 iterações é 0.2770883762687429\n",
      "Custo Após 1730 iterações é 0.27736501025385885\n",
      "Custo Após 1740 iterações é 0.2763928860433754\n",
      "Custo Após 1750 iterações é 0.2759608640220252\n",
      "Custo Após 1760 iterações é 0.27332400317275674\n",
      "Custo Após 1770 iterações é 0.26394633353969893\n",
      "Custo Após 1780 iterações é 0.26078440212497855\n",
      "Custo Após 1790 iterações é 0.2597900815025486\n",
      "Custo Após 1800 iterações é 0.2590006866879048\n",
      "Custo Após 1810 iterações é 0.2584958027132671\n",
      "Custo Após 1820 iterações é 0.25707903939626936\n",
      "Custo Após 1830 iterações é 0.2570452558249181\n",
      "Custo Após 1840 iterações é 0.25709006010345525\n",
      "Custo Após 1850 iterações é 0.27367584718022675\n",
      "Custo Após 1860 iterações é 0.2704275934393256\n"
     ]
    },
    {
     "name": "stdout",
     "output_type": "stream",
     "text": [
      "Custo Após 1870 iterações é 0.2653684659487318\n",
      "Custo Após 1880 iterações é 0.2653108465955739\n",
      "Custo Após 1890 iterações é 0.26338329820500106\n",
      "Custo Após 1900 iterações é 0.2595709626924757\n",
      "Custo Após 1910 iterações é 0.2558353103022902\n",
      "Custo Após 1920 iterações é 0.2555726544680688\n",
      "Custo Após 1930 iterações é 0.2546121191043471\n",
      "Custo Após 1940 iterações é 0.2533706723235721\n",
      "Custo Após 1950 iterações é 0.25116166795774136\n",
      "Custo Após 1960 iterações é 0.2524025978147463\n",
      "Custo Após 1970 iterações é 0.25545395163680323\n",
      "Custo Após 1980 iterações é 0.25463640441741836\n",
      "Custo Após 1990 iterações é 0.2528663869589043\n",
      "Custo Após 2000 iterações é 0.25154651084871904\n",
      "Custo Após 2010 iterações é 0.25184454357209046\n",
      "Custo Após 2020 iterações é 0.2514133983160863\n",
      "Custo Após 2030 iterações é 0.25197372011144736\n",
      "Custo Após 2040 iterações é 0.25068102165843653\n",
      "Custo Após 2050 iterações é 0.2512580590585649\n",
      "Custo Após 2060 iterações é 0.24912622759337347\n",
      "Custo Após 2070 iterações é 0.2467588237980263\n",
      "Custo Após 2080 iterações é 0.24564828679783993\n",
      "Custo Após 2090 iterações é 0.24637180837687658\n",
      "Custo Após 2100 iterações é 0.2493240932446563\n",
      "Custo Após 2110 iterações é 0.2470517338817868\n",
      "Custo Após 2120 iterações é 0.2462076458091288\n",
      "Custo Após 2130 iterações é 0.24537027605825998\n",
      "Custo Após 2140 iterações é 0.24439201699670934\n",
      "Custo Após 2150 iterações é 0.24427987321058675\n",
      "Custo Após 2160 iterações é 0.24418586275551213\n",
      "Custo Após 2170 iterações é 0.24428969063913167\n",
      "Custo Após 2180 iterações é 0.24439100986643375\n",
      "Custo Após 2190 iterações é 0.24198146046243782\n",
      "Custo Após 2200 iterações é 0.24028536496227682\n",
      "Custo Após 2210 iterações é 0.24085133629293382\n",
      "Custo Após 2220 iterações é 0.24240175857355192\n",
      "Custo Após 2230 iterações é 0.24161316469053973\n",
      "Custo Após 2240 iterações é 0.23877224793644206\n",
      "Custo Após 2250 iterações é 0.2389381889368505\n",
      "Custo Após 2260 iterações é 0.24055681654737024\n",
      "Custo Após 2270 iterações é 0.23834702732285967\n",
      "Custo Após 2280 iterações é 0.2370549644997877\n",
      "Custo Após 2290 iterações é 0.23641100890293357\n",
      "Custo Após 2300 iterações é 0.23658412491941958\n",
      "Custo Após 2310 iterações é 0.23840689397566037\n",
      "Custo Após 2320 iterações é 0.23767870296192403\n",
      "Custo Após 2330 iterações é 0.23472335342690215\n",
      "Custo Após 2340 iterações é 0.2339209691862798\n",
      "Custo Após 2350 iterações é 0.23365713902906854\n",
      "Custo Após 2360 iterações é 0.23312903105618318\n",
      "Custo Após 2370 iterações é 0.2341914290588009\n",
      "Custo Após 2380 iterações é 0.23532416645771198\n",
      "Custo Após 2390 iterações é 0.23216690154857622\n",
      "Custo Após 2400 iterações é 0.23244438281361351\n",
      "Custo Após 2410 iterações é 0.23207405110480347\n",
      "Custo Após 2420 iterações é 0.23240027721943554\n",
      "Custo Após 2430 iterações é 0.23014709746116607\n",
      "Custo Após 2440 iterações é 0.23010172705995174\n",
      "Custo Após 2450 iterações é 0.2307270789309838\n",
      "Custo Após 2460 iterações é 0.23062925164223277\n",
      "Custo Após 2470 iterações é 0.22856666861416808\n",
      "Custo Após 2480 iterações é 0.2292825988124671\n",
      "Custo Após 2490 iterações é 0.22974897605171593\n",
      "Custo Após 2500 iterações é 0.22889176536815212\n",
      "Custo Após 2510 iterações é 0.22805981924652755\n",
      "Custo Após 2520 iterações é 0.22862238497906784\n",
      "Custo Após 2530 iterações é 0.22730787982503994\n",
      "Custo Após 2540 iterações é 0.22739086282588877\n",
      "Custo Após 2550 iterações é 0.22911213404985464\n",
      "Custo Após 2560 iterações é 0.22666193114444141\n",
      "Custo Após 2570 iterações é 0.2265984757098158\n",
      "Custo Após 2580 iterações é 0.2255513909998748\n",
      "Custo Após 2590 iterações é 0.22590493356033728\n",
      "Custo Após 2600 iterações é 0.2246720317965388\n",
      "Custo Após 2610 iterações é 0.22530963062152562\n",
      "Custo Após 2620 iterações é 0.22460276805611581\n",
      "Custo Após 2630 iterações é 0.2246807152522522\n",
      "Custo Após 2640 iterações é 0.2233350639516041\n",
      "Custo Após 2650 iterações é 0.22448955276558236\n",
      "Custo Após 2660 iterações é 0.22352225216014351\n",
      "Custo Após 2670 iterações é 0.22317455831369307\n",
      "Custo Após 2680 iterações é 0.2225537063032434\n",
      "Custo Após 2690 iterações é 0.2219792982221552\n",
      "Custo Após 2700 iterações é 0.2222715000947485\n",
      "Custo Após 2710 iterações é 0.22181533215000915\n",
      "Custo Após 2720 iterações é 0.22155188143541066\n",
      "Custo Após 2730 iterações é 0.21991227062704616\n",
      "Custo Após 2740 iterações é 0.21644869296723462\n",
      "Custo Após 2750 iterações é 0.21510322171478086\n",
      "Custo Após 2760 iterações é 0.21536192144948357\n",
      "Custo Após 2770 iterações é 0.21480183750095586\n",
      "Custo Após 2780 iterações é 0.21532128131505957\n",
      "Custo Após 2790 iterações é 0.22167029654723344\n",
      "Custo Após 2800 iterações é 0.22891484562983572\n",
      "Custo Após 2810 iterações é 0.22581163268231141\n",
      "Custo Após 2820 iterações é 0.2205272357441249\n",
      "Custo Após 2830 iterações é 0.2151812997001021\n",
      "Custo Após 2840 iterações é 0.21286934682899852\n",
      "Custo Após 2850 iterações é 0.21403129507367705\n",
      "Custo Após 2860 iterações é 0.217065891101696\n",
      "Custo Após 2870 iterações é 0.21662754954499683\n",
      "Custo Após 2880 iterações é 0.2166975044896984\n",
      "Custo Após 2890 iterações é 0.21568495395357748\n",
      "Custo Após 2900 iterações é 0.21394217434412693\n",
      "Custo Após 2910 iterações é 0.21293287115771045\n",
      "Custo Após 2920 iterações é 0.21337663027581513\n",
      "Custo Após 2930 iterações é 0.21391472585623242\n",
      "Custo Após 2940 iterações é 0.2167288369320172\n",
      "Custo Após 2950 iterações é 0.21655164328689397\n",
      "Custo Após 2960 iterações é 0.21373094321222516\n",
      "Custo Após 2970 iterações é 0.2124049337771239\n",
      "Custo Após 2980 iterações é 0.21368921596498883\n",
      "Custo Após 2990 iterações é 0.21194288137767534\n",
      "Custo Após 3000 iterações é 0.21268798281632745\n",
      "Custo Após 3010 iterações é 0.21429337876038412\n",
      "Custo Após 3020 iterações é 0.21343277728250948\n",
      "Custo Após 3030 iterações é 0.21120479168770329\n",
      "Custo Após 3040 iterações é 0.21211850030170198\n",
      "Custo Após 3050 iterações é 0.21062403942898247\n",
      "Custo Após 3060 iterações é 0.21088802518815414\n",
      "Custo Após 3070 iterações é 0.21171099420690945\n",
      "Custo Após 3080 iterações é 0.2114828616864325\n",
      "Custo Após 3090 iterações é 0.21026726575417595\n",
      "Custo Após 3100 iterações é 0.21076537146679108\n",
      "Custo Após 3110 iterações é 0.21090670654810045\n",
      "Custo Após 3120 iterações é 0.21084731416583036\n",
      "Custo Após 3130 iterações é 0.22280900454180486\n",
      "Custo Após 3140 iterações é 0.21929289755350995\n",
      "Custo Após 3150 iterações é 0.21673727719880984\n",
      "Custo Após 3160 iterações é 0.21537665627355726\n",
      "Custo Após 3170 iterações é 0.21453086334559926\n",
      "Custo Após 3180 iterações é 0.2073320061966854\n",
      "Custo Após 3190 iterações é 0.207354377097256\n",
      "Custo Após 3200 iterações é 0.20758297056637223\n",
      "Custo Após 3210 iterações é 0.20774239293881372\n",
      "Custo Após 3220 iterações é 0.20672377908579942\n",
      "Custo Após 3230 iterações é 0.20769163548211042\n",
      "Custo Após 3240 iterações é 0.20564480836625595\n",
      "Custo Após 3250 iterações é 0.20685704931168009\n",
      "Custo Após 3260 iterações é 0.20621720359855042\n",
      "Custo Após 3270 iterações é 0.20626843134422732\n",
      "Custo Após 3280 iterações é 0.2069699417369726\n",
      "Custo Após 3290 iterações é 0.20988665058357392\n",
      "Custo Após 3300 iterações é 0.21590849873723794\n",
      "Custo Após 3310 iterações é 0.21384730992079778\n",
      "Custo Após 3320 iterações é 0.20821035121096282\n",
      "Custo Após 3330 iterações é 0.20559234764526205\n",
      "Custo Após 3340 iterações é 0.20517658191919086\n",
      "Custo Após 3350 iterações é 0.20576884807183174\n",
      "Custo Após 3360 iterações é 0.20591741433161267\n",
      "Custo Após 3370 iterações é 0.20739875249212972\n",
      "Custo Após 3380 iterações é 0.2071215223765241\n",
      "Custo Após 3390 iterações é 0.21289475236094627\n",
      "Custo Após 3400 iterações é 0.21112000892129665\n",
      "Custo Após 3410 iterações é 0.21042856312219377\n",
      "Custo Após 3420 iterações é 0.21125469198473243\n",
      "Custo Após 3430 iterações é 0.21060631840359745\n",
      "Custo Após 3440 iterações é 0.21140546799262663\n",
      "Custo Após 3450 iterações é 0.20975348949990472\n",
      "Custo Após 3460 iterações é 0.20948001840166589\n",
      "Custo Após 3470 iterações é 0.20905736016546272\n",
      "Custo Após 3480 iterações é 0.2061662995834953\n",
      "Custo Após 3490 iterações é 0.20453555136828183\n",
      "Custo Após 3500 iterações é 0.2020728200390323\n",
      "Custo Após 3510 iterações é 0.20294272772557406\n",
      "Custo Após 3520 iterações é 0.2058215747170925\n",
      "Custo Após 3530 iterações é 0.2062486524147166\n",
      "Custo Após 3540 iterações é 0.20577032754632682\n",
      "Custo Após 3550 iterações é 0.20439033116525807\n",
      "Custo Após 3560 iterações é 0.20515910477639884\n",
      "Custo Após 3570 iterações é 0.2049354145710861\n",
      "Custo Após 3580 iterações é 0.20482887560928212\n",
      "Custo Após 3590 iterações é 0.20406113358079178\n",
      "Custo Após 3600 iterações é 0.20258453424020528\n"
     ]
    },
    {
     "name": "stdout",
     "output_type": "stream",
     "text": [
      "Custo Após 3610 iterações é 0.2020201467020285\n",
      "Custo Após 3620 iterações é 0.20517233026772724\n",
      "Custo Após 3630 iterações é 0.20833289049684758\n",
      "Custo Após 3640 iterações é 0.2030121879673675\n",
      "Custo Após 3650 iterações é 0.20092312639125845\n",
      "Custo Após 3660 iterações é 0.20183160623671648\n",
      "Custo Após 3670 iterações é 0.20377609108454572\n",
      "Custo Após 3680 iterações é 0.20360612700644526\n",
      "Custo Após 3690 iterações é 0.2021459209648307\n",
      "Custo Após 3700 iterações é 0.20004600742779358\n",
      "Custo Após 3710 iterações é 0.20039199049386566\n",
      "Custo Após 3720 iterações é 0.20362668143403914\n",
      "Custo Após 3730 iterações é 0.2022041237234659\n",
      "Custo Após 3740 iterações é 0.20240411003447958\n",
      "Custo Após 3750 iterações é 0.20290577786370634\n",
      "Custo Após 3760 iterações é 0.20132184158546496\n",
      "Custo Após 3770 iterações é 0.2009944399656945\n",
      "Custo Após 3780 iterações é 0.20138565505961778\n",
      "Custo Após 3790 iterações é 0.2008148845973856\n",
      "Custo Após 3800 iterações é 0.20034604796904248\n",
      "Custo Após 3810 iterações é 0.20060333773415223\n",
      "Custo Após 3820 iterações é 0.2007823647674882\n",
      "Custo Após 3830 iterações é 0.2024258194029297\n",
      "Custo Após 3840 iterações é 0.20144712623436517\n",
      "Custo Após 3850 iterações é 0.19934831378759618\n",
      "Custo Após 3860 iterações é 0.19931825258796865\n",
      "Custo Após 3870 iterações é 0.19853148959311348\n",
      "Custo Após 3880 iterações é 0.1991313610561215\n",
      "Custo Após 3890 iterações é 0.19869956892716\n",
      "Custo Após 3900 iterações é 0.20035759552036336\n",
      "Custo Após 3910 iterações é 0.2003713124096348\n",
      "Custo Após 3920 iterações é 0.19904798492041328\n",
      "Custo Após 3930 iterações é 0.19979269757544973\n",
      "Custo Após 3940 iterações é 0.197757830022482\n",
      "Custo Após 3950 iterações é 0.19957257162794667\n",
      "Custo Após 3960 iterações é 0.2003654355444848\n",
      "Custo Após 3970 iterações é 0.19835857760102008\n",
      "Custo Após 3980 iterações é 0.19800741309760791\n",
      "Custo Após 3990 iterações é 0.19846520858060734\n",
      "\n",
      "Treinamento Concluido.\n",
      "\n"
     ]
    }
   ],
   "source": [
    "# Treinamento do modelo (num_iteration = 4000 e learning_rate = 0.0100)\n",
    "print('\\nIniciando o Treinamento.\\n')\n",
    "\n",
    "parametros, custo = modeloNN(X = X_treino,\n",
    "                             Y = y_treino,\n",
    "                             dims_camada_entrada = dims_camada_entrada,\n",
    "                             num_iterations = 4000,\n",
    "                             learning_rate = 0.0100)\n",
    "\n",
    "print('\\nTreinamento Concluido.\\n')"
   ]
  },
  {
   "cell_type": "code",
   "execution_count": 55,
   "metadata": {},
   "outputs": [
    {
     "data": {
      "text/plain": [
       "[<matplotlib.lines.Line2D at 0x157db220d88>]"
      ]
     },
     "execution_count": 55,
     "metadata": {},
     "output_type": "execute_result"
    },
    {
     "data": {
      "image/png": "[encoded data removed]",
      "text/plain": [
       "<Figure size 432x288 with 1 Axes>"
      ]
     },
     "metadata": {
      "needs_background": "light"
     },
     "output_type": "display_data"
    }
   ],
   "source": [
    "# Plot do erro durante o treinamento\n",
    "plt.plot(custo)"
   ]
  },
  {
   "cell_type": "code",
   "execution_count": 56,
   "metadata": {},
   "outputs": [],
   "source": [
    "# Previsoes com os dados de treino na melhor versao alcancada\n",
    "# num_iterations = 4000\n",
    "# learning_rate = 0.0100\n",
    "y_pred_treino = predict(X_treino, parametros)"
   ]
  },
  {
   "cell_type": "code",
   "execution_count": 57,
   "metadata": {},
   "outputs": [],
   "source": [
    "# Ajuste do shape em treino\n",
    "y_pred_treino = y_pred_treino.reshape(-1)\n",
    "y_treino = y_treino.reshape(-1)"
   ]
  },
  {
   "cell_type": "code",
   "execution_count": 58,
   "metadata": {},
   "outputs": [],
   "source": [
    "# Convertemos as previsões para o valor binário de classe \n",
    "# (0 ou 1, usando como threshold o valor de 0.5 da probabilidade)\n",
    "y_pred_treino = 1 * (y_pred_treino > 0.5)"
   ]
  },
  {
   "cell_type": "code",
   "execution_count": 59,
   "metadata": {},
   "outputs": [],
   "source": [
    "# Calculamos a acuracia comparando valor real com valor previsto\n",
    "acc_treino_novo1 = sum(1 * (y_pred_treino == y_treino)) / len(y_pred_treino) * 100"
   ]
  },
  {
   "cell_type": "code",
   "execution_count": 60,
   "metadata": {},
   "outputs": [
    {
     "name": "stdout",
     "output_type": "stream",
     "text": [
      "Acuracia nos dados de treino: 92.33954451345755 %\n"
     ]
    }
   ],
   "source": [
    "print('Acuracia nos dados de treino: ' + str(acc_treino_novo1) + ' %')"
   ]
  },
  {
   "cell_type": "code",
   "execution_count": 61,
   "metadata": {},
   "outputs": [
    {
     "name": "stdout",
     "output_type": "stream",
     "text": [
      "              precision    recall  f1-score   support\n",
      "\n",
      "     Maligno       0.91      0.88      0.89       176\n",
      "     Beingno       0.93      0.95      0.94       307\n",
      "\n",
      "    accuracy                           0.92       483\n",
      "   macro avg       0.92      0.91      0.92       483\n",
      "weighted avg       0.92      0.92      0.92       483\n",
      "\n"
     ]
    }
   ],
   "source": [
    "print(classification_report(y_treino, y_pred_treino, target_names = ['Maligno', 'Beingno']))"
   ]
  },
  {
   "cell_type": "code",
   "execution_count": 62,
   "metadata": {},
   "outputs": [],
   "source": [
    "# Previsoes com o modelo usando dados de teste\n",
    "y_pred_teste = predict(X_teste, parametros)"
   ]
  },
  {
   "cell_type": "code",
   "execution_count": 63,
   "metadata": {},
   "outputs": [
    {
     "data": {
      "text/plain": [
       "array([[8.95096094e-01, 9.27908941e-01, 7.88709018e-01, 2.72557380e-06,\n",
       "        8.24443205e-13, 7.45400041e-01, 9.27926855e-01, 3.32147188e-10,\n",
       "        2.72365936e-01, 9.27900407e-01, 9.27927370e-01, 6.77325548e-01,\n",
       "        9.08156681e-01, 9.13041890e-01, 1.23873550e-04, 5.66253928e-06,\n",
       "        9.27914819e-01, 8.82062571e-01, 9.23406452e-01, 6.21537238e-04,\n",
       "        3.97408485e-01, 1.61105514e-01, 1.47307411e-17, 2.80920784e-05,\n",
       "        8.88728138e-01, 3.62175192e-02, 9.27930379e-01, 1.83750828e-04,\n",
       "        1.60527585e-06, 6.84967545e-01, 8.87137093e-01, 8.37567906e-01,\n",
       "        7.33248599e-05, 1.57570986e-10, 1.42111931e-02, 9.27898619e-01,\n",
       "        1.92286820e-01, 8.10265801e-01, 1.15046854e-05, 9.27948558e-01,\n",
       "        2.43864758e-06, 9.17835853e-01, 9.27934192e-01, 4.18291257e-19,\n",
       "        8.85260411e-01, 4.34660973e-02, 9.15171042e-01, 6.43881054e-01,\n",
       "        1.30746631e-03, 5.60363463e-03, 9.27903292e-01, 8.50579472e-01,\n",
       "        9.23119761e-01, 2.29726680e-03, 8.39973254e-01, 1.91211302e-01,\n",
       "        9.27910140e-01, 2.88495020e-06, 8.70805054e-01, 9.27905412e-01,\n",
       "        6.42535866e-01, 5.03576654e-01, 8.64438552e-01, 4.04806472e-04,\n",
       "        9.27906462e-01, 9.27907704e-01, 8.99599801e-01, 3.86123512e-02,\n",
       "        1.41827668e-03, 6.04020625e-01, 7.71577882e-01, 7.70411036e-01,\n",
       "        9.23508456e-01, 7.04833858e-01, 9.27951776e-01, 9.27923459e-01,\n",
       "        1.68937629e-02, 9.13609185e-01, 5.82796624e-08, 2.23626652e-01,\n",
       "        9.27908747e-01, 9.27933316e-01, 9.27910297e-01, 8.84998136e-01,\n",
       "        9.25771333e-01, 9.27892796e-01]])"
      ]
     },
     "execution_count": 63,
     "metadata": {},
     "output_type": "execute_result"
    }
   ],
   "source": [
    "# Visualiza os dados\n",
    "y_pred_teste"
   ]
  },
  {
   "cell_type": "code",
   "execution_count": 64,
   "metadata": {},
   "outputs": [],
   "source": [
    "# Ajuste do shape\n",
    "y_pred_teste = y_pred_teste.reshape(-1)\n",
    "y_teste = y_teste.reshape(-1)"
   ]
  },
  {
   "cell_type": "code",
   "execution_count": 65,
   "metadata": {},
   "outputs": [],
   "source": [
    "# Convertendo os valores da classe de teste para binario\n",
    "y_pred_teste = 1 * (y_pred_teste > 0.5)"
   ]
  },
  {
   "cell_type": "code",
   "execution_count": 66,
   "metadata": {},
   "outputs": [
    {
     "data": {
      "text/plain": [
       "array([1, 1, 1, 0, 0, 1, 1, 0, 0, 1, 1, 1, 1, 1, 0, 0, 1, 1, 1, 0, 0, 0,\n",
       "       0, 0, 1, 0, 1, 0, 0, 1, 1, 1, 0, 0, 0, 1, 0, 1, 0, 1, 0, 1, 1, 0,\n",
       "       1, 0, 1, 1, 0, 0, 1, 1, 1, 0, 1, 0, 1, 0, 1, 1, 1, 1, 1, 0, 1, 1,\n",
       "       1, 0, 0, 1, 1, 1, 1, 1, 1, 1, 0, 1, 0, 0, 1, 1, 1, 1, 1, 1])"
      ]
     },
     "execution_count": 66,
     "metadata": {},
     "output_type": "execute_result"
    }
   ],
   "source": [
    "y_pred_teste"
   ]
  },
  {
   "cell_type": "code",
   "execution_count": 67,
   "metadata": {},
   "outputs": [],
   "source": [
    "# Calculo da acuracia\n",
    "acuracia_new1 = sum(1 * (y_pred_teste == y_teste)) / len(y_pred_teste) * 100"
   ]
  },
  {
   "cell_type": "code",
   "execution_count": 68,
   "metadata": {},
   "outputs": [
    {
     "name": "stdout",
     "output_type": "stream",
     "text": [
      "Acuracia nos dados de teste: 94.18604651162791 %\n"
     ]
    }
   ],
   "source": [
    "print('Acuracia nos dados de teste: ' + str(acuracia_new1) + ' %')"
   ]
  },
  {
   "cell_type": "code",
   "execution_count": 69,
   "metadata": {},
   "outputs": [
    {
     "name": "stdout",
     "output_type": "stream",
     "text": [
      "              precision    recall  f1-score   support\n",
      "\n",
      "     Maligno       0.97      0.89      0.93        36\n",
      "     Benigno       0.92      0.98      0.95        50\n",
      "\n",
      "    accuracy                           0.94        86\n",
      "   macro avg       0.95      0.93      0.94        86\n",
      "weighted avg       0.94      0.94      0.94        86\n",
      "\n"
     ]
    }
   ],
   "source": [
    "print(classification_report(y_teste, y_pred_teste, target_names = ['Maligno', 'Benigno']))"
   ]
  },
  {
   "cell_type": "markdown",
   "metadata": {},
   "source": [
    "Acuracia nos dados de treino: 92.3%\n",
    "\n",
    "Acuracia nos dados de teste: 94.2%\n",
    "\n",
    "Ha um forte indicativo que nosso modelo \"overfitou\""
   ]
  }
 ],
 "metadata": {
  "kernelspec": {
   "display_name": "Python 3",
   "language": "python",
   "name": "python3"
  },
  "language_info": {
   "codemirror_mode": {
    "name": "ipython",
    "version": 3
   },
   "file_extension": ".py",
   "mimetype": "text/x-python",
   "name": "python",
   "nbconvert_exporter": "python",
   "pygments_lexer": "ipython3",
   "version": "3.7.6"
  }
 },
 "nbformat": 4,
 "nbformat_minor": 4
}
